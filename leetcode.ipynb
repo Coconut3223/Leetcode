{
  "nbformat": 4,
  "nbformat_minor": 0,
  "metadata": {
    "colab": {
      "provenance": [],
      "authorship_tag": "ABX9TyMXJ2q4xZCIoMTtdYWNXqAX",
      "include_colab_link": true
    },
    "kernelspec": {
      "name": "python3",
      "display_name": "Python 3"
    },
    "language_info": {
      "name": "python"
    }
  },
  "cells": [
    {
      "cell_type": "markdown",
      "metadata": {
        "id": "view-in-github",
        "colab_type": "text"
      },
      "source": [
        "<a href=\"https://colab.research.google.com/github/Coconut3223/Leetcode/blob/main/leetcode.ipynb\" target=\"_parent\"><img src=\"https://colab.research.google.com/assets/colab-badge.svg\" alt=\"Open In Colab\"/></a>"
      ]
    },
    {
      "cell_type": "markdown",
      "source": [
        "question_link = https://leetcode.cn/problems/ + #@title\n",
        "\n",
        "follow： [代码随想录](https://programmercarl.com)\n",
        "\n",
        "\n"
      ],
      "metadata": {
        "id": "d5CstS8uVqtE"
      }
    },
    {
      "cell_type": "markdown",
      "source": [
        "### 二分查找\n",
        "\n",
        "要求：有序，无重复\n",
        "\n",
        "优点：比较次数少，查找速度快，平均性能好；\n",
        "\n",
        "缺点：要求待查表为有序表，且插入删除困难。\n",
        "\n",
        "时间复杂度：\n",
        "\n",
        "最好时间复杂度：O(1)\n",
        "\n",
        "最坏时间复杂度：O(n)\n",
        "\n",
        "平均时间复杂度：O(logn)\n",
        "\n",
        "最好情况\t最差情况\n",
        "\n",
        "刚好是中位数\t①找不到\n",
        "\n",
        "②K次二分之后,每个区间的大小为1,找到想要的元素\n",
        "\n",
        "C(n)<=    1 若n=1\n",
        "                 1+C(n/2) 若n>=2\n",
        "C(n)=log2n\n",
        "\n",
        "空间复杂度：O(logn)：递归深度为O(logn),并且由于每个递归层次需要 (1)的空间，所需空间总量是O(logn)\n",
        "\n",
        "优化： 划分为1/3和2/3\n"
      ],
      "metadata": {
        "id": "LrII-r0M40Uk"
      }
    },
    {
      "cell_type": "code",
      "execution_count": null,
      "metadata": {
        "id": "_kuDaos94wx2",
        "colab": {
          "base_uri": "https://localhost:8080/"
        },
        "outputId": "f58fa122-b05f-4895-f287-d977c3e7ad1e",
        "cellView": "form"
      },
      "outputs": [
        {
          "output_type": "execute_result",
          "data": {
            "text/plain": [
              "-1"
            ]
          },
          "metadata": {},
          "execution_count": 9
        }
      ],
      "source": [
        "#@title 704. Binary_Search 二分查找  { vertical-output: true,form-width: \"40%\" }\n",
        "nums = [-1,0,3,5,9,12] #@param {type:\"raw\"}\n",
        "target = 9 #@param {type:\"integer\"} \n",
        "wrong = \" j = len(nums) - 1 \" #@param {type:\"string\"}\n",
        "\n",
        "class Solution:\n",
        "    def search(self, nums: list[int], target: int) -> int:\n",
        "        i = 0\n",
        "        j = len(nums) - 1 \n",
        "\n",
        "        while i<=j:\n",
        "            k = (i+j) // 2\n",
        "            if nums[k] == target:\n",
        "                return k\n",
        "                break\n",
        "            elif nums[k] > target:\n",
        "                j = k-1\n",
        "            else:\n",
        "                i = k+1\n",
        "        return -1\n",
        "\n",
        "sol  = Solution()\n",
        "sol.search(nums, target)"
      ]
    },
    {
      "cell_type": "code",
      "source": [
        "#@title 35. Search Insert Position { vertical-output: true,form-width: \"40%\" }\n",
        "nums = [1,3,5,6] #@param {type:\"raw\"}\n",
        "target = 8 #@param {type:\"integer\"}\n",
        "\n",
        "class Solution:\n",
        "    def search(self, nums: list[int], target: int) -> int:\n",
        "        i = 0\n",
        "        j = len(nums) - 1 \n",
        "\n",
        "        while i<=j:\n",
        "            k = (i+j) // 2\n",
        "            if nums[k] == target:\n",
        "                return k\n",
        "                break\n",
        "            elif nums[k] > target:\n",
        "                j = k-1\n",
        "            else:\n",
        "                i = k+1\n",
        "        return -1\n",
        "sol  = Solution()\n",
        "sol.search(nums, target)"
      ],
      "metadata": {
        "id": "sa68nKry9VsC",
        "colab": {
          "base_uri": "https://localhost:8080/"
        },
        "outputId": "2875cdb2-9373-4122-cc2e-7a03865fee51",
        "cellView": "form"
      },
      "execution_count": null,
      "outputs": [
        {
          "output_type": "execute_result",
          "data": {
            "text/plain": [
              "-1"
            ]
          },
          "metadata": {},
          "execution_count": 13
        }
      ]
    },
    {
      "cell_type": "code",
      "source": [
        "#@title 34. Find First and Last Position of Element in Sorted Array {vertical-output: true,form-width: \"40%\" }\n",
        "nums = [0] #@param {type:\"raw\"}\n",
        "target = 0 #@param {type:\"integer\"}\n",
        "special =\" nums=[ ], target=0 => [-1, -1] \" #@param {type:\"string\"}\n",
        "wrong =  \"idea , 【medium】\"  #@param {type:\"string\"}\n",
        "\n",
        "class Solution:\n",
        "    def searchRange(self, nums: list[int], target: int) -> list[int]:\n",
        "        i = 0\n",
        "        j = len(nums)-1\n",
        "        s = -1\n",
        "        # binary search for the start and check if exist\n",
        "        while i <= j:\n",
        "            k = (i+j)//2\n",
        "            if nums[k] >= target:\n",
        "                if nums[k] == target:\n",
        "                    s = k\n",
        "                j = k-1\n",
        "            else:\n",
        "                i = k+1\n",
        "        if s == -1:\n",
        "            return [-1, -1]\n",
        "        # binary search for the end\n",
        "        i = s \n",
        "        j = len(nums)-1\n",
        "        while i <= j:\n",
        "            k = (i+j)//2\n",
        "            if nums[k] <= target:\n",
        "                if nums[k] == target:\n",
        "                    e = k\n",
        "                i = k+1\n",
        "            else:\n",
        "                j = k-1\n",
        "        return [s, e]\n",
        "\n",
        "sol  = Solution()\n",
        "sol.searchRange(nums, target)"
      ],
      "metadata": {
        "id": "W_hNJLh3-s5h",
        "colab": {
          "base_uri": "https://localhost:8080/"
        },
        "outputId": "52f21813-3831-4899-f4e5-bb5d0a530cef",
        "cellView": "form"
      },
      "execution_count": 51,
      "outputs": [
        {
          "output_type": "execute_result",
          "data": {
            "text/plain": [
              "[0, 0]"
            ]
          },
          "metadata": {},
          "execution_count": 51
        }
      ]
    },
    {
      "cell_type": "code",
      "source": [
        "#@title 69. sqrtx { vertical-output: true, form-width: \"40%\" }\n",
        "x = 8 #@param {type:\"integer\"}\n",
        "key =  \"记得缓存结果，否则也是慢的，牛顿迭代法(还没看)\"  #@param {type:\"string\"}\n",
        "\n",
        "class Solution:\n",
        "    def mySqrt(self, x: int) -> int:\n",
        "        i = 0\n",
        "        j = x\n",
        "        while i <= j:\n",
        "            k = (i+j) // 2\n",
        "            res = k*k\n",
        "            if res == x:\n",
        "                return k\n",
        "            elif res > x:\n",
        "                j = k-1\n",
        "            else:\n",
        "                i = k+1\n",
        "                if i*i > x:\n",
        "                    return k\n",
        "\n",
        "\n",
        "\"\"\"\n",
        "class Solution:\n",
        "    def mySqrt(self, x):\n",
        "        #:type x: int\n",
        "        #:rtype: int\n",
        "        if x <= 1:\n",
        "            return x\n",
        "        r = x\n",
        "        while r > x / r:\n",
        "            r = (r + x / r) // 2\n",
        "        return int(r)\n",
        "\"\"\"\n",
        "sol  = Solution()\n",
        "sol.mySqrt(x)"
      ],
      "metadata": {
        "id": "HF9X28llZBmE",
        "colab": {
          "base_uri": "https://localhost:8080/"
        },
        "outputId": "e6c9a071-e7d1-4123-f7e4-4d06baba3454",
        "cellView": "form"
      },
      "execution_count": null,
      "outputs": [
        {
          "output_type": "execute_result",
          "data": {
            "text/plain": [
              "2"
            ]
          },
          "metadata": {},
          "execution_count": 24
        }
      ]
    },
    {
      "cell_type": "code",
      "source": [
        "#@title 367. Valid Perfect Square {vertical-output: true, form-width: \"40%\" }\n",
        "num = 16  #@param {type:\"integer\"}\n",
        "\n",
        "class Solution:\n",
        "    def isPerfectSquare(self, num: int) -> bool:\n",
        "        i = 0\n",
        "        j = num\n",
        "        while i<=j:\n",
        "            k = (i+j) // 2\n",
        "            res = k*k\n",
        "            if res == num:\n",
        "                return True\n",
        "            elif res < num:\n",
        "                i = k+1\n",
        "            else:\n",
        "                j = k-1\n",
        "        return False\n",
        "sol  = Solution()\n",
        "sol.isPerfectSquare(num)"
      ],
      "metadata": {
        "id": "L2AElm2Yfxuc",
        "colab": {
          "base_uri": "https://localhost:8080/"
        },
        "outputId": "9fc9a8d1-2a5a-4b1a-dd80-14f7f799b03e",
        "cellView": "form"
      },
      "execution_count": null,
      "outputs": [
        {
          "output_type": "execute_result",
          "data": {
            "text/plain": [
              "True"
            ]
          },
          "metadata": {},
          "execution_count": 27
        }
      ]
    },
    {
      "cell_type": "markdown",
      "source": [
        "## 双指针\n",
        "- left - right 不要求相对顺序\n",
        "- slow - fast 要求相对顺序\n"
      ],
      "metadata": {
        "id": "2vnwGM1BUlxU"
      }
    },
    {
      "cell_type": "code",
      "source": [
        "#@title 27. remove-element {vertical-output: true, form-width: \"40%\" }\n",
        "nums = [3,2,2,3]  #@param {type:\"raw\"}\n",
        "val = 3  #@param {type:\"integer\"}\n",
        "key = \"不要求相对顺序，所以用left-right双指针 \"#@param {type:\"string\"}\n",
        "class Solution:\n",
        "    def removeElement(self, nums: list[int], val: int) -> int:\n",
        "        left = 0 \n",
        "        right = len(nums)-1\n",
        "        while left <= right:\n",
        "                \n",
        "            if nums[left] == val:\n",
        "                nums[left] = nums[right]\n",
        "                right -= 1\n",
        "            else:\n",
        "                left += 1\n",
        "        print(nums[:left])\n",
        "        return left\n",
        "sol  = Solution()\n",
        "sol.removeElement(nums, val)"
      ],
      "metadata": {
        "colab": {
          "base_uri": "https://localhost:8080/"
        },
        "cellView": "form",
        "id": "NFsgFRnCUkwA",
        "outputId": "cb982cee-0458-4914-85f8-de07df673d78"
      },
      "execution_count": 10,
      "outputs": [
        {
          "output_type": "stream",
          "name": "stdout",
          "text": [
            "[2, 2]\n"
          ]
        },
        {
          "output_type": "execute_result",
          "data": {
            "text/plain": [
              "2"
            ]
          },
          "metadata": {},
          "execution_count": 10
        }
      ]
    },
    {
      "cell_type": "code",
      "source": [
        "#@title 27. remove-duplicates-from-sorted-array {vertical-output: true, form-width: \"40%\" }\n",
        "nums = []  #@param {type:\"raw\"}\n",
        "key = \"要求相对顺序，所以用slow-fast双指针 \"#@param {type:\"string\"}\n",
        "class Solution:\n",
        "    def removeDuplicates(self, nums: list[int]) -> int:\n",
        "        slow = 0\n",
        "        idex = []\n",
        "        for fast in range(len(nums)):\n",
        "            if nums[fast] in idex:\n",
        "                pass\n",
        "            else:\n",
        "                idex.append(nums[fast])\n",
        "                nums[slow] = nums[fast]\n",
        "                slow +=1\n",
        "        print(nums[:slow])\n",
        "        return slow \n",
        "sol  = Solution()\n",
        "sol.removeDuplicates(nums)"
      ],
      "metadata": {
        "colab": {
          "base_uri": "https://localhost:8080/"
        },
        "cellView": "form",
        "id": "VWaoCULmW9Wo",
        "outputId": "636539b1-e81c-4adc-a92c-f1c187f4da2e"
      },
      "execution_count": 38,
      "outputs": [
        {
          "output_type": "stream",
          "name": "stdout",
          "text": [
            "[]\n"
          ]
        },
        {
          "output_type": "execute_result",
          "data": {
            "text/plain": [
              "0"
            ]
          },
          "metadata": {},
          "execution_count": 38
        }
      ]
    },
    {
      "cell_type": "code",
      "source": [
        "#@title 283. move-zeroes {vertical-output: true, form-width: \"40%\" }\n",
        "nums = [0]  #@param {type:\"raw\"}\n",
        "key = \"要求相对顺序，所以用slow-fast双指针 \"#@param {type:\"string\"}\n",
        "\n",
        "class Solution:\n",
        "    def moveZeroes(self, nums: list[int]) -> None:\n",
        "        \"\"\"\n",
        "        Do not return anything, modify nums in-place instead.\n",
        "        \"\"\"\n",
        "        slow = 0\n",
        "        for fast in range(len(nums)):\n",
        "            if nums[fast] == 0:\n",
        "                pass\n",
        "            else:\n",
        "                nums[slow] = nums[fast]\n",
        "                slow += 1\n",
        "        while slow < len(nums):\n",
        "            nums[slow] = 0\n",
        "            slow += 1\n",
        "        print(nums)\n",
        "sol  = Solution()\n",
        "sol.moveZeroes(nums)"
      ],
      "metadata": {
        "colab": {
          "base_uri": "https://localhost:8080/"
        },
        "id": "vrI5X7TlX44K",
        "outputId": "977393a1-b8d4-4df5-d007-7baad8f3a52c"
      },
      "execution_count": 50,
      "outputs": [
        {
          "output_type": "stream",
          "name": "stdout",
          "text": [
            "[0]\n"
          ]
        }
      ]
    },
    {
      "cell_type": "code",
      "source": [
        "#@title 844. backspace-string-compare {vertical-output: true, form-width: \"40%\" }\n",
        "s = \"c##vnvr\"  #@param {type:\"string\"}\n",
        "t = \"c##vn#nvr\"  #@param {type:\"string\"}\n",
        "wrong = \"'c##vnvr' & 'c##vn#nvr' => 增加判断slow !=0 \" #@param {type:\"string\"}\n",
        "class Solution:\n",
        "    def get_gt(self, s:str) -> str:\n",
        "        gt_s = \"\"\n",
        "        slow = 0\n",
        "        fast = 0\n",
        "        while s[fast] == \"#\":\n",
        "            fast +=1\n",
        "        while fast < len(s):\n",
        "            if s[fast] != \"#\":\n",
        "                gt_s += str(s[fast])\n",
        "                slow += 1\n",
        "            elif slow !=0 :\n",
        "                gt_s = gt_s[:slow-1]\n",
        "                slow -= 1\n",
        "            fast += 1\n",
        "        return gt_s\n",
        "                \n",
        "    def backspaceCompare(self, s: str, t: str) -> bool:\n",
        "        gt_s = self.get_gt(s)\n",
        "        gt_t = self.get_gt(t)\n",
        "        print(gt_s, gt_t)\n",
        "        return gt_s == gt_t\n",
        "\n",
        "sol  = Solution()\n",
        "sol.backspaceCompare(s, t)"
      ],
      "metadata": {
        "colab": {
          "base_uri": "https://localhost:8080/"
        },
        "id": "k3YPFB4zgCc9",
        "outputId": "9b225d85-8f97-45ca-f05f-e133c478fa9b"
      },
      "execution_count": 88,
      "outputs": [
        {
          "output_type": "stream",
          "name": "stdout",
          "text": [
            "vnvr vnvr\n"
          ]
        },
        {
          "output_type": "execute_result",
          "data": {
            "text/plain": [
              "True"
            ]
          },
          "metadata": {},
          "execution_count": 88
        }
      ]
    },
    {
      "cell_type": "code",
      "source": [
        "#@title 977. squares-of-a-sorted-array {vertical-output: true, form-width: \"40%\" }\n",
        "nums = [-5,-4,-3,0,4]  #@param {type:\"raw\"}\n",
        "anger = \"救命怎么能把空间复杂度搞低一点，进阶：T(n)=O(n) \" #@param {type:\"string\"}\n",
        "class Solution:\n",
        "    def sortedSquares(self, nums: list[int]) -> list[int]:\n",
        "        square = [i**2 for i in nums]\n",
        "        left = 0\n",
        "        right = len(nums)-1\n",
        "        k = right\n",
        "        while left <= right:\n",
        "            if square[left] > square[right]:\n",
        "                nums[k] = square[left]\n",
        "                left += 1\n",
        "            else:\n",
        "                nums[k] = square[right]\n",
        "                right -=1\n",
        "            k -= 1\n",
        "        return nums\n",
        "sol  = Solution()\n",
        "sol.sortedSquares(nums)"
      ],
      "metadata": {
        "colab": {
          "base_uri": "https://localhost:8080/"
        },
        "id": "L6XyNzAlvzJK",
        "outputId": "c0e7d5c0-2548-4ef2-8e62-27a02e236325"
      },
      "execution_count": 111,
      "outputs": [
        {
          "output_type": "execute_result",
          "data": {
            "text/plain": [
              "[0, 9, 16, 16, 25]"
            ]
          },
          "metadata": {},
          "execution_count": 111
        }
      ]
    }
  ]
}