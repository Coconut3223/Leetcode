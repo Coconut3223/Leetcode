{
  "nbformat": 4,
  "nbformat_minor": 0,
  "metadata": {
    "colab": {
      "provenance": [],
      "authorship_tag": "ABX9TyMSYSqbcGc58U8uA0W7qLkM"
    },
    "kernelspec": {
      "name": "python3",
      "display_name": "Python 3"
    },
    "language_info": {
      "name": "python"
    }
  },
  "cells": [
    {
      "cell_type": "markdown",
      "source": [
        "question_link = https://leetcode.cn/problems/ + #@title\n",
        "\n",
        "follow： [代码随想录](https://programmercarl.com)\n",
        "\n",
        "\n"
      ],
      "metadata": {
        "id": "d5CstS8uVqtE"
      }
    },
    {
      "cell_type": "markdown",
      "source": [
        "### 二分查找\n",
        "\n",
        "要求：有序，无重复\n",
        "\n",
        "优点：比较次数少，查找速度快，平均性能好；\n",
        "\n",
        "缺点：要求待查表为有序表，且插入删除困难。\n",
        "\n",
        "时间复杂度：\n",
        "\n",
        "最好时间复杂度：O(1)\n",
        "\n",
        "最坏时间复杂度：O(n)\n",
        "\n",
        "平均时间复杂度：O(logn)\n",
        "\n",
        "最好情况\t最差情况\n",
        "\n",
        "刚好是中位数\t①找不到\n",
        "\n",
        "②K次二分之后,每个区间的大小为1,找到想要的元素\n",
        "\n",
        "C(n)<=    1 若n=1\n",
        "                 1+C(n/2) 若n>=2\n",
        "C(n)=log2n\n",
        "\n",
        "空间复杂度：O(logn)：递归深度为O(logn),并且由于每个递归层次需要 (1)的空间，所需空间总量是O(logn)\n",
        "\n",
        "优化： 划分为1/3和2/3\n"
      ],
      "metadata": {
        "id": "LrII-r0M40Uk"
      }
    },
    {
      "cell_type": "code",
      "execution_count": null,
      "metadata": {
        "id": "_kuDaos94wx2"
      },
      "outputs": [],
      "source": [
        "#@title 704. Binary_Search 二分查找  { form-width: \"40%\" }\n",
        "nums = [-1,0,3,5,9,12] #@param {type:\"raw\"}\n",
        "target = 9 => 4, 2 => -1, 13 => -1 #@param {type:\"raw\"}\n",
        "wrong =  j = len(nums) - 1  #@param {type:\"raw\"}\n",
        "\n",
        "\n",
        "class Solution:\n",
        "    def search(self, nums: List[int], target: int) -> int:\n",
        "        i = 0\n",
        "        j = len(nums) - 1 \n",
        "\n",
        "        while i<=j:\n",
        "            k = (i+j) // 2\n",
        "            if nums[k] == target:\n",
        "                return k\n",
        "                break\n",
        "            elif nums[k] > target:\n",
        "                j = k-1\n",
        "            else:\n",
        "                i = k+1\n",
        "        return -1"
      ]
    },
    {
      "cell_type": "code",
      "source": [
        "#@title 35. Search Insert Position { form-width: \"40%\" }\n",
        "nums = [1,3,5,6] #@param {type:\"raw\"}\n",
        "target = 5 => 2, 2 => 1, 7 => 4 #@param {type:\"raw\"}\n",
        "\n",
        "class Solution:\n",
        "    def search(self, nums: List[int], target: int) -> int:\n",
        "        i = 0\n",
        "        j = len(nums) - 1 \n",
        "\n",
        "        while i<=j:\n",
        "            k = (i+j) // 2\n",
        "            if nums[k] == target:\n",
        "                return k\n",
        "                break\n",
        "            elif nums[k] > target:\n",
        "                j = k-1\n",
        "            else:\n",
        "                i = k+1\n",
        "        return -1"
      ],
      "metadata": {
        "id": "sa68nKry9VsC"
      },
      "execution_count": null,
      "outputs": []
    },
    {
      "cell_type": "code",
      "source": [
        "#@title 34. Find First and Last Position of Element in Sorted Array {form-width: \"40%\" }\n",
        "nums = [5,7,7,8,8,10] #@param {type:\"raw\"}\n",
        "target = 8 => [3,4], 6 => [-1,-1] #@param {type:\"raw\"}\n",
        "special = nums=[ ], target=0 => [-1, -1] #@param {type:\"raw\"}\n",
        "wrong =  idea , 【medium】  #@param {type:\"raw\"}\n",
        "\n",
        "class Solution:\n",
        "    def searchRange(self, nums: List[int], target: int) -> List[int]:\n",
        "        i = 0\n",
        "        j = len(nums)-1\n",
        "        s = -1\n",
        "        # binary search for the start and check if exist\n",
        "        while i <= j:\n",
        "            k = (i+j)//2\n",
        "            if nums[k] >= target:\n",
        "                if nums[k] == target:\n",
        "                    s = k\n",
        "                j = k-1\n",
        "            else:\n",
        "                i = k+1\n",
        "        if s == -1:\n",
        "            return [-1, -1]\n",
        "        # binary search for the end\n",
        "        i = s \n",
        "        j = len(nums)-1\n",
        "        while i <= j:\n",
        "            k = (i+j)//2\n",
        "            if nums[k] <= target:\n",
        "                if nums[k] == target:\n",
        "                    e = k\n",
        "                i = k+1\n",
        "            else:\n",
        "                j = k-1\n",
        "        return [s, e]"
      ],
      "metadata": {
        "id": "W_hNJLh3-s5h"
      },
      "execution_count": null,
      "outputs": []
    },
    {
      "cell_type": "code",
      "source": [
        "#@title 69. sqrtx {form-width: \"40%\" }\n",
        "x = 8 => 2, 4 => 2 #@param {type:\"raw\"}\n",
        "key =  记得缓存结果，否则也是慢的，牛顿迭代法(还没看)  #@param {type:\"raw\"}\n",
        "\n",
        "class Solution:\n",
        "    def mySqrt(self, x: int) -> int:\n",
        "        i = 0\n",
        "        j = x\n",
        "        while i <= j:\n",
        "            k = (i+j) // 2\n",
        "            res = k*k\n",
        "            if res == x:\n",
        "                return k\n",
        "            elif res > x:\n",
        "                j = k-1\n",
        "            else:\n",
        "                i = k+1\n",
        "                if i*i > x:\n",
        "                    return k\n",
        "\n",
        "\n",
        "\n",
        "class Solution:\n",
        "    def mySqrt(self, x):\n",
        "        \"\"\"\n",
        "        :type x: int\n",
        "        :rtype: int\n",
        "        \"\"\"\n",
        "        if x <= 1:\n",
        "            return x\n",
        "        r = x\n",
        "        while r > x / r:\n",
        "            r = (r + x / r) // 2\n",
        "        return int(r)"
      ],
      "metadata": {
        "cellView": "form",
        "id": "HF9X28llZBmE"
      },
      "execution_count": null,
      "outputs": []
    },
    {
      "cell_type": "code",
      "source": [
        "#@title 367. Valid Perfect Square {form-width: \"40%\" }\n",
        "nums = 16 => True, 14 => False #@param {type:\"raw\"}\n",
        "\n",
        "class Solution:\n",
        "    def isPerfectSquare(self, num: int) -> bool:\n",
        "        i = 0\n",
        "        j = num\n",
        "        while i<=j:\n",
        "            k = (i+j) // 2\n",
        "            res = k*k\n",
        "            if res == num:\n",
        "                return True\n",
        "            elif res < num:\n",
        "                i = k+1\n",
        "            else:\n",
        "                j = k-1\n",
        "        return False\n"
      ],
      "metadata": {
        "cellView": "form",
        "id": "L2AElm2Yfxuc"
      },
      "execution_count": null,
      "outputs": []
    }
  ]
}