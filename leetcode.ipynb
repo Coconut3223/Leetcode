{
  "nbformat": 4,
  "nbformat_minor": 0,
  "metadata": {
    "colab": {
      "provenance": [],
      "toc_visible": true,
      "authorship_tag": "ABX9TyOfqhNFsbq8dNRX2VAxmOWr",
      "include_colab_link": true
    },
    "kernelspec": {
      "name": "python3",
      "display_name": "Python 3"
    },
    "language_info": {
      "name": "python"
    }
  },
  "cells": [
    {
      "cell_type": "markdown",
      "metadata": {
        "id": "view-in-github",
        "colab_type": "text"
      },
      "source": [
        "<a href=\"https://colab.research.google.com/github/Coconut3223/Leetcode/blob/main/leetcode.ipynb\" target=\"_parent\"><img src=\"https://colab.research.google.com/assets/colab-badge.svg\" alt=\"Open In Colab\"/></a>"
      ]
    },
    {
      "cell_type": "markdown",
      "source": [
        "question_link = https://leetcode.cn/problems/ + #@title\n",
        "\n",
        "follow： [代码随想录](https://programmercarl.com)\n",
        "\n",
        "\n",
        "\n",
        "https://www.qiniu.com/qfans/qnso-65716021#comments\n",
        "\n",
        "\n"
      ],
      "metadata": {
        "id": "d5CstS8uVqtE"
      }
    },
    {
      "cell_type": "code",
      "source": [
        "from google.colab.patches import cv2_imshow, cv2\n",
        "def Season1():\n",
        "    return \"Spring\"\n",
        "def Season2():\n",
        "    return \"Summer\"\n",
        "def Season3():\n",
        "    return \"Fall\"\n",
        "def Season4():\n",
        "    return \"Winter\"\n",
        "def Default():\n",
        "    return \"Invalid Season\"\n",
        "seasondict = {\n",
        "    1: Season1,\n",
        "    2: Season2,\n",
        "    3: Season3,\n",
        "    4: Season4\n",
        "}\n",
        "\n",
        "def getSeason(season):\n",
        "    \"\"\"\n",
        "    将season映射为字符串\n",
        "    :param season:\n",
        "    :return:\n",
        "    \"\"\"\n",
        "    fun = seasondict.get(season, Default)\n",
        "    return fun()\n",
        "getSeason(1)\n"
      ],
      "metadata": {
        "id": "HbDUIaMBNx44"
      },
      "execution_count": null,
      "outputs": []
    },
    {
      "cell_type": "markdown",
      "source": [
        "# 数组\n",
        "\n",
        "Java的二维数组在内存中不是 3*4 的连续地址空间，而是四条连续的地址空间组成！\n",
        "\n",
        "\n",
        "<img valign=\"middle\" src=\"https://code-thinking.cdn.bcebos.com/pics/算法通关数组3.png\" width=\"500\" > \n",
        "\n"
      ],
      "metadata": {
        "id": "UJXKJMUwFQ8f"
      }
    },
    {
      "cell_type": "markdown",
      "source": [
        "### 二分查找\n",
        "\n",
        "要求：有序，无重复\n",
        "\n",
        "优点：比较次数少，查找速度快，平均性能好；\n",
        "\n",
        "缺点：要求待查表为有序表，且插入删除困难。\n",
        "\n",
        "时间复杂度：\n",
        "\n",
        "最好时间复杂度：O(1)\n",
        "\n",
        "最坏时间复杂度：O(n)\n",
        "\n",
        "平均时间复杂度：O(logn)\n",
        "\n",
        "最好情况\t最差情况\n",
        "\n",
        "刚好是中位数\t①找不到\n",
        "\n",
        "②K次二分之后,每个区间的大小为1,找到想要的元素\n",
        "\n",
        "C(n)<=    1 若n=1\n",
        "                 1+C(n/2) 若n>=2\n",
        "C(n)=log2n\n",
        "\n",
        "空间复杂度：O(logn)：递归深度为O(logn),并且由于每个递归层次需要 (1)的空间，所需空间总量是O(logn)\n",
        "\n",
        "优化： 划分为1/3和2/3\n"
      ],
      "metadata": {
        "id": "LrII-r0M40Uk"
      }
    },
    {
      "cell_type": "code",
      "execution_count": null,
      "metadata": {
        "id": "_kuDaos94wx2",
        "colab": {
          "base_uri": "https://localhost:8080/"
        },
        "outputId": "f58fa122-b05f-4895-f287-d977c3e7ad1e",
        "cellView": "form"
      },
      "outputs": [
        {
          "output_type": "execute_result",
          "data": {
            "text/plain": [
              "-1"
            ]
          },
          "metadata": {},
          "execution_count": 9
        }
      ],
      "source": [
        "#@title 704 Binary_Search 二分查找  { vertical-output: true,form-width: \"40%\" }\n",
        "nums = [-1,0,3,5,9,12] #@param {type:\"raw\"}\n",
        "target = 9 #@param {type:\"integer\"} \n",
        "wrong = \" j = len(nums) - 1 \" #@param {type:\"string\"}\n",
        "\n",
        "class Solution:\n",
        "    def search(self, nums: list[int], target: int) -> int:\n",
        "        i = 0\n",
        "        j = len(nums) - 1 \n",
        "\n",
        "        while i<=j:\n",
        "            k = (i+j) // 2\n",
        "            if nums[k] == target:\n",
        "                return k\n",
        "                break\n",
        "            elif nums[k] > target:\n",
        "                j = k-1\n",
        "            else:\n",
        "                i = k+1\n",
        "        return -1\n",
        "\n",
        "sol  = Solution()\n",
        "sol.search(nums, target)"
      ]
    },
    {
      "cell_type": "code",
      "source": [
        "#@title 35 Search Insert Position { vertical-output: true,form-width: \"40%\" }\n",
        "nums = [1,3,5,6] #@param {type:\"raw\"}\n",
        "target = 8 #@param {type:\"integer\"}\n",
        "\n",
        "class Solution:\n",
        "    def search(self, nums: list[int], target: int) -> int:\n",
        "        i = 0\n",
        "        j = len(nums) - 1 \n",
        "\n",
        "        while i<=j:\n",
        "            k = (i+j) // 2\n",
        "            if nums[k] == target:\n",
        "                return k\n",
        "                break\n",
        "            elif nums[k] > target:\n",
        "                j = k-1\n",
        "            else:\n",
        "                i = k+1\n",
        "        return -1\n",
        "sol  = Solution()\n",
        "sol.search(nums, target)"
      ],
      "metadata": {
        "id": "sa68nKry9VsC",
        "colab": {
          "base_uri": "https://localhost:8080/"
        },
        "outputId": "2875cdb2-9373-4122-cc2e-7a03865fee51",
        "cellView": "form"
      },
      "execution_count": null,
      "outputs": [
        {
          "output_type": "execute_result",
          "data": {
            "text/plain": [
              "-1"
            ]
          },
          "metadata": {},
          "execution_count": 13
        }
      ]
    },
    {
      "cell_type": "code",
      "source": [
        "#@title 34 Find First and Last Position of Element in Sorted Array {vertical-output: true,form-width: \"40%\" }\n",
        "nums = [0] #@param {type:\"raw\"}\n",
        "target = 0 #@param {type:\"integer\"}\n",
        "special =\" nums=[ ], target=0 => [-1, -1] \" #@param {type:\"string\"}\n",
        "wrong =  \"idea , 【medium】\"  #@param {type:\"string\"}\n",
        "\n",
        "class Solution:\n",
        "    def searchRange(self, nums: list[int], target: int) -> list[int]:\n",
        "        i = 0\n",
        "        j = len(nums)-1\n",
        "        s = -1\n",
        "        # binary search for the start and check if exist\n",
        "        while i <= j:\n",
        "            k = (i+j)//2\n",
        "            if nums[k] >= target:\n",
        "                if nums[k] == target:\n",
        "                    s = k\n",
        "                j = k-1\n",
        "            else:\n",
        "                i = k+1\n",
        "        if s == -1:\n",
        "            return [-1, -1]\n",
        "        # binary search for the end\n",
        "        i = s \n",
        "        j = len(nums)-1\n",
        "        while i <= j:\n",
        "            k = (i+j)//2\n",
        "            if nums[k] <= target:\n",
        "                if nums[k] == target:\n",
        "                    e = k\n",
        "                i = k+1\n",
        "            else:\n",
        "                j = k-1\n",
        "        return [s, e]\n",
        "\n",
        "sol  = Solution()\n",
        "sol.searchRange(nums, target)"
      ],
      "metadata": {
        "id": "W_hNJLh3-s5h",
        "colab": {
          "base_uri": "https://localhost:8080/"
        },
        "outputId": "52f21813-3831-4899-f4e5-bb5d0a530cef",
        "cellView": "form"
      },
      "execution_count": null,
      "outputs": [
        {
          "output_type": "execute_result",
          "data": {
            "text/plain": [
              "[0, 0]"
            ]
          },
          "metadata": {},
          "execution_count": 51
        }
      ]
    },
    {
      "cell_type": "code",
      "source": [
        "#@title 69 sqrtx { vertical-output: true, form-width: \"40%\" }\n",
        "x = 8 #@param {type:\"integer\"}\n",
        "key =  \"记得缓存结果，否则也是慢的，牛顿迭代法(还没看)\"  #@param {type:\"string\"}\n",
        "\n",
        "class Solution:\n",
        "    def mySqrt(self, x: int) -> int:\n",
        "        i = 0\n",
        "        j = x\n",
        "        while i <= j:\n",
        "            k = (i+j) // 2\n",
        "            res = k*k\n",
        "            if res == x:\n",
        "                return k\n",
        "            elif res > x:\n",
        "                j = k-1\n",
        "            else:\n",
        "                i = k+1\n",
        "                if i*i > x:\n",
        "                    return k\n",
        "\n",
        "\n",
        "\"\"\"\n",
        "class Solution:\n",
        "    def mySqrt(self, x):\n",
        "        #:type x: int\n",
        "        #:rtype: int\n",
        "        if x <= 1:\n",
        "            return x\n",
        "        r = x\n",
        "        while r > x / r:\n",
        "            r = (r + x / r) // 2\n",
        "        return int(r)\n",
        "\"\"\"\n",
        "sol  = Solution()\n",
        "sol.mySqrt(x)"
      ],
      "metadata": {
        "id": "HF9X28llZBmE",
        "colab": {
          "base_uri": "https://localhost:8080/"
        },
        "outputId": "e6c9a071-e7d1-4123-f7e4-4d06baba3454",
        "cellView": "form"
      },
      "execution_count": null,
      "outputs": [
        {
          "output_type": "execute_result",
          "data": {
            "text/plain": [
              "2"
            ]
          },
          "metadata": {},
          "execution_count": 24
        }
      ]
    },
    {
      "cell_type": "code",
      "source": [
        "#@title 367 Valid Perfect Square {vertical-output: true, form-width: \"40%\" }\n",
        "num = 16  #@param {type:\"integer\"}\n",
        "\n",
        "class Solution:\n",
        "    def isPerfectSquare(self, num: int) -> bool:\n",
        "        i = 0\n",
        "        j = num\n",
        "        while i<=j:\n",
        "            k = (i+j) // 2\n",
        "            res = k*k\n",
        "            if res == num:\n",
        "                return True\n",
        "            elif res < num:\n",
        "                i = k+1\n",
        "            else:\n",
        "                j = k-1\n",
        "        return False\n",
        "sol  = Solution()\n",
        "sol.isPerfectSquare(num)"
      ],
      "metadata": {
        "id": "L2AElm2Yfxuc",
        "colab": {
          "base_uri": "https://localhost:8080/"
        },
        "outputId": "9fc9a8d1-2a5a-4b1a-dd80-14f7f799b03e",
        "cellView": "form"
      },
      "execution_count": null,
      "outputs": [
        {
          "output_type": "execute_result",
          "data": {
            "text/plain": [
              "True"
            ]
          },
          "metadata": {},
          "execution_count": 27
        }
      ]
    },
    {
      "cell_type": "markdown",
      "source": [
        "## 双指针\n",
        "- left - right 不要求相对顺序\n",
        "- slow - fast 要求相对顺序\n"
      ],
      "metadata": {
        "id": "2vnwGM1BUlxU"
      }
    },
    {
      "cell_type": "code",
      "source": [
        "#@title 27 remove-element {vertical-output: true, form-width: \"40%\" }\n",
        "nums = [3,2,2,3]  #@param {type:\"raw\"}\n",
        "val = 3  #@param {type:\"integer\"}\n",
        "key = \"不要求相对顺序，所以用left-right双指针 \"#@param {type:\"string\"}\n",
        "class Solution:\n",
        "    def removeElement(self, nums: list[int], val: int) -> int:\n",
        "        left = 0 \n",
        "        right = len(nums)-1\n",
        "        while left <= right:\n",
        "                \n",
        "            if nums[left] == val:\n",
        "                nums[left] = nums[right]\n",
        "                right -= 1\n",
        "            else:\n",
        "                left += 1\n",
        "        print(nums[:left])\n",
        "        return left\n",
        "sol  = Solution()\n",
        "sol.removeElement(nums, val)"
      ],
      "metadata": {
        "colab": {
          "base_uri": "https://localhost:8080/"
        },
        "id": "NFsgFRnCUkwA",
        "outputId": "cb982cee-0458-4914-85f8-de07df673d78",
        "cellView": "form"
      },
      "execution_count": null,
      "outputs": [
        {
          "output_type": "stream",
          "name": "stdout",
          "text": [
            "[2, 2]\n"
          ]
        },
        {
          "output_type": "execute_result",
          "data": {
            "text/plain": [
              "2"
            ]
          },
          "metadata": {},
          "execution_count": 10
        }
      ]
    },
    {
      "cell_type": "code",
      "source": [
        "#@title 26 remove-duplicates-from-sorted-array {vertical-output: true, form-width: \"40%\" }\n",
        "nums = []  #@param {type:\"raw\"}\n",
        "key = \"要求相对顺序，所以用slow-fast双指针 \"#@param {type:\"string\"}\n",
        "class Solution:\n",
        "    def removeDuplicates(self, nums: list[int]) -> int:\n",
        "        slow = 0\n",
        "        idex = []\n",
        "        for fast in range(len(nums)):\n",
        "            if nums[fast] in idex:\n",
        "                pass\n",
        "            else:\n",
        "                idex.append(nums[fast])\n",
        "                nums[slow] = nums[fast]\n",
        "                slow +=1\n",
        "        print(nums[:slow])\n",
        "        return slow \n",
        "sol  = Solution()\n",
        "sol.removeDuplicates(nums)"
      ],
      "metadata": {
        "colab": {
          "base_uri": "https://localhost:8080/"
        },
        "id": "VWaoCULmW9Wo",
        "outputId": "636539b1-e81c-4adc-a92c-f1c187f4da2e",
        "cellView": "form"
      },
      "execution_count": null,
      "outputs": [
        {
          "output_type": "stream",
          "name": "stdout",
          "text": [
            "[]\n"
          ]
        },
        {
          "output_type": "execute_result",
          "data": {
            "text/plain": [
              "0"
            ]
          },
          "metadata": {},
          "execution_count": 38
        }
      ]
    },
    {
      "cell_type": "code",
      "source": [
        "#@title 283 move-zeroes {vertical-output: true, form-width: \"40%\" }\n",
        "nums = [0]  #@param {type:\"raw\"}\n",
        "key = \"要求相对顺序，所以用slow-fast双指针 \"#@param {type:\"string\"}\n",
        "\n",
        "class Solution:\n",
        "    def moveZeroes(self, nums: list[int]) -> None:\n",
        "        \"\"\"\n",
        "        Do not return anything, modify nums in-place instead.\n",
        "        \"\"\"\n",
        "        slow = 0\n",
        "        for fast in range(len(nums)):\n",
        "            if nums[fast] == 0:\n",
        "                pass\n",
        "            else:\n",
        "                nums[slow] = nums[fast]\n",
        "                slow += 1\n",
        "        while slow < len(nums):\n",
        "            nums[slow] = 0\n",
        "            slow += 1\n",
        "        print(nums)\n",
        "sol  = Solution()\n",
        "sol.moveZeroes(nums)"
      ],
      "metadata": {
        "colab": {
          "base_uri": "https://localhost:8080/"
        },
        "id": "vrI5X7TlX44K",
        "outputId": "977393a1-b8d4-4df5-d007-7baad8f3a52c",
        "cellView": "form"
      },
      "execution_count": null,
      "outputs": [
        {
          "output_type": "stream",
          "name": "stdout",
          "text": [
            "[0]\n"
          ]
        }
      ]
    },
    {
      "cell_type": "code",
      "source": [
        "#@title 844 backspace-string-compare {vertical-output: true, form-width: \"40%\" }\n",
        "s = \"c##vnvr\"  #@param {type:\"string\"}\n",
        "t = \"c##vn#nvr\"  #@param {type:\"string\"}\n",
        "wrong = \"'c##vnvr' & 'c##vn#nvr' => 增加判断slow !=0 \" #@param {type:\"string\"}\n",
        "class Solution:\n",
        "    def get_gt(self, s:str) -> str:\n",
        "        gt_s = \"\"\n",
        "        slow = 0\n",
        "        fast = 0\n",
        "        while s[fast] == \"#\":\n",
        "            fast +=1\n",
        "        while fast < len(s):\n",
        "            if s[fast] != \"#\":\n",
        "                gt_s += str(s[fast])\n",
        "                slow += 1\n",
        "            elif slow !=0 :\n",
        "                gt_s = gt_s[:slow-1]\n",
        "                slow -= 1\n",
        "            fast += 1\n",
        "        return gt_s\n",
        "                \n",
        "    def backspaceCompare(self, s: str, t: str) -> bool:\n",
        "        gt_s = self.get_gt(s)\n",
        "        gt_t = self.get_gt(t)\n",
        "        print(gt_s, gt_t)\n",
        "        return gt_s == gt_t\n",
        "\n",
        "sol  = Solution()\n",
        "sol.backspaceCompare(s, t)"
      ],
      "metadata": {
        "colab": {
          "base_uri": "https://localhost:8080/"
        },
        "id": "k3YPFB4zgCc9",
        "outputId": "9b225d85-8f97-45ca-f05f-e133c478fa9b",
        "cellView": "form"
      },
      "execution_count": null,
      "outputs": [
        {
          "output_type": "stream",
          "name": "stdout",
          "text": [
            "vnvr vnvr\n"
          ]
        },
        {
          "output_type": "execute_result",
          "data": {
            "text/plain": [
              "True"
            ]
          },
          "metadata": {},
          "execution_count": 88
        }
      ]
    },
    {
      "cell_type": "code",
      "source": [
        "#@title 977 squares-of-a-sorted-array {vertical-output: true, form-width: \"40%\" }\n",
        "nums = [-5,-4,-3,0,4]  #@param {type:\"raw\"}\n",
        "anger = \"救命怎么能把空间复杂度搞低一点，进阶：T(n)=O(n) \" #@param {type:\"string\"}\n",
        "class Solution:\n",
        "    def sortedSquares(self, nums: list[int]) -> list[int]:\n",
        "        square = [i**2 for i in nums]\n",
        "        left = 0\n",
        "        right = len(nums)-1\n",
        "        k = right\n",
        "        while left <= right:\n",
        "            if square[left] > square[right]:\n",
        "                nums[k] = square[left]\n",
        "                left += 1\n",
        "            else:\n",
        "                nums[k] = square[right]\n",
        "                right -=1\n",
        "            k -= 1\n",
        "        return nums\n",
        "sol  = Solution()\n",
        "sol.sortedSquares(nums)"
      ],
      "metadata": {
        "colab": {
          "base_uri": "https://localhost:8080/"
        },
        "id": "L6XyNzAlvzJK",
        "outputId": "c0e7d5c0-2548-4ef2-8e62-27a02e236325",
        "cellView": "form"
      },
      "execution_count": null,
      "outputs": [
        {
          "output_type": "execute_result",
          "data": {
            "text/plain": [
              "[0, 9, 16, 16, 25]"
            ]
          },
          "metadata": {},
          "execution_count": 111
        }
      ]
    },
    {
      "cell_type": "markdown",
      "source": [
        "## 滑动窗口\n",
        "\n",
        "> ref\n",
        "> 1. [209.长度最小的子数组](https://www.programmercarl.com/0209.长度最小的子数组.html#暴力解法)\n",
        "\n",
        "\n",
        "不断的调节子序列的起始位置和终止位置，只用一个 for 循环\n",
        "\n",
        "Question：\n",
        "\n",
        "    一般来说就是为了解决寻找 **连续子序列** 的问题\n",
        "    \n",
        "    暴力解法的思路是，外面一层 i 起始位置的 for 循环，里面一层 j 终止位置的 for 循环。对每一个符合要求的起始位置 i 都去寻找符合要求的连续子序列，在 i 内用 j 去遍历。\n",
        "\n",
        "    无论如何j都是要去遍历的，所以 trick 就在让 j 去遍历 \n",
        "\n",
        "key：\n",
        "\n",
        "1. 窗口是什么\n",
        "\n",
        "    窗口就是符合要求的 **连续子序列**\n",
        "\n",
        "    要先不断向右移动结束位置，寻找符合要求的窗口。得到这个窗口才能向左移动起始位置来寻求更高阶的**“最”**\n",
        "\n",
        "    譬如209，要先不断向右移动结束位置，得到和不小于目标的子序列（窗口），才移动起始位置寻求更高阶的 **长度最小**\n",
        "\n",
        "    譬如76，要先不断向右移动结束位置，得到涵盖所有t字符的子字串（窗口），才移动起始位置寻求更高阶的 **长度最小**\n",
        "\n",
        "    💡 对窗口的设计 《=》 转化基本要求 譬如 76\n",
        "\n",
        "\n",
        "2. 如何移动窗口的起始位置\n",
        "\n",
        "    要先得到窗口，符合基本要求，才停止结束位置的移动，开始起始位置的移动。\n",
        "\n",
        "    💡 起始位置移动的条件设置 《=》 基本要求的维护 \n",
        "\n",
        "        譬如 76 只有当起始位置 i 的数量是大于 字符串 t 所要求的 或者 i 就不属于 t 所要求的，此时 i 的移动不使这个窗口失去资格\n",
        "\n",
        "\n",
        "3. 如何移动窗口的结束位置\n",
        "\n",
        "    放在最外层 for 循环里，**遍历数组**的指针，因为无论如何 j 是肯定要遍历 整个数组的\n",
        "\n",
        "4. 为什么能达到更低的时间复杂度 O(n)\n",
        "\n",
        "    不要以为 for 里放一个 while 就以为是 O(n^2) 啊， 主要是看每一个元素被操作的次数，每个元素在滑动窗后进来操作一次，出去操作一次，每个元素都是被操作两次，甚至是只有一次，例如在209里的nums[1,2,4], target = 6。\n",
        "    \n",
        "    所以时间复杂度是 2 × n 也就是O(n),\n",
        "\n",
        "\n",
        "    \n",
        "\n",
        "\n",
        "\n"
      ],
      "metadata": {
        "id": "M7pRKoDZiAKe"
      }
    },
    {
      "cell_type": "code",
      "source": [
        "#@title 209 minimum-size-subarray-sum {vertical-output: true, form-width: \"30%\" }\n",
        "nums = [4,4]  #@param {type:\"raw\"}\n",
        "target = 4  #@param {type:\"integer\"}\n",
        "key = \"分析时间复杂度， 进阶：O(n log(n)) \" #@param {type:\"string\"}\n",
        "class Solution:\n",
        "    def minSubArrayLen(self, target: int, nums: list[int]) -> int:\n",
        "        sum = 0\n",
        "        i = 0\n",
        "        min_l = float(\"inf\")\n",
        "        for j in range(len(nums)):\n",
        "            sum += nums[j]\n",
        "            while sum >= target:\n",
        "                sum -= nums[i]\n",
        "                min_l = min(min_l, j-i+1)\n",
        "                i += 1\n",
        "        return 0 if min_l == float(\"inf\") else min_l\n",
        "sol  = Solution()\n",
        "sol.minSubArrayLen(target, nums)"
      ],
      "metadata": {
        "id": "BwDrsXMdF0cn",
        "colab": {
          "base_uri": "https://localhost:8080/"
        },
        "outputId": "b6234469-ee90-4321-b77c-6807372659da",
        "cellView": "form"
      },
      "execution_count": null,
      "outputs": [
        {
          "output_type": "execute_result",
          "data": {
            "text/plain": [
              "1"
            ]
          },
          "metadata": {},
          "execution_count": 1
        }
      ]
    },
    {
      "cell_type": "code",
      "source": [
        "#@title 904 Fruit Into Baskets {vertical-output: true, form-width: \"30%\" }\n",
        "fruits = [1,0,1,4,1,4,1,2,3]  #@param {type:\"raw\"}\n",
        "key = \"起始位置怎么去设置 \" #@param {type:\"string\"}\n",
        "\n",
        "\"\"\" using list \"\"\"\n",
        "class Solution:\n",
        "    def totalFruit(self, fruits: list[int]) -> int:\n",
        "        max_l = 0\n",
        "        dic = []\n",
        "        i = 0\n",
        "        for j in range(len(fruits)):\n",
        "            if fruits[j] not in dic:\n",
        "                dic.append(fruits[j])\n",
        "            if len(dic) == 2:\n",
        "                max_l = max(j-i+1, max_l)\n",
        "                #print(dic,max_l)\n",
        "            else:\n",
        "                i = j-1\n",
        "                while fruits[i] == fruits[j-1]:\n",
        "                    i -= 1\n",
        "                i = i+1\n",
        "                dic = [fruits[i],fruits[j]]\n",
        "        return max_l\n",
        "sol  = Solution()\n",
        "print(sol.totalFruit(fruits))\n",
        "\"\"\" \n",
        "        using 2 variables 因为猜存两个单独变量比存一个同等size的数组内存要小，但是没啥变化\n",
        "class Solution:\n",
        "    def totalFruit(self, fruits: list[int]) -> int:\n",
        "        max_l = 0\n",
        "        i = 0\n",
        "        left = fruits[0]\n",
        "        right = fruits[0]\n",
        "        for j in range(len(fruits)):\n",
        "           \n",
        "            if fruits[j] != left and fruits[j] !=right:\n",
        "                \n",
        "                i = j-1\n",
        "                left = fruits[i] #记录前一个（因为是下一个窗口的left e.g. [1,2,1,3]\n",
        "                right = fruits[j]\n",
        "                while i>=0 and fruits[i] == left:\n",
        "                    i -= 1\n",
        "                i += 1\n",
        "            max_l = max(j-i+1, max_l) \n",
        "        return max_l\n",
        "sol  = Solution()\n",
        "sol.totalFruit(fruits)\n",
        "\"\"\""
      ],
      "metadata": {
        "colab": {
          "base_uri": "https://localhost:8080/",
          "height": 352
        },
        "id": "xhpwx8vvU-oc",
        "outputId": "e2aa741a-8e85-420d-9c84-7082ad44804d",
        "cellView": "form"
      },
      "execution_count": null,
      "outputs": [
        {
          "output_type": "stream",
          "name": "stdout",
          "text": [
            "5\n"
          ]
        },
        {
          "output_type": "execute_result",
          "data": {
            "text/plain": [
              "' \\n        using 2 variables 因为猜存两个单独变量比存一个同等size的数组内存要小，但是没啥变化\\nclass Solution:\\n    def totalFruit(self, fruits: list[int]) -> int:\\n        max_l = 0\\n        i = 0\\n        left = fruits[0]\\n        right = fruits[0]\\n        for j in range(len(fruits)):\\n           \\n            if fruits[j] != left and fruits[j] !=right:\\n                \\n                i = j-1\\n                left = fruits[i] #记录前一个（因为是下一个窗口的left e.g. [1,2,1,3]\\n                right = fruits[j]\\n                while i>=0 and fruits[i] == left:\\n                    i -= 1\\n                i += 1\\n            max_l = max(j-i+1, max_l) \\n        return max_l\\nsol  = Solution()\\nsol.totalFruit(fruits)\\n'"
            ],
            "application/vnd.google.colaboratory.intrinsic+json": {
              "type": "string"
            }
          },
          "metadata": {},
          "execution_count": 64
        }
      ]
    },
    {
      "cell_type": "code",
      "source": [
        "#@title 76 Minimum Window Substring ver.1 {vertical-output: true, form-width: \"30%\" }\n",
        "s = \"a\"  #@param {type:\"string\"}\n",
        "t = \"aa\"  #@param {type:\"string\"}\n",
        "key = \" line 28-30 对起始位置i移动的条件的设定 \" #@param {type:\"string\"}\n",
        "class Solution:\n",
        "    def minWindow(self, s: str, t: str) -> str:\n",
        "        sub = \"\"\n",
        "        min_l = float(\"inf\")\n",
        "        dic_t = {}\n",
        "        temp_dic = {}\n",
        "        flag = 0\n",
        "        for i in range(len(t)):\n",
        "            if t[i] not in dic_t.keys():\n",
        "                dic_t[t[i]] = 1\n",
        "                temp_dic[t[i]] = 0\n",
        "            else:\n",
        "                dic_t[t[i]] += 1   \n",
        "        for k in range(len(s)):\n",
        "            if s[k] in dic_t.keys():\n",
        "                break\n",
        "        for j in range(k, len(s)):\n",
        "            if s[j] in dic_t.keys():\n",
        "                if temp_dic[s[j]] < dic_t[s[j]]:\n",
        "                     flag += 1\n",
        "                temp_dic[s[j]] += 1\n",
        "                if flag == len(t):\n",
        "                    i = k\n",
        "                    while s[i] not in dic_t.keys() or temp_dic[s[i]] > dic_t[s[i]]:\n",
        "                        if s[i] in temp_dic.keys():\n",
        "                            temp_dic[s[i]] -= 1\n",
        "                        i += 1\n",
        "                    k = i\n",
        "                    if min_l >= j-k+1:\n",
        "                        sub = s[k:j+1]\n",
        "                        min_l = j-k+1\n",
        "                #print(sub)\n",
        "        return sub\n",
        "sol  = Solution()\n",
        "sol.minWindow(s,t)"
      ],
      "metadata": {
        "colab": {
          "base_uri": "https://localhost:8080/",
          "height": 71
        },
        "id": "FndRj4bzc9Ry",
        "outputId": "f417fb54-72bf-4d63-fb87-88f7f9681f32",
        "cellView": "form"
      },
      "execution_count": null,
      "outputs": [
        {
          "output_type": "stream",
          "name": "stdout",
          "text": [
            "a\n",
            "\n"
          ]
        },
        {
          "output_type": "execute_result",
          "data": {
            "text/plain": [
              "''"
            ],
            "application/vnd.google.colaboratory.intrinsic+json": {
              "type": "string"
            }
          },
          "metadata": {},
          "execution_count": 7
        }
      ]
    },
    {
      "cell_type": "code",
      "source": [
        "#@title 76 Minimum Window Substring ver.2{vertical-output: true, form-width: \"30%\" }\n",
        "s = \"a\"  #@param {type:\"string\"}\n",
        "t = \"aa\"  #@param {type:\"string\"}\n",
        "key = \"这个感觉思路更清晰一点，先找窗口。按理来说这个应该更少时间，因为少了符合要求之后对flag的操作 \" #@param {type:\"string\"}\n",
        "class Solution:\n",
        "    def minWindow(self, s: str, t: str) -> str:\n",
        "        sub = \"\"\n",
        "        min_l = float(\"inf\")\n",
        "        dic_t = {}\n",
        "        temp_dic = {}\n",
        "        flag = 0\n",
        "        for i in range(len(t)):\n",
        "            if t[i] not in dic_t.keys():\n",
        "                dic_t[t[i]] = 1\n",
        "                temp_dic[t[i]] = 0\n",
        "            else:\n",
        "                dic_t[t[i]] += 1  \n",
        "        for k in range(len(s)):\n",
        "            if s[k] in dic_t.keys():\n",
        "                    break\n",
        "        for j in range(k, len(s)):\n",
        "            if s[j] in dic_t.keys():\n",
        "                print(j,flag,temp_dic)\n",
        "                if temp_dic[s[j]] < dic_t[s[j]]:\n",
        "                     flag += 1\n",
        "                temp_dic[s[j]] += 1\n",
        "                #print(j,flag,temp_dic)\n",
        "                if flag == len(t):\n",
        "                    temp_dic[s[j]] -= 1\n",
        "                    break\n",
        "        if flag < len(t):\n",
        "            return \"\"\n",
        "        while j < len(s):\n",
        "            if s[j] in dic_t.keys():\n",
        "                temp_dic[s[j]] += 1\n",
        "                i = k\n",
        "                #print(temp_dic)\n",
        "                while s[i] not in dic_t.keys() or temp_dic[s[i]] > dic_t[s[i]]:\n",
        "                    if s[i] in temp_dic.keys():\n",
        "                        temp_dic[s[i]] -= 1\n",
        "                    i += 1                    \n",
        "                k = i\n",
        "                if min_l >= j-k+1:\n",
        "                    #print(k,j)\n",
        "                    sub = s[k:j+1]\n",
        "                    min_l = j-k+1\n",
        "                    #print(sub)\n",
        "            j += 1\n",
        "        return sub\n",
        "sol  = Solution()\n",
        "sol.minWindow(s,t)"
      ],
      "metadata": {
        "colab": {
          "base_uri": "https://localhost:8080/",
          "height": 71
        },
        "id": "drkkpZUU8eju",
        "outputId": "14689290-5d86-4ded-be01-713aa4b0fd24",
        "cellView": "form"
      },
      "execution_count": null,
      "outputs": [
        {
          "output_type": "stream",
          "name": "stdout",
          "text": [
            "0 0 {'a': 0}\n",
            "0 1 {'a': 1}\n"
          ]
        },
        {
          "output_type": "execute_result",
          "data": {
            "text/plain": [
              "''"
            ],
            "application/vnd.google.colaboratory.intrinsic+json": {
              "type": "string"
            }
          },
          "metadata": {},
          "execution_count": 28
        }
      ]
    },
    {
      "cell_type": "markdown",
      "source": [
        " ## 螺旋矩阵\n",
        "\n",
        "坚持循环不变量原则\n",
        "\n"
      ],
      "metadata": {
        "id": "roMqVBNkKWxd"
      }
    },
    {
      "cell_type": "code",
      "source": [
        "#@title 59 Spiral Matrix II {vertical-output: true, form-width: \"30%\" }\n",
        "n = 2  #@param {type:\"integer\"}\n",
        "key = \"左闭右开唯一不变原则 \" #@param {type:\"string\"}\n",
        "class Solution:\n",
        "    def generateMatrix(self, n: int) -> list[list[int]]:\n",
        "        left_up = 0\n",
        "        right_down = n-1\n",
        "        matrix = [[0 for i in range(n)] for j in range(n)]\n",
        "        element = 1\n",
        "        while left_up < right_down:\n",
        "            for j in range(left_up, right_down):\n",
        "                matrix[left_up][j] = element\n",
        "                element += 1\n",
        "            for i in range(left_up, right_down):\n",
        "                matrix[i][right_down] = element\n",
        "                element += 1\n",
        "            for j in range(right_down, left_up, -1):\n",
        "                matrix[right_down][j] = element\n",
        "                element += 1\n",
        "            for i in range(right_down, left_up, -1):\n",
        "                matrix[i][left_up] = element\n",
        "                element += 1\n",
        "            left_up += 1\n",
        "            right_down -= 1\n",
        "        if n%2 >0:\n",
        "            matrix[left_up][right_down] = element\n",
        "        return matrix\n",
        "sol  = Solution()\n",
        "sol.generateMatrix(n)\n",
        "#@markdown <img valign=\"middle\" src=\"https://code-thinking-1253855093.file.myqcloud.com/pics/20220922102236.png\" width=\"500\" > \n"
      ],
      "metadata": {
        "colab": {
          "base_uri": "https://localhost:8080/"
        },
        "id": "YtwlG-nWKVbg",
        "outputId": "066d5bcf-71d0-4a4b-b33c-601ea3490971",
        "cellView": "form"
      },
      "execution_count": null,
      "outputs": [
        {
          "output_type": "execute_result",
          "data": {
            "text/plain": [
              "[[1, 2], [4, 3]]"
            ]
          },
          "metadata": {},
          "execution_count": 23
        }
      ]
    },
    {
      "cell_type": "code",
      "source": [
        "#@title 54 Spiral Matrix I {vertical-output: true, form-width: \"30%\" }\n",
        "matrix = [[1]]  #@param {type:\"raw\"}\n",
        "key = \"难点在于矩阵的长并不等于宽 \" #@param {type:\"string\"}\n",
        "class Solution:\n",
        "    def spiralOrder(self, matrix: list[list[int]]) -> list[int]:\n",
        "        left_up = 0\n",
        "        left_down = len(matrix)-1\n",
        "        right_down = len(matrix[0])-1\n",
        "        matrix_element = []\n",
        "        while left_up < right_down and left_up < left_down:\n",
        "            for j in range(left_up, right_down):\n",
        "                matrix_element.append(matrix[left_up][j])\n",
        "            for i in range(left_up, left_down):\n",
        "                matrix_element.append(matrix[i][right_down])\n",
        "            for j in range(right_down, left_up, -1):\n",
        "                matrix_element.append(matrix[left_down][j])\n",
        "            for i in range(left_down, left_up, -1):\n",
        "                matrix_element.append(matrix[i][left_up])\n",
        "            left_up += 1\n",
        "            right_down -= 1\n",
        "            left_down -= 1\n",
        "        if left_up == left_down and left_up < right_down:\n",
        "            for j in range(left_up, right_down+1):\n",
        "                matrix_element.append(matrix[left_up][j])\n",
        "        elif left_up == right_down:\n",
        "            for i in range(left_up, left_down+1):\n",
        "                matrix_element.append(matrix[i][left_up])\n",
        "        #if len(matrix) %2 > 0:\n",
        "           # matrix_element.append(matrix[left_up][right_down])\n",
        "        return matrix_element\n",
        "sol = Solution()\n",
        "sol.spiralOrder(matrix)"
      ],
      "metadata": {
        "colab": {
          "base_uri": "https://localhost:8080/"
        },
        "id": "Q5Wtfhy-Pe_w",
        "outputId": "794ba84f-740a-4a6c-c9c5-d9032732d042",
        "cellView": "form"
      },
      "execution_count": null,
      "outputs": [
        {
          "output_type": "stream",
          "name": "stdout",
          "text": [
            "1\n"
          ]
        },
        {
          "output_type": "execute_result",
          "data": {
            "text/plain": [
              "[1]"
            ]
          },
          "metadata": {},
          "execution_count": 136
        }
      ]
    },
    {
      "cell_type": "markdown",
      "source": [
        "# 链表\n",
        "\n",
        " 各个节点分布在内存的不同地址空间上，通过指针串联在一起。\n"
      ],
      "metadata": {
        "id": "NVmv2bez3tE5"
      }
    },
    {
      "cell_type": "code",
      "source": [
        "#@title 203 Remove Linked List Elements  { vertical-output: true,form-width: \"40%\" }\n",
        "nums = [1,2,2,1] #@param {type:\"raw\"}\n",
        "val = 2 #@param {type:\"integer\"} \n",
        "wrong = \" 如果没有else 就会跳掉 node.next.next的检验 \" #@param {type:\"string\"}\n",
        "\n",
        "# Definition for singly-linked list.\n",
        "class ListNode:\n",
        "    def __init__(self, val=0, next=None):\n",
        "        self.val = val\n",
        "        self.next = next\n",
        "    def traverse(self):\n",
        "        node = self\n",
        "        lst = []\n",
        "        while node != None:\n",
        "            lst.append(node.val)\n",
        "            node = node.next\n",
        "        print(lst)\n",
        "\n",
        "\n",
        "class Solution:\n",
        "    def removeElements(self, head: ListNode, val: int) -> ListNode:\n",
        "        while head !=None and head.val == val:\n",
        "            head = head.next\n",
        "        node = head\n",
        "        while node != None and node.next != None:             \n",
        "            if node.next.val == val:\n",
        "                node.next = node.next.next\n",
        "            else: ### 如果没有else 就会跳掉 node.next.next的检验\n",
        "                node = node.next\n",
        "        return head\n",
        "\n",
        "node = None\n",
        "for i in range(-1, -len(nums)-1, -1):\n",
        "    node = ListNode(val=nums[i], next=node)\n",
        "\n",
        "head = node\n",
        "head.traverse()\n",
        "sol = Solution()\n",
        "sol.removeElements(head, val).traverse()\n"
      ],
      "metadata": {
        "colab": {
          "base_uri": "https://localhost:8080/"
        },
        "id": "yA7kfx02gMnK",
        "outputId": "13903e97-7f5d-4f28-f1aa-e03803cdeb4a",
        "cellView": "form"
      },
      "execution_count": null,
      "outputs": [
        {
          "output_type": "stream",
          "name": "stdout",
          "text": [
            "[1, 2, 2, 1]\n",
            "[1, 1]\n"
          ]
        }
      ]
    },
    {
      "cell_type": "code",
      "source": [
        "#@title 707 Design Linked List  { vertical-output: true,form-width: \"35%\" }\n",
        " \n",
        "wrong = \" head != None 这句话是重灾区 \" #@param {type:\"string\"}\n",
        "\n",
        "class MyLinkedList:\n",
        "\n",
        "    def __init__(self):\n",
        "        self.val = None\n",
        "        self.next = None\n",
        "    def traverse(self):\n",
        "        node = self\n",
        "        lst = []\n",
        "        while node != None:\n",
        "            lst.append(node.val)\n",
        "            node = node.next\n",
        "        print(lst)\n",
        "\n",
        "    def get(self, index: int) -> int:\n",
        "        if self.next == None:\n",
        "            return -1\n",
        "        node = self\n",
        "        idx = -1\n",
        "        while node != None and idx < index:\n",
        "            node = node.next\n",
        "            idx += 1\n",
        "        if node!= None and idx == index:\n",
        "            return node.val\n",
        "        else:\n",
        "            return -1\n",
        "\n",
        "    def addAtHead(self, val: int) -> None:\n",
        "        node = MyLinkedList()\n",
        "        node.val = val\n",
        "        head = self\n",
        "        node.next = head.next\n",
        "        head.next = node\n",
        "        \n",
        "    def addAtTail(self, val: int) -> None:\n",
        "        node = MyLinkedList()\n",
        "        node.val = val\n",
        "        tail = self\n",
        "        while tail.next != None:\n",
        "            tail = tail.next\n",
        "        tail.next = node\n",
        "\n",
        "    def addAtIndex(self, index: int, val: int) -> None:\n",
        "        idx = -1\n",
        "        head = self\n",
        "        while head != None and idx+1 < index:\n",
        "            head = head.next\n",
        "            idx += 1\n",
        "        if head != None and idx+1 == index:\n",
        "            node = MyLinkedList()\n",
        "            node.val = val\n",
        "            node.next = head.next\n",
        "            head.next = node\n",
        "        return\n",
        "\n",
        "    def deleteAtIndex(self, index: int) -> None:\n",
        "        if self.next == None:\n",
        "            return\n",
        "        idx = -1\n",
        "        head = self\n",
        "        while head != None and idx+1<index:\n",
        "            head = head.next\n",
        "            idx += 1\n",
        "        if idx+1 == index and head!= None and head.next != None:\n",
        "            head.next = head.next.next\n",
        "        return\n",
        "\n",
        "\n",
        "operations = [\"MyLinkedList\", \"addAtHead\", \"addAtTail\", \n",
        "              \"addAtIndex\", \"get\", \"deleteAtIndex\", \"get\"] \n",
        "operators = [[], [1], [3], [1, 2], [1], [1], [1]] \n",
        "obj = MyLinkedList()\n",
        "obj.addAtHead(1)\n",
        "obj.traverse()\n",
        "obj.addAtTail(3)\n",
        "obj.traverse()\n",
        "obj.addAtIndex(1,2)\n",
        "obj.traverse()\n",
        "print(obj.get(1))\n",
        "obj.deleteAtIndex(1)\n",
        "obj.traverse()\n",
        "print(obj.get(1))"
      ],
      "metadata": {
        "colab": {
          "base_uri": "https://localhost:8080/"
        },
        "id": "nyMXLn2AnKCo",
        "outputId": "a15ae2d8-dfb7-421c-b786-9d11ed08e3b1",
        "cellView": "form"
      },
      "execution_count": null,
      "outputs": [
        {
          "output_type": "stream",
          "name": "stdout",
          "text": [
            "[None, 1]\n",
            "[None, 1, 3]\n",
            "[None, 1, 2, 3]\n",
            "2\n",
            "[None, 1, 3]\n",
            "3\n"
          ]
        }
      ]
    },
    {
      "cell_type": "code",
      "source": [
        "#@title 206 Reverse Linked List ver.1 { vertical-output: true,form-width: \"40%\" }\n",
        "nums = [1,2,3,45] #@param {type:\"raw\"}\n",
        "key = \" 双指针法 \" #@param {type:\"string\"}\n",
        "# Definition for singly-linked list.\n",
        "class ListNode:\n",
        "    def __init__(self, val=0, next=None):\n",
        "        self.val = val\n",
        "        self.next = next\n",
        "    def traverse(self):\n",
        "        node = self\n",
        "        lst = []\n",
        "        while node != None:\n",
        "            lst.append(node.val)\n",
        "            node = node.next\n",
        "        print(lst)\n",
        "\n",
        "class Solution:\n",
        "    def reverseList(self, head: ListNode) -> ListNode:\n",
        "        if head == None or head.next == None:\n",
        "            return head\n",
        "        pre = head\n",
        "        temp = head.next\n",
        "        while temp != None:\n",
        "            cur = temp\n",
        "            temp = cur.next\n",
        "            cur.next = pre\n",
        "            pre = cur\n",
        "        head.next = None\n",
        "        head = pre\n",
        "        return head\n",
        "\n",
        "node = None\n",
        "for i in range(-1, -len(nums)-1, -1):\n",
        "    node = ListNode(val=nums[i], next=node)\n",
        "\n",
        "head = node\n",
        "head.traverse()\n",
        "\n",
        "sol = Solution()\n",
        "sol.reverseList(head).traverse()"
      ],
      "metadata": {
        "colab": {
          "base_uri": "https://localhost:8080/"
        },
        "cellView": "form",
        "id": "zwS2ZuBou7np",
        "outputId": "ffa18c42-5bb1-4d2f-b94e-3fa696b1c7ad"
      },
      "execution_count": null,
      "outputs": [
        {
          "output_type": "stream",
          "name": "stdout",
          "text": [
            "[1, 2, 3, 45]\n",
            "[45, 3, 2, 1]\n"
          ]
        }
      ]
    },
    {
      "cell_type": "code",
      "source": [
        "#@title 206 Reverse Linked List ver.2 { vertical-output: true,form-width: \"40%\" }\n",
        "nums = [1,2,3,34,4] #@param {type:\"raw\"}\n",
        "wrong = \" !!!!递归法(forward and backward) \" #@param {type:\"string\"}\n",
        "class ListNode:\n",
        "    def __init__(self, val=0, next=None):\n",
        "        self.val = val\n",
        "        self.next = next\n",
        "    def traverse(self):\n",
        "        node = self\n",
        "        lst = []\n",
        "        while node != None:\n",
        "            lst.append(node.val)\n",
        "            node = node.next\n",
        "        print(lst)\n",
        "\n",
        "class Solution:\n",
        "    def reverseList_forward(self, head: ListNode) -> ListNode:\n",
        "        def reverse_forward(pre, cur):\n",
        "            if cur == None:\n",
        "                return pre\n",
        "            temp = cur.next\n",
        "            cur.next = pre\n",
        "            return reverse_forward(cur, temp)\n",
        "        return reverse_forward(None, head)\n",
        "\n",
        "    def reverseList_backward(self, head: ListNode) -> ListNode:\n",
        "        if head == None or head.next == None:\n",
        "            return head\n",
        "        newlist = self.reverseList_backward(head.next)\n",
        "        head.next.next = head\n",
        "        head.next  = None #old head.next == None\n",
        "        return newlist\n",
        "node = None\n",
        "for i in range(-1, -len(nums)-1, -1):\n",
        "    node = ListNode(val=nums[i], next=node)\n",
        "\n",
        "head = node\n",
        "head.traverse()\n",
        "\n",
        "sol = Solution()\n",
        "reverse = sol.reverseList_forward(head)\n",
        "reverse.traverse()\n",
        "reverse2 = sol.reverseList_backward(reverse)\n",
        "reverse2.traverse()"
      ],
      "metadata": {
        "id": "4gK3JhsZSdEN",
        "colab": {
          "base_uri": "https://localhost:8080/"
        },
        "cellView": "form",
        "outputId": "d6b768f6-c6d7-4f7a-fb0d-8edc8caf6674"
      },
      "execution_count": null,
      "outputs": [
        {
          "output_type": "stream",
          "name": "stdout",
          "text": [
            "[1, 2, 3, 34, 4]\n",
            "[4, 34, 3, 2, 1]\n",
            "[1, 2, 3, 34, 4]\n"
          ]
        }
      ]
    },
    {
      "cell_type": "code",
      "source": [
        "#@title 24 Swap Nodes in Pairs { vertical-output: true,form-width: \"40%\" }\n",
        "nums = [14] #@param {type:\"raw\"}\n",
        "key = \" !!!!递归法(backwaed)[medium] \" #@param {type:\"string\"}\n",
        "class ListNode:\n",
        "    def __init__(self, val=0, next=None):\n",
        "        self.val = val\n",
        "        self.next = next\n",
        "    def traverse(self):\n",
        "        node = self\n",
        "        lst = []\n",
        "        while node != None:\n",
        "            lst.append(node.val)\n",
        "            node = node.next\n",
        "        print(lst)\n",
        "class Solution:\n",
        "    def swapPairs(self, head: ListNode) -> ListNode:\n",
        "        \n",
        "        if head == None or head.next == None:\n",
        "            return head\n",
        "        #head.traverse()\n",
        "        newlist = self.swapPairs(head.next.next)\n",
        "        temp = head.next\n",
        "        head.next = newlist\n",
        "        temp.next = head\n",
        "        return temp\n",
        "node = None\n",
        "for i in range(-1, -len(nums)-1, -1):\n",
        "    node = ListNode(val=nums[i], next=node)\n",
        "\n",
        "head = node\n",
        "head.traverse()\n",
        "\n",
        "sol = Solution()\n",
        "sol.swapPairs(head).traverse()"
      ],
      "metadata": {
        "colab": {
          "base_uri": "https://localhost:8080/"
        },
        "id": "DK3f3-s0LcM3",
        "outputId": "8da1f7f5-ec47-4a35-a05d-929d8d9e027c",
        "cellView": "form"
      },
      "execution_count": null,
      "outputs": [
        {
          "output_type": "stream",
          "name": "stdout",
          "text": [
            "[14]\n",
            "[14]\n"
          ]
        }
      ]
    },
    {
      "cell_type": "code",
      "source": [
        "#@title 19 Remove Nth Node From End of List { vertical-output: true,form-width: \"40%\" }\n",
        "nums = [14,1,3,4,5] #@param {type:\"raw\"}\n",
        "n = 1 #@param {type:\"integer\"}\n",
        "\"\"\"\n",
        "一种解法：找的是要删的那一个，\n",
        "    需要设pre记住前一个，和判断是否要删的是头节点\n",
        "\"\"\"\n",
        "class ListNode:\n",
        "    def __init__(self, val=0, next=None):\n",
        "        self.val = val\n",
        "        self.next = next\n",
        "    def traverse(self):\n",
        "        node = self\n",
        "        lst = []\n",
        "        while node != None:\n",
        "            lst.append(node.val)\n",
        "            node = node.next\n",
        "        print(lst)\n",
        "\n",
        "class Solution:\n",
        "    def removeNthFromEnd(self, head: ListNode, n: int) ->  ListNode:\n",
        "        if head == None or ( head.next== None and n == 1):\n",
        "            return None\n",
        "        left = head\n",
        "        pre = head\n",
        "        right = head\n",
        "        idx = n\n",
        "        while right != None and idx > 0:\n",
        "            right = right.next\n",
        "            idx -= 1\n",
        "        if idx == 0:\n",
        "            if right == None:\n",
        "                return left.next\n",
        "            while right != None:\n",
        "                right = right.next\n",
        "                pre = left\n",
        "                left = left.next\n",
        "            pre.next = left.next\n",
        "            \n",
        "        return head\n",
        "node = None\n",
        "for i in range(-1, -len(nums)-1, -1):\n",
        "    node = ListNode(val=nums[i], next=node)\n",
        "\n",
        "head = node\n",
        "head.traverse()\n",
        "\n",
        "sol = Solution()\n",
        "sol.removeNthFromEnd(head, n).traverse()\n",
        "\n",
        "\n",
        "\"\"\" \n",
        "另一种解法：找的是要删的前一个，\n",
        "    好处就是不需要再设一个pre记住要删的前一个\n",
        "    和不需要另外判断要删的是不是头节点 -》 pre变成了记住头节点 \n",
        "\n",
        "class Solution:\n",
        "    def removeNthFromEnd(self, head: Optional[ListNode], n: int) -> Optional[ListNode]:\n",
        "        if head == None or ( head.next== None and n == 1):\n",
        "            return None\n",
        "        pre = ListNode(next=head)\n",
        "        left = pre # 要删的前一个\n",
        "        right = pre\n",
        "        idx = n\n",
        "        while right != None and idx > 0:\n",
        "            right = right.next\n",
        "            idx -= 1\n",
        "        #print(right.val)\n",
        "        if idx == 0:\n",
        "            while right.next != None:\n",
        "                right = right.next\n",
        "                left = left.next\n",
        "            left.next = left.next.next\n",
        "        return pre.next\n",
        "\"\"\""
      ],
      "metadata": {
        "colab": {
          "base_uri": "https://localhost:8080/"
        },
        "id": "woo-0ApCRU8l",
        "outputId": "50f10536-8fca-4ffd-bd3e-7c253488c21f",
        "cellView": "form"
      },
      "execution_count": null,
      "outputs": [
        {
          "output_type": "stream",
          "name": "stdout",
          "text": [
            "[14, 1, 3, 4, 5]\n",
            "[14, 1, 3, 5]\n"
          ]
        }
      ]
    },
    {
      "cell_type": "code",
      "source": [
        "#@title 160 Intersection of Two Linked Lists LCCI { vertical-output: true,form-width: \"40%\" }\n",
        "\n",
        "# Definition for singly-linked list.\n",
        "# class ListNode:\n",
        "#     def __init__(self, x):\n",
        "#         self.val = x\n",
        "#         self.next = None\n",
        "\n",
        "class Solution:\n",
        "    def getIntersectionNode(self, headA: ListNode, headB: ListNode) -> ListNode:\n",
        "        def lenList(head):\n",
        "            lenL = 0\n",
        "            cur = head\n",
        "            while cur != None:\n",
        "                lenL += 1\n",
        "                cur = cur.next\n",
        "            return lenL\n",
        "        def getindex(head, index):\n",
        "            if head == None:\n",
        "                return None\n",
        "            idx = 0\n",
        "            cur = head\n",
        "            while cur != None and idx < index:\n",
        "                idx += 1\n",
        "                cur = cur.next\n",
        "            return cur\n",
        "            \n",
        "        if headA == None or headB == None:\n",
        "            return None\n",
        "        curA = headA\n",
        "        curB = headB\n",
        "        lenA = lenList(headA)\n",
        "        lenB = lenList(headB)\n",
        "        if lenA > lenB:\n",
        "            curA = getindex(curA, lenA-lenB)\n",
        "        else:\n",
        "            curB = getindex(curB, lenB-lenA)\n",
        "        while curA != None and curA != curB:\n",
        "            curA = curA.next\n",
        "            curB = curB.next\n",
        "\n",
        "        return curA\n",
        "#@markdown <img valign=\"middle\" src=\"https://code-thinking.cdn.bcebos.com/pics/面试题02.07.链表相交_2.png\" width=\"500\" > \n"
      ],
      "metadata": {
        "id": "o6PPSakWVH8l",
        "cellView": "form"
      },
      "execution_count": null,
      "outputs": []
    },
    {
      "cell_type": "markdown",
      "source": [
        "### 142 Linked List Cycle II 解析\n",
        "\n",
        "+ ref\n",
        "\n",
        "    [0142.环形链表II](https://www.programmercarl.com/0142.环形链表II.html#思路)\n",
        "\n",
        "    [BM7、链表中环的入口结点](https://www.algomooc.com/3105.html)\n",
        "\n",
        "思路\n",
        "\n",
        "1. 怎么找环？ 当 slow=1 ， fast=2 ，为什么 fast 和 slow 一定会相遇？\n",
        "\n",
        "    如果有环，那么 slow 和 fast 终将进入环内。那么 slow 和 fast 在环内的移动就类似不同速度的人在400m的椭圆田径跑场上在不同位置上开跑，fast 终将追上 slow.\n",
        "\n",
        "    如果没有环，就类似跑马拉松，fast 会先一步到达终点变成 None，而此时 slow 还在 fast 的后面\n",
        "\n",
        "2. 当 slow=1 ， fast=2 ，fast 和 slow 相遇时，slow 指针是否绕环超过一圈？\n",
        "\n",
        "    先要辨析两个概念：**相遇和相交**。区别于实际的跑圈的“相遇即相交即擦肩”，在这道题里，**环形链表在这个的基础上增加了一条限制：跑道并非连续，而是有一个个的节点组成的**，这就存在了相交和相遇的区别。\n",
        "\n",
        "    “n1, n2, n3 ”\n",
        "    - slow 从 n2 前进 1 步变成 n3，fast 从 n1 前进 2 步变成 n3， fast 和 slow **相遇**在 n3， 在相遇之前 fast + 1 = slow\n",
        "\n",
        "    - slow 从 n3 前进 1 步变成 n4，fast 从 n1 前进 2 步变成 n3， 此时 fast + 1 = slow \n",
        "\n",
        "    - slow 从外面进入环内变成 n1 ，fast 从 n3 前进 2 步变成 n2，中途遇过n1，但只能说 fast 和 slow **相交** 在 n1\n",
        "\n",
        "    - fast 终将追赶 slow， 所以当 fast + n >= 1 的时候，每一次移动因为 fast 总比 slow 快1，所以距离在一步步减少直至等于1的时候就在下一步相遇\n",
        "\n",
        "3. slow 和 fast 的移动步数有什么规则？能否设置为 slow 每次移动 1 步，fast 每次移动 3、4、5…步？为什么设置 slow=1 ， fast=2 ？\n",
        "\n",
        "    只要两个速度不一样，也就是说有追及问题即可。当然可以，但是区别于真正追及问题，需要重新计算 fast 比 slow 多走的圈数\n",
        "\n",
        "    设置 slow=1 fast=2\n",
        "\n",
        "4. 怎么找环的入口位置？\n",
        "    由下图可知：\n",
        "\n",
        "    len(slow):= slow 走过的步数， len(fast):= fast 走过的步数\n",
        "\n",
        "    当 slow 和 fast 相遇的时候， len(slow) = x+y, len(fast) = x+y+n(y+z), n:= fast 多走的圈数\n",
        "\n",
        "    speed(fast) = 2speed(slow) => len(fast) 2len(slow) <=>  x+y = n(y+z)\n",
        "\n",
        "    我们想要找的是：x = n(y+z)-y, n(y+z)是整数的len(环)，也就是重新站在起点，“-”意味着后退，“y”意味着从起点走到相遇的路程。如果从起点出发走 n(y+z)-y 就是在起点倒走 y 步，那么如果是从相遇位置出发走 n(y+z)-y 就是站到了起点位置。\n",
        "\n",
        "    所以设计：cur1 和 cur2， 同样都是 1 speed，但是一个从起点出发，一个从相遇点出发，在 cur1 走 x 步来到入口的时候，cur2 也将来到入口，相遇在入口\n",
        "    \n",
        " <img valign=\"middle\" src=\"https://code-thinking-1253855093.file.myqcloud.com/pics/20220925103433.png\" width=\"500\" > \n",
        "\n",
        "\n"
      ],
      "metadata": {
        "id": "4MsY_AWC2APc"
      }
    },
    {
      "cell_type": "code",
      "source": [
        "#@title 142 Linked List Cycle II { vertical-output: true,form-width: \"40%\" }\n",
        "# Definition for singly-linked list.\n",
        "# class ListNode:\n",
        "#     def __init__(self, x):\n",
        "#         self.val = x\n",
        "#         self.next = None\n",
        "key = \"双指针的又一个用法，环的判断和环的入口！！【medium】\" #@param {type:\"string\"}\n",
        "class Solution:\n",
        "    def detectCycle(self, head: Optional[ListNode]) -> Optional[ListNode]:      \n",
        "        slow = head\n",
        "        fast = head\n",
        "        while fast != None and fast.next != None:\n",
        "            slow = slow.next\n",
        "            fast = fast.next.next\n",
        "            if slow == fast:\n",
        "                cur1 = head\n",
        "                cur2 = slow\n",
        "                while cur1 != cur2:\n",
        "                    cur1 = cur1.next\n",
        "                    cur2 = cur2.next\n",
        "                return cur1\n",
        "        return None\n",
        "\n",
        "#@markdown <img valign=\"middle\" src=\"https://assets.leetcode.com/uploads/2018/12/07/circularlinkedlist.png\" width=\"500\" > \n"
      ],
      "metadata": {
        "id": "4kixuL4how2L",
        "cellView": "form"
      },
      "execution_count": null,
      "outputs": []
    },
    {
      "cell_type": "markdown",
      "source": [
        "# hash table\n",
        "\n",
        "哈希表都是用来快速判断一个元素是否出现集合里\n",
        "\n",
        "当我们想使用哈希法来解决问题的时候，我们一般会选择如下三种数据结构。\n",
        "\n",
        "+ 数组\n",
        "+ set （集合）\n",
        "+ map(映射)\n",
        "\n",
        "哈希函数如下图所示，通过hashCode把名字转化为数值，一般hashcode是通过特定编码方式，可以将其他数据格式转化为不同的数值，\n",
        "\n",
        "但是哈希法也是牺牲了空间换取了时间，因为我们要使用额外的数组，set或者是map来存放数据，才能实现快速的查找。\n",
        "\n",
        "如果在做面试题目的时候遇到需要**判断一个元素是否出现过的场景**也应该第一时间想到哈希法！"
      ],
      "metadata": {
        "id": "B3zRwUVWgR66"
      }
    },
    {
      "cell_type": "markdown",
      "source": [
        "- `ord`\n",
        "\n",
        "    return ascii value\n",
        "\n",
        "    [Unicode - ord()](https://www.programiz.com/python-programming/methods/built-in/ord)\n",
        "\n",
        "- `collections.defaultict`\n",
        "\n",
        "    [defaultict]（https://www.jianshu.com/p/bbd258f99fd3）\n",
        "\n",
        "- `collections.Counter`\n",
        "\n",
        "    顾名思义就是用来计数的，最主要的作用就是计算“可迭代序列中”各个元素（element）的数量 \n",
        "    \n",
        "    [Counter](https://blog.csdn.net/sinat_28576553/article/details/99131954)\n",
        "\n",
        "- `set`\n",
        "\n",
        "- [如何在Python中使用sorted()和sort()](https://realpython.com/python-sort/)"
      ],
      "metadata": {
        "id": "7rUQsakZnzCp"
      }
    },
    {
      "cell_type": "code",
      "source": [
        "#@title 242 Valid Anagram { vertical-output: true,form-width: \"40%\" }\n",
        "s = \"anagram\" #@param {type:\"string\"}\n",
        "t = \"nagaram\" #@param {type:\"string\"}\n",
        "\n",
        "class Solution:\n",
        "\n",
        "    def isAnagram_dict(self, s: str, t: str) -> bool:\n",
        "        \"\"\"\n",
        "        这里用的是dict{}\n",
        "        缺点是 if key not in keys(), 调用dict[key] return error\n",
        "        所以我们在映射的时候就要 if key in dict.keys()\n",
        "        OR 使用 defaultdict\n",
        "        \"\"\"\n",
        "        def map_dict(string):\n",
        "            dict_s = {}\n",
        "            for s in string:\n",
        "                if s in dict_s.keys():\n",
        "                    dict_s[s] += 1\n",
        "                else:\n",
        "                    dict_s[s] = 1\n",
        "            return dict_s\n",
        "        def map_defaultdict(string):\n",
        " \n",
        "            from collections import defaultdict\n",
        "    \n",
        "            dict_s = defaultdict(int)\n",
        "            for s in string:\n",
        "                dict_s[s] += 1 # 这里就不需要 if 判断 \n",
        "            return dict_s\n",
        "\n",
        "        if s == None or t == None:\n",
        "            return False\n",
        "        dict_s = map_dict(s)\n",
        "        dict_t = map_defaultdict(t)\n",
        "\n",
        "        return dict_s == dict_t\n",
        "\n",
        "    def isAnagram_list(self, s:str, t:str) -> bool:\n",
        "        min_ord = float(\"inf\")\n",
        "        max_ord = 0\n",
        "        \"\"\"\n",
        "        设min/max of ord 就是因为不能设全部的ASCII大小\n",
        "        \"\"\"\n",
        "        for x in s+t:\n",
        "            if min_ord > ord(x):\n",
        "                min_ord = ord(x)\n",
        "            if max_ord < ord(x):\n",
        "                max_ord = ord(x)\n",
        "        lst = [0] * (max_ord-min_ord+1)\n",
        "        for x in s:\n",
        "            lst[ord(x)-min_ord] += 1\n",
        "        for x in t:\n",
        "            lst[ord(x)-min_ord] -= 1\n",
        "        if lst != [0] * (max_ord-min_ord+1):\n",
        "            return False\n",
        "        return True\n",
        "    \n",
        "    def isAnagram_counter(self, s: str, t: str) -> bool:\n",
        "        \n",
        "        from collections import Counter\n",
        "        \"\"\"\n",
        "        顾名思义就是用来计数的，计算“可迭代序列中”各个元素的数量\n",
        "        \"\"\"\n",
        "\n",
        "        s_count = Counter(s)\n",
        "        t_count = Counter(t)\n",
        "        return s_count == t_count\n",
        "    def isAnagram_char(self, s: str, t: str) -> bool:\n",
        "        s_set = set(s)\n",
        "        t_set = set(t)\n",
        "        if s_set != t_set:\n",
        "            return False\n",
        "        for x in s_set:\n",
        "            if s.count(x) != t.count(x):\n",
        "                return False\n",
        "        return True\n",
        "\n",
        "    def isAnagram(self, s: str, t: str) -> bool:\n",
        "        TF = self.isAnagram_char(s, t)\n",
        "        return TF\n",
        "sol = Solution()\n",
        "sol.isAnagram(s, t)"
      ],
      "metadata": {
        "colab": {
          "base_uri": "https://localhost:8080/"
        },
        "cellView": "form",
        "id": "oFcKR6iSfS78",
        "outputId": "323a066e-38ff-49df-aed5-4e8c54b01b65"
      },
      "execution_count": null,
      "outputs": [
        {
          "output_type": "execute_result",
          "data": {
            "text/plain": [
              "True"
            ]
          },
          "metadata": {},
          "execution_count": 3
        }
      ]
    },
    {
      "cell_type": "code",
      "source": [
        "#@title 383 Ransom Note { vertical-output: true,form-width: \"40%\" }\n",
        "s = \"aa\" #@param {type:\"string\"}\n",
        "t = \"aab\" #@param {type:\"string\"}\n",
        "\n",
        "class Solution:\n",
        "    def canConstruct_dict(self, ransomNote: str, magazine: str) -> bool:\n",
        "        from collections import defaultdict\n",
        "        import numpy as np\n",
        "        magazine_dict = defaultdict(int)\n",
        "\n",
        "        for s in magazine:\n",
        "            magazine_dict[s] += 1\n",
        "        for s in ransomNote:\n",
        "            magazine_dict[s] -= 1\n",
        "        for s in magazine_dict.keys():\n",
        "            if magazine_dict[s] < 0:\n",
        "                return False\n",
        "        return True\n",
        "\n",
        "    def canConstruct(self, ransomNote: str, magazine: str) -> bool:\n",
        "        set_ransomNote = list(set(ransomNote))\n",
        "        for i in set_ransomNote:\n",
        "            if ransomNote.count(i) > magazine.count(i):\n",
        "                return False\n",
        "        return True\n",
        "sol = Solution()\n",
        "sol.canConstruct(s, t)"
      ],
      "metadata": {
        "colab": {
          "base_uri": "https://localhost:8080/"
        },
        "id": "GNy9TBpMpcp5",
        "outputId": "2658dcd9-562f-421f-8457-d9f9510d0fc2",
        "cellView": "form"
      },
      "execution_count": null,
      "outputs": [
        {
          "output_type": "execute_result",
          "data": {
            "text/plain": [
              "True"
            ]
          },
          "metadata": {},
          "execution_count": 4
        }
      ]
    },
    {
      "cell_type": "code",
      "source": [
        "#@title 49 Group Anagrams { vertical-output: true,form-width: \"40%\" }\n",
        "strs = [\"eat\",\"tea\",\"tan\",\"ate\",\"nat\",\"bat\"] #@param {type:\"raw\"}\n",
        "key = \"the use of sorted\" #@param {type:\"string\"}\n",
        "\n",
        "class Solution:\n",
        "    def groupAnagrams(self, strs: list[str]) -> list[list[str]]:\n",
        "        from collections import defaultdict\n",
        "\n",
        "        s_dict = defaultdict(list)\n",
        "\n",
        "        for s in strs:\n",
        "            s_sorted = \"\".join(sorted(s))\n",
        "            s_dict[s_sorted].append(s)\n",
        "        return list(s_dict.values())\n",
        "        \n",
        "sol = Solution()\n",
        "sol.groupAnagrams(strs)"
      ],
      "metadata": {
        "colab": {
          "base_uri": "https://localhost:8080/"
        },
        "cellView": "form",
        "id": "hTUH7WPnBvLr",
        "outputId": "ccf89446-98ee-45bf-8c93-6672aa9737e7"
      },
      "execution_count": null,
      "outputs": [
        {
          "output_type": "execute_result",
          "data": {
            "text/plain": [
              "[['eat', 'tea', 'ate'], ['tan', 'nat'], ['bat']]"
            ]
          },
          "metadata": {},
          "execution_count": 1
        }
      ]
    },
    {
      "cell_type": "code",
      "source": [
        "#@title 438 Find All Anagrams in a String { vertical-output: true,form-width: \"40%\" }\n",
        "s = \"cbaebabacd\" #@param {type:\"string\"}\n",
        "p = \"abc\" #@param {type:\"string\"}\n",
        "key = \"怎么样时间变少【滑动窗口法，因为只统计一次！！】\"#@param {type:\"string\"}\n",
        "\n",
        "class Solution:\n",
        "    def findAnagrams(self, s: str, p: str) -> list[int]:\n",
        "        if s == \"\" or p == \"\":\n",
        "            return []\n",
        "        \n",
        "        p_set = set(p)\n",
        "        s_set = set(s)\n",
        "        sp_min = ord(min(min(p_set), min(s_set)))\n",
        "        sp_max = ord(max(max(p_set), max(s_set)))\n",
        "        p_lst = [0]*(sp_max - sp_min + 1)\n",
        "        s_lst = [0] * len(p_lst)\n",
        "        for x in p:\n",
        "            p_lst[ord(x)- sp_min] += 1\n",
        "\n",
        "        slow = 0\n",
        "        fast = 0\n",
        "        idxs = []\n",
        "        \n",
        "        while fast < len(s) :\n",
        "            fast_ = ord(s[fast]) - sp_min\n",
        "            s_lst[fast_] += 1\n",
        "            while s_lst[fast_] > p_lst[fast_]:\n",
        "                slow_ = ord(s[slow]) - sp_min\n",
        "                s_lst[slow_] -= 1\n",
        "                slow += 1\n",
        "                \n",
        "            if fast - slow +1 == len(p):\n",
        "                idxs.append(slow)\n",
        "\n",
        "            fast += 1\n",
        "    \n",
        "        return idxs \n",
        "sol = Solution()\n",
        "sol.findAnagrams(s, p)\n"
      ],
      "metadata": {
        "colab": {
          "base_uri": "https://localhost:8080/"
        },
        "id": "PKc6IKfYCOdP",
        "outputId": "82c668cc-8509-4b45-babe-2495435e1919",
        "cellView": "form"
      },
      "execution_count": null,
      "outputs": [
        {
          "output_type": "execute_result",
          "data": {
            "text/plain": [
              "[0, 6]"
            ]
          },
          "metadata": {},
          "execution_count": 10
        }
      ]
    },
    {
      "cell_type": "code",
      "source": [
        "#@title 349 Intersection of Two Arrays { vertical-output: true,form-width: \"40%\" }\n",
        "nums1 = [1,2,2,1] #@param {type:\"raw\"}\n",
        "nums2 = [2,2] #@param {type:\"raw\"}\n",
        "\n",
        "class Solution:\n",
        "    def intersection(self, nums1: list[int], nums2: list[int]) -> list[int]:\n",
        "        set1 = set(nums1)\n",
        "        set2 = set(nums2)\n",
        "        p1 = set1 - set2\n",
        "        p2 = set2 - set1\n",
        "        return list(set1.union(set2) - p1 - p2)\n",
        "\n",
        "sol = Solution()\n",
        "sol.intersection(nums1, nums2)\n",
        "        "
      ],
      "metadata": {
        "colab": {
          "base_uri": "https://localhost:8080/"
        },
        "id": "rex3fM5El-7Y",
        "outputId": "ac1ba588-0724-436e-db7b-d60f7234edd9",
        "cellView": "form"
      },
      "execution_count": null,
      "outputs": [
        {
          "output_type": "execute_result",
          "data": {
            "text/plain": [
              "[2]"
            ]
          },
          "metadata": {},
          "execution_count": 2
        }
      ]
    },
    {
      "cell_type": "code",
      "source": [
        "#@title 350 Intersection of Two Arrays II { vertical-output: true,form-width: \"40%\" }\n",
        "nums1 = [1,2,2,1] #@param {type:\"raw\"}\n",
        "nums2 = [2,2] #@param {type:\"raw\"}\n",
        "\n",
        "class Solution:\n",
        "    def intersect(self, nums1: list[int], nums2: list[int]) -> list[int]:\n",
        "        from collections import defaultdict\n",
        "        dic1 = defaultdict(int)\n",
        "        lst = []\n",
        "        for x in nums1:\n",
        "            dic1[x] += 1\n",
        "        for x in nums2:\n",
        "            dic1[x] -= 1\n",
        "            if dic1[x] >= 0:\n",
        "                lst.append(x)\n",
        "        return lst\n",
        "\n",
        "sol = Solution()\n",
        "sol.intersect(nums1, nums2)"
      ],
      "metadata": {
        "colab": {
          "base_uri": "https://localhost:8080/"
        },
        "id": "_t3KivJTmk7I",
        "outputId": "664ba897-4583-4c97-98f2-e21b59a02e15",
        "cellView": "form"
      },
      "execution_count": null,
      "outputs": [
        {
          "output_type": "execute_result",
          "data": {
            "text/plain": [
              "[2, 2]"
            ]
          },
          "metadata": {},
          "execution_count": 4
        }
      ]
    },
    {
      "cell_type": "code",
      "source": [
        "#@title 202 Happy Number { vertical-output: true,form-width: \"40%\" }\n",
        "n = 19 #@param {type:\"integer\"}\n",
        "key =\" 关键落在无限循环，一旦重复了就是无限循环的开始\" #@param {type:\"string\"}\n",
        "\n",
        "\n",
        "class Solution:\n",
        "    \"\"\"\n",
        "    快乐数定义：\n",
        "        对于一个正整数，每一次将该数替换为它每个位置上的数字的平方和。\n",
        "        然后重复这个过程直到这个数变为 1，也可能是 **无限循环 但始终变不到 1 **。\n",
        "        如果这个过程 结果为 1，那么这个数就是快乐数。\n",
        "    \"\"\"\n",
        "    def isHappy(self, n: int) -> bool:\n",
        "        if n <= 0 :\n",
        "            return False\n",
        "        n_set = {n}\n",
        "        while n != 1:\n",
        "            n_str = str(n)\n",
        "            n = 0\n",
        "            for s in n_str:\n",
        "                n += int(s) ** 2\n",
        "            if n in n_set:\n",
        "                return False\n",
        "            else:\n",
        "                n_set.add(n)\n",
        "        return True\n",
        "sol = Solution()\n",
        "sol.isHappy(n)"
      ],
      "metadata": {
        "colab": {
          "base_uri": "https://localhost:8080/"
        },
        "id": "pfJ_HQXJsoMh",
        "outputId": "c53bed7a-1804-4d4a-962b-be58ae6f3fcc",
        "cellView": "form"
      },
      "execution_count": null,
      "outputs": [
        {
          "output_type": "execute_result",
          "data": {
            "text/plain": [
              "True"
            ]
          },
          "metadata": {},
          "execution_count": 6
        }
      ]
    },
    {
      "cell_type": "code",
      "source": [
        "\n",
        "#@title 1 Two Sum { vertical-output: true,form-width: \"40%\" }\n",
        "nums = [3,2,4] #@param {type:\"raw\"}\n",
        "target = 6 #@param {type:\"integer\"}\n",
        "\n",
        "class Solution:\n",
        "    def twoSum(self, nums: list[int], target: int) -> list[int]:\n",
        "        nums_set = set(nums)\n",
        "        lst = []\n",
        "        flag = -1\n",
        "        for i in range(len(nums)):\n",
        "            if target - nums[i] in nums_set:\n",
        "                if nums[i] * 2 == target:\n",
        "                    if flag < 0:\n",
        "                        flag = i\n",
        "                    else:\n",
        "                        break\n",
        "                else:\n",
        "                    lst.append(i)\n",
        "        if len(lst) == 0:\n",
        "            lst = [flag, i]\n",
        "        return lst\n",
        "\n",
        "sol = Solution()\n",
        "sol.twoSum(nums, target)"
      ],
      "metadata": {
        "colab": {
          "base_uri": "https://localhost:8080/"
        },
        "id": "vKBM8IZNy4Ce",
        "outputId": "925dc2ae-2998-46df-db03-4c2f53352876",
        "cellView": "form"
      },
      "execution_count": null,
      "outputs": [
        {
          "output_type": "execute_result",
          "data": {
            "text/plain": [
              "[1, 2]"
            ]
          },
          "metadata": {},
          "execution_count": 7
        }
      ]
    },
    {
      "cell_type": "code",
      "source": [
        "#@title 454 4Sum II { vertical-output: true,form-width: \"40%\" }\n",
        "nums1 = [1,2] #@param {type:\"raw\"}\n",
        "nums2 = [-2,-1]#@param {type:\"raw\"}\n",
        "nums3 = [-1,2]#@param {type:\"raw\"}\n",
        "nums4 = [0,2]#@param {type:\"raw\"}\n",
        "keys = \"怎么降时间复杂度\" #@param {type:\"string\"}\n",
        "\n",
        "class Solution:\n",
        "    def fourSumCount(self, nums1: list[int], nums2: list[int], nums3: list[int], nums4: list[int]) -> int:\n",
        "\n",
        "        def dic(arr):\n",
        "            temp = dict()\n",
        "            for s in arr:\n",
        "                if s not in temp.keys():\n",
        "                    temp[s] = 1\n",
        "                else:\n",
        "                    temp[s] += 1\n",
        "            return temp\n",
        "        \n",
        "        temp1 = dic(nums1)\n",
        "        temp2 = dic(nums2)\n",
        "        total = dict()\n",
        "\n",
        "        for a in temp1.keys():\n",
        "            for b in temp2.keys():\n",
        "                if a+b not in total.keys():\n",
        "                    total[a+b] = temp1[a] * temp2[b]\n",
        "                else:\n",
        "                    total[a+b] += temp1[a] * temp2[b]\n",
        "        temp1 = dic(nums3)\n",
        "\n",
        "        temp2 = dic(nums4)\n",
        "        res = 0\n",
        "        for c in temp1.keys():\n",
        "            for d in temp2.keys():\n",
        "                if (0-c-d) in total.keys():\n",
        "                    res += temp1[c]*temp2[d]*total[0-c-d]\n",
        "        return res\n",
        "\n",
        "sol = Solution()\n",
        "sol.fourSumCount(nums1, nums2, nums3, nums4)"
      ],
      "metadata": {
        "id": "LHjTgfAqo6Xa",
        "colab": {
          "base_uri": "https://localhost:8080/"
        },
        "outputId": "7a573d4d-7c13-48ae-9787-3608d9cd14f3",
        "cellView": "form"
      },
      "execution_count": null,
      "outputs": [
        {
          "output_type": "execute_result",
          "data": {
            "text/plain": [
              "2"
            ]
          },
          "metadata": {},
          "execution_count": 3
        }
      ]
    },
    {
      "cell_type": "code",
      "source": [
        "#@title 15 3Sum { vertical-output: true,form-width: \"40%\" }\n",
        "nums = [0,0,0,0]#@param {type:\"raw\"}\n",
        "key = \"排序， 双指针，去重 \"#@param {type:\"string\"}\n",
        "\n",
        "class Solution:\n",
        "    def threeSum(self, nums: list[int]) -> list[list[int]]:\n",
        "        if len(nums) < 3 : return []\n",
        "        nums, res = sorted(nums), []\n",
        "        # print(nums)\n",
        "        for i in range(len(nums)-2):  # 预留给left and right 的位置\n",
        "            if nums[i] + nums[i+1] + nums[2] > 0: # 在排序之后连最小的都大于0 就不用玩了 -> 算前三个这样多避免[-1,-1,3,5]\n",
        "                break\n",
        "            if nums[i] + nums[-2] + nums[-1] < 0: #因为最后两个是最大的，所以是如果还是小于0就直接跳，因为i从小开始，所以还能有救\n",
        "                continue\n",
        "            \"\"\"\n",
        "            注意 break 和 continue 的区别 \n",
        "            \"\"\"\n",
        "            if i > 0 and nums[i] == nums[i-1]: # duplicate 1st !!! i == i-1\n",
        "                continue \n",
        "            left, right = i+1, len(nums)-1\n",
        "            while left <  right:\n",
        "                temp = nums[i] + nums[left] + nums[right]\n",
        "\n",
        "                if temp < 0:\n",
        "                    left += 1\n",
        "                elif temp > 0:\n",
        "                    right -= 1\n",
        "                else: # temp == 0 \n",
        "                    res.append([nums[i], nums[left], nums[right]])\n",
        "                    left += 1\n",
        "                    while left < right and nums[left] == nums[left-1]: # duplicate 2nd !!! left == left-1\n",
        "                        left += 1\n",
        "                    right -= 1\n",
        "                    while left < right and nums[right] == nums[right+1]: # duplicate 3rd !!! right == right+1\n",
        "                        right -= 1\n",
        "        return res\n",
        "sol = Solution()\n",
        "sol.threeSum(nums)"
      ],
      "metadata": {
        "colab": {
          "base_uri": "https://localhost:8080/"
        },
        "id": "C_Dlsvuqrfjh",
        "outputId": "8bc88e1b-aad4-4970-f040-be33b274fcf8",
        "cellView": "form"
      },
      "execution_count": null,
      "outputs": [
        {
          "output_type": "execute_result",
          "data": {
            "text/plain": [
              "[[0, 0, 0]]"
            ]
          },
          "metadata": {},
          "execution_count": 8
        }
      ]
    },
    {
      "cell_type": "code",
      "source": [
        "#@title 18 4Sum { vertical-output: true,form-width: \"40%\" }\n",
        "nums = [1,0,-1,0,-2,2]#@param {type:\"raw\"}\n",
        "target = 0 #@param {type:\"integer\"}\n",
        "key = \"排序， 双指针，去重 \"#@param {type:\"string\"}\n",
        "\n",
        "\n",
        "class Solution:\n",
        "    def fourSum(self, nums: list[int], target: int) -> list[list[int]]:\n",
        "        if len(nums) < 4:\n",
        "            return []\n",
        "        nums, res = sorted(nums), []\n",
        "        #print(nums)\n",
        "        if nums[0] + nums[1] + nums[2] + nums[3] > target:\n",
        "            return []\n",
        "        \n",
        "        for i in range(len(nums)-3): # 預留三個指針的位置\n",
        "            if nums[i] + nums[i+1] + nums[i+2] + nums[i+3] > target:\n",
        "                break\n",
        "            if nums[i] + nums[-3] + nums[-2] +nums[-1] < target:\n",
        "                continue\n",
        "            if i > 0 and nums[i] == nums[i-1]:\n",
        "                continue\n",
        "            for j in range(i+1, len(nums)-2):\n",
        "                left, right = j+1, len(nums)-1\n",
        "                if j > i+1 and nums[j] == nums[j-1]:\n",
        "                    continue\n",
        "                while left < right:\n",
        "                    temp = nums[i] + nums[j] + nums[left] + nums[right] \n",
        "                    if temp > target:\n",
        "                        right -= 1\n",
        "                    elif temp < target:\n",
        "                        left +=  1\n",
        "                    else: # temp == target\n",
        "                        res.append([nums[i], nums[j], nums[left], nums[right]])\n",
        "                        left += 1\n",
        "                        while left < right and nums[left] == nums[left-1]:\n",
        "                            left += 1\n",
        "                        right -= 1\n",
        "                        while left < right and nums[right] == nums[right+1]:\n",
        "                            right -= 1\n",
        "\n",
        "        return res\n",
        "sol = Solution()\n",
        "sol.fourSum(nums, target)\n"
      ],
      "metadata": {
        "colab": {
          "base_uri": "https://localhost:8080/"
        },
        "cellView": "form",
        "id": "oHcdj1ScEjT4",
        "outputId": "e83d7ca3-7b40-4fe1-fae0-6c8916c95d4e"
      },
      "execution_count": null,
      "outputs": [
        {
          "output_type": "stream",
          "name": "stdout",
          "text": [
            "[-2, -1, 0, 0, 1, 2]\n",
            "0 1 2 5\n",
            "0 1 3 5\n",
            "0 2 3 5\n",
            "1 2 3 5\n",
            "1 2 3 4\n"
          ]
        },
        {
          "output_type": "execute_result",
          "data": {
            "text/plain": [
              "[[-2, 0, 0, 2], [-1, 0, 0, 1]]"
            ]
          },
          "metadata": {},
          "execution_count": 19
        }
      ]
    },
    {
      "cell_type": "markdown",
      "source": [
        "# string\n",
        "\n",
        "\n",
        "对于字符串s = 'abc'，如果使用s[0:999] ===> 'abc'。字符串末尾如果超过最大长度，则会返回至字符串最后一个值，这个特性可以避免一些边界条件的处理。"
      ],
      "metadata": {
        "id": "52yEDJJxkqo1"
      }
    },
    {
      "cell_type": "code",
      "source": [
        "#@title 344 Reverse String { vertical-output: true,form-width: \"40%\" }\n",
        "s = [\"h\",\"e\",\"l\",\"l\",\"o\"] #@param {type:\"raw\"}\n",
        "class Solution:\n",
        "    def reverseString(self, s: list[str]) -> None:\n",
        "        \"\"\"\n",
        "        Do not return anything, modify s in-place instead.\n",
        "        \"\"\"\n",
        "                \n",
        "        # 该方法已经不需要判断奇偶数，经测试后时间空间复杂度比用 for i in range(right//2)更低\n",
        "        # 推荐该写法，更加通俗易懂\n",
        "        left, right = 0, len(s)-1\n",
        "        while left < right:\n",
        "            s[left], s[right] = s[right], s[left]\n",
        "            left += 1\n",
        "            right -= 1\n",
        "        return s\n",
        "sol = Solution()\n",
        "sol.reverseString(s)"
      ],
      "metadata": {
        "colab": {
          "base_uri": "https://localhost:8080/"
        },
        "id": "Xx6AdfOlkz31",
        "outputId": "1dbcaa70-4a0f-4f4e-c3a9-ea07dced33e9",
        "cellView": "form"
      },
      "execution_count": null,
      "outputs": [
        {
          "output_type": "execute_result",
          "data": {
            "text/plain": [
              "['o', 'l', 'l', 'e', 'h']"
            ]
          },
          "metadata": {},
          "execution_count": 22
        }
      ]
    },
    {
      "cell_type": "code",
      "source": [
        "#@title 541 Reverse String II ver 1 { vertical-output: true,form-width: \"40%\" }\n",
        "s = \"abcdefg\" #@param {type:\"string\"}\n",
        "k = 2 #@param {type:\"integer\"}\n",
        "class Solution:\n",
        "    def reverseStr(self, s: str, k: int) -> str:\n",
        "        s_len  = len(s)\n",
        "        s_round = s_len // (2*k)\n",
        "        s = list(s)\n",
        "        if s_len % (2*k) > 0: \n",
        "            s_round += 1\n",
        "        for i in range(s_round):\n",
        "            left = 0 + 2 * k * i\n",
        "            right = min(left+k-1, s_len-1)\n",
        "            while left < right:\n",
        "                s[left], s[right] = s[right], s[left]\n",
        "                left += 1\n",
        "                right -= 1\n",
        "        return \"\".join(s)\n",
        "sol = Solution()\n",
        "sol.reverseStr(s, k)"
      ],
      "metadata": {
        "colab": {
          "base_uri": "https://localhost:8080/",
          "height": 58
        },
        "id": "vx9iEMQamZIm",
        "outputId": "6ab6e1bc-fd23-486c-cd32-98bd6354f56c",
        "cellView": "form"
      },
      "execution_count": null,
      "outputs": [
        {
          "output_type": "execute_result",
          "data": {
            "text/plain": [
              "'bacdfeg'"
            ],
            "application/vnd.google.colaboratory.intrinsic+json": {
              "type": "string"
            }
          },
          "metadata": {},
          "execution_count": 24
        }
      ]
    },
    {
      "cell_type": "code",
      "source": [
        "#@title 541 Reverse String II ver 2 { vertical-output: true,form-width: \"40%\" }\n",
        "s = \"abcdefg\" #@param {type:\"string\"}\n",
        "k = 2 #@param {type:\"integer\"}\n",
        "key = \" more pythonic 用切片進行互換\" #@param {type:\"string\"}\n",
        "\n",
        "class Solution:\n",
        "    def reverseStr(self, s: str, k: int) -> str:\n",
        "        # Two pointers. Another is inside the loop.\n",
        "        p = 0\n",
        "        while p < len(s):\n",
        "            p2 = p + k\n",
        "            # Written in this could be more pythonic.\n",
        "            s = s[:p] + s[p: p2][::-1] + s[p2:]\n",
        "            p = p + 2 * k\n",
        "        return s\n",
        "sol = Solution()\n",
        "sol.reverseStr(s)\n"
      ],
      "metadata": {
        "id": "h_zM4h_Wq-ls",
        "cellView": "form"
      },
      "execution_count": null,
      "outputs": []
    },
    {
      "cell_type": "code",
      "source": [
        "#@title 剑指 Offer 05. 替换空格 LCOF { vertical-output: true,form-width: \"40%\" }\n",
        "s = \"We are happy.\" #@param {type:\"string\"}\n",
        "\n",
        "class Solution:\n",
        "    def replaceSpace(self, s: str) -> str:\n",
        "        s_lst = [0] * 3 * len(s)\n",
        "        slow = len(s)-1\n",
        "        fast = len(s_lst)-1\n",
        "        while slow >= 0:\n",
        "            if s[slow] != \" \":\n",
        "                s_lst[fast] = s[slow]\n",
        "                fast -= 1\n",
        "            else:\n",
        "                s_lst[fast-2:fast+1] = \"%20\"\n",
        "                fast -= 3\n",
        "            slow -= 1\n",
        "        return \"\".join(s_lst[fast+1:])\n",
        "            \n",
        "        \"\"\"\n",
        "        s_new = \"\"\n",
        "        for x in s:\n",
        "            if x == \" \":\n",
        "                s_new += \"%20\"\n",
        "            else:\n",
        "                s_new += x\n",
        "        return s_new\n",
        "        \"\"\"\n",
        "\n",
        "        \"\"\"\n",
        "        i = 0\n",
        "        while i < len(s):\n",
        "            if s[i] == \" \":\n",
        "                s = s[:i] + \"%20\" + s[i+1:]\n",
        "                i += 2\n",
        "            i += 1 \n",
        "        \n",
        "        return s\n",
        "        \"\"\"\n",
        "sol = Solution()\n",
        "sol.replaceSpace(s)"
      ],
      "metadata": {
        "colab": {
          "base_uri": "https://localhost:8080/",
          "height": 58
        },
        "cellView": "form",
        "id": "1PdDtuOuue__",
        "outputId": "d3769ab6-c715-4dc1-838b-d68ade2d7b32"
      },
      "execution_count": null,
      "outputs": [
        {
          "output_type": "execute_result",
          "data": {
            "text/plain": [
              "'We%20are%20happy.'"
            ],
            "application/vnd.google.colaboratory.intrinsic+json": {
              "type": "string"
            }
          },
          "metadata": {},
          "execution_count": 25
        }
      ]
    },
    {
      "cell_type": "code",
      "source": [
        "#@title 151 Reverse Words in a String { vertical-output: true,form-width: \"40%\" }\n",
        "s = \"aa    fffff   ff gg ee\" #@param {type:\"string\"}\n",
        "class Solution:\n",
        "    def reverseWords(self, s: str) -> str:\n",
        "        s_new = \"\"\n",
        "        right = len(s)-1\n",
        "        while right >= 0:\n",
        "            while s[right] == \" \":\n",
        "                right -= 1\n",
        "            left = right\n",
        "            while left >=0 and s[left] != \" \":\n",
        "                left -= 1\n",
        "            \n",
        "            if left < -1 or right < 0:\n",
        "                break\n",
        "            s_new += s[left+1 : right+1] + \" \"\n",
        "            right = left - 1 \n",
        "            \n",
        "        return s_new[:-1]\n",
        "sol = Solution()\n",
        "sol.reverseWords(s)\n"
      ],
      "metadata": {
        "colab": {
          "base_uri": "https://localhost:8080/",
          "height": 58
        },
        "id": "UPHH2nL104sm",
        "outputId": "2fcc7035-5362-4a59-acf1-690486c52cef",
        "cellView": "form"
      },
      "execution_count": null,
      "outputs": [
        {
          "output_type": "execute_result",
          "data": {
            "text/plain": [
              "'ee gg ff fffff aa'"
            ],
            "application/vnd.google.colaboratory.intrinsic+json": {
              "type": "string"
            }
          },
          "metadata": {},
          "execution_count": 61
        }
      ]
    },
    {
      "cell_type": "code",
      "source": [
        "#@title 剑指Offer 58 - II. 左旋转字符串 { vertical-output: true,form-width: \"40%\" }\n",
        "s = \"abcdefg\" #@param {type:\"string\"}\n",
        "n = 2 #@param {type:\"integer\"}\n",
        "class Solution:\n",
        "    def reverseLeftWords(self, s: str, n: int) -> str:\n",
        "        return s[n:] + s[:n]\n",
        "sol = Solution()\n",
        "sol.reverseLeftWords(s, n)"
      ],
      "metadata": {
        "id": "0_G6gXitEvZn",
        "colab": {
          "base_uri": "https://localhost:8080/",
          "height": 58
        },
        "cellView": "form",
        "outputId": "55d16cdd-0c1d-4665-fd85-f40323d302d6"
      },
      "execution_count": 1,
      "outputs": [
        {
          "output_type": "execute_result",
          "data": {
            "text/plain": [
              "'cdefgab'"
            ],
            "application/vnd.google.colaboratory.intrinsic+json": {
              "type": "string"
            }
          },
          "metadata": {},
          "execution_count": 1
        }
      ]
    },
    {
      "cell_type": "markdown",
      "source": [
        "### KMP\n",
        "- ref\n",
        "\n",
        "    - [ref1 : 实现strStr() by代码随想录](https://www.programmercarl.com/0028.实现strStr.html#其他语言版本)\n",
        "\n",
        "\n",
        "应用：**字符串匹配**上。\n",
        "\n",
        "- 思想：\n",
        "    \n",
        "    当出现字符串不匹配时，可以知道**一部分之前已经匹配的文本内容**，可以利用这些信息避免从头再去做匹配了。所以如何记录已经匹配的文本内容，是KMP的重点，也是next数组肩负的重任。\n",
        "\n",
        "\n",
        "- 最长公共前后缀？\n",
        "\n",
        "    - **前缀** 不包含最后一个字符的所有以第一个字符开头的连续子串\n",
        "    \n",
        "    - **后缀** 不包含第一个字符的所有以最后一个字符结尾的连续子串\n",
        "\n",
        "    - **公共前后缀**, 有点类回文的感觉， 前面(前缀)和后面(后缀)长得一样(公共)\n",
        "\n",
        "    - 为什么**最长公共前后缀能记录下一部分之前已经匹配的信息能避免从头再做匹配**？\n",
        "\n",
        "        因为我们是找 子序列(目前已经进入patten匹配环节的对模式串的遍历过程中) 的最长公共前后缀。\n",
        "\n",
        "        At this moment： **【前缀表】**\n",
        "        \n",
        "        - 此时遍历到 `j=5`  fail <=>   `text[i] != patten[j]` => **子序列**  `patten[0:j]` (`j` is not included)\n",
        "        \n",
        "        - 前缀表在 `j-1=4` 位置上记录的是 `k=2=len(公共前后缀)`  =>  `patten[0:k] == patten[j-k:j]` -> `patten[0:2] == patten[3:5]` (2 is not included)\n",
        "\n",
        "        - 当在 `j` fail 的时候我们把 j 调回到 `j = k = 2` 从j的位置开始对进行匹配\n",
        "\n",
        "        之所以在 `j` 的时候 fail ，是因为前j-1个都成功匹配上了 =》 `text[i-j:i] == patten[:j]`\n",
        "\n",
        "        因为公共前后缀的特性 =》 `patten[0:k] == patten[j-k:j]`\n",
        "        \n",
        "        ===》`text[i-k:i] == patten[j-k:j] == patten[0:k] `, 所以 patten 串前k个已经相等，所以只需要跳转到`k`的位置继续匹配\n",
        "\n",
        "        因为最长这个特性 所以就能最大程度上增加k\n",
        "\n",
        "\n",
        "\n",
        "- next 数组：\n",
        "    \n",
        "    next数组就是一个前缀表（prefix table）。\n",
        "\n",
        "    前缀表是用来回退的，它记录了模式串与主串(文本串)不匹配的时候，模式串应该从哪里开始重新匹配。\n",
        "\n",
        "    记录下标`i`之前（包括`i`）的字符串中，有**多大长度的相同前后缀**。\n",
        "\n",
        "    - next数组 和 前缀表 \n",
        "\n",
        "        next数组就可以是前缀表，但是很多实现都是把**前缀表统一减一（右移一位，初始位置为-1）**之后作为next数组\n",
        "\n",
        "\n",
        "\n",
        "- when `j=5`  fail **【next 数组】**\n",
        "\n",
        "    ```{\n",
        "    if text[i] != patten[j]:\n",
        "        j = next[j-1]+1\n",
        "    ```\n",
        "\n",
        "    \n",
        "\n",
        "- 怎么建立 next 数组？\n",
        "\n",
        "    1. 初始化 \n",
        "     \n",
        "    2. 处理前后缀不相同的情况 \n",
        "\n",
        "    3. 处理前后缀相同的情况\n",
        "\n",
        "\n",
        " \n",
        "\n",
        "\n",
        "\n",
        "\n",
        "\n",
        "\n",
        "\n",
        "\n",
        "\n",
        "\n",
        "\n",
        "\n",
        "\n",
        "\n"
      ],
      "metadata": {
        "id": "P3zbvLZlc8hc"
      }
    },
    {
      "cell_type": "code",
      "source": [
        "#@title { vertical-output: true,form-width: \"40%\" }\n",
        "haystack = \"mississippi\" #@param {type:\"string\"}\n",
        "needle = \"sippia\" #@param {type:\"string\"}\n",
        "\n",
        "class Solution:\n",
        "    def strStr(self, haystack: str, needle: str) -> int:\n",
        "        if len(haystack) < len(needle):\n",
        "            return -1\n",
        "        left, flag = 0, 0\n",
        "        while left < len(haystack):\n",
        "            if len(haystack) - left < len(needle) - flag:\n",
        "                return -1 \n",
        "            if len(haystack) - left == len(needle) - flag and haystack[left] != needle[flag]:\n",
        "                return -1\n",
        "            if haystack[left] != needle[flag]:\n",
        "                left += 1\n",
        "            else:\n",
        "                right = left\n",
        "                while flag < len(needle) and haystack[right] == needle[flag]:\n",
        "                    right += 1\n",
        "                    flag += 1\n",
        "                if flag == len(needle):\n",
        "                    return left\n",
        "                else: # \"abaababbab\" \"ababbab\"\n",
        "                    left += 1\n",
        "                    flag  = 0 \n",
        "\n",
        "\"\"\"\n",
        "                        字符串简洁版\n",
        "class Solution:\n",
        "    def strStr(self, haystack: str, needle: str) -> int:\n",
        "        if len(haystack) < len(needle):\n",
        "            return -1\n",
        "        for i in range(len(haystack)-len(needle)+1):\n",
        "            if haystack[i:i+len(needle)] == needle:\n",
        "                return i\n",
        "        return -1\n",
        "\n",
        "\"\"\"\n",
        "sol = Solution()\n",
        "sol.strStr(haystack, needle)"
      ],
      "metadata": {
        "colab": {
          "base_uri": "https://localhost:8080/"
        },
        "id": "SvktcPRUVEIj",
        "outputId": "a7cf17ff-eed6-418c-e4c3-bd918982c79a"
      },
      "execution_count": 12,
      "outputs": [
        {
          "output_type": "execute_result",
          "data": {
            "text/plain": [
              "-1"
            ]
          },
          "metadata": {},
          "execution_count": 12
        }
      ]
    },
    {
      "cell_type": "code",
      "source": [
        "#@title { vertical-output: true,form-width: \"40%\" }\n",
        "haystack = \"mississippi\" #@param {type:\"string\"}\n",
        "needle = \"aabaaf\" #@param {type:\"string\"}\n",
        "\n",
        "class Solution:\n",
        "    #next[i] 表示 i（包括i）之前最长相等的前后缀长度（其实就是j）\n",
        "    def next(self, str, needle: str) -> int:\n",
        "        next = [-1] * len(needle)\n",
        "        for i in range(len(needle)):\n",
        "             \n",
        "\n",
        "\n",
        "        return next\n",
        "\n",
        "\n",
        "\n",
        " \n",
        "sol = Solution()\n",
        "sol.next(needle)"
      ],
      "metadata": {
        "id": "7-OLsAvRA12O"
      },
      "execution_count": null,
      "outputs": []
    }
  ]
}