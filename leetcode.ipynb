{
  "nbformat": 4,
  "nbformat_minor": 0,
  "metadata": {
    "colab": {
      "provenance": [],
      "collapsed_sections": [
        "FmT6NqVUuQUi",
        "NVmv2bez3tE5",
        "B3zRwUVWgR66",
        "52yEDJJxkqo1",
        "P3zbvLZlc8hc",
        "o3yphHAquWOK",
        "eFAYQtQ-63y_",
        "JwpTbvkHSpGv"
      ],
      "toc_visible": true,
      "authorship_tag": "ABX9TyOXgPlvyI9TatBdDirZ6fMF",
      "include_colab_link": true
    },
    "kernelspec": {
      "name": "python3",
      "display_name": "Python 3"
    },
    "language_info": {
      "name": "python"
    }
  },
  "cells": [
    {
      "cell_type": "markdown",
      "metadata": {
        "id": "view-in-github",
        "colab_type": "text"
      },
      "source": [
        "<a href=\"https://colab.research.google.com/github/Coconut3223/Leetcode/blob/main/leetcode.ipynb\" target=\"_parent\"><img src=\"https://colab.research.google.com/assets/colab-badge.svg\" alt=\"Open In Colab\"/></a>"
      ]
    },
    {
      "cell_type": "markdown",
      "source": [
        "question_link = https://leetcode.cn/problems/ + #@title\n",
        "\n",
        "follow： [代码随想录](https://programmercarl.com)\n",
        "\n",
        "\n",
        "\n",
        "https://www.qiniu.com/qfans/qnso-65716021#comments\n",
        "\n",
        "\n"
      ],
      "metadata": {
        "id": "d5CstS8uVqtE"
      }
    },
    {
      "cell_type": "code",
      "source": [
        "import pandas as pd\n",
        "df = pd.DataFrame({\n",
        "  'date': ['2022-09-14', '2022-09-15', '2022-09-16'],\n",
        "  'letter': ['A', 'B', 'C'],\n",
        "  'dict' : [{ 'fruit': 'apple', 'weather': 'aces'},\n",
        "            { 'fruit': 'banana', 'weather': 'bad'},\n",
        "            { 'fruit': 'cantaloupe', 'weather': 'cloudy'}],\n",
        "})\n",
        "\n",
        "pd.concat([df.drop(['dict'], axis=1), df['dict'].apply(pd.Series)], axis=1)"
      ],
      "metadata": {
        "id": "1kVxK0KuAHUB"
      },
      "execution_count": null,
      "outputs": []
    },
    {
      "cell_type": "markdown",
      "source": [
        "# New section"
      ],
      "metadata": {
        "id": "FmT6NqVUuQUi"
      }
    },
    {
      "cell_type": "code",
      "source": [
        "from google.colab.patches import cv2_imshow, cv2\n",
        "def Season1():\n",
        "    return \"Spring\"\n",
        "def Season2():\n",
        "    return \"Summer\"\n",
        "def Season3():\n",
        "    return \"Fall\"\n",
        "def Season4():\n",
        "    return \"Winter\"\n",
        "def Default():\n",
        "    return \"Invalid Season\"\n",
        "seasondict = {\n",
        "    1: Season1,\n",
        "    2: Season2,\n",
        "    3: Season3,\n",
        "    4: Season4\n",
        "}\n",
        "\n",
        "def getSeason(season):\n",
        "    \"\"\"\n",
        "    将season映射为字符串\n",
        "    :param season:\n",
        "    :return:\n",
        "    \"\"\"\n",
        "    fun = seasondict.get(season, Default)\n",
        "    return fun()\n",
        "getSeason(1)\n"
      ],
      "metadata": {
        "id": "HbDUIaMBNx44"
      },
      "execution_count": null,
      "outputs": []
    },
    {
      "cell_type": "markdown",
      "source": [
        "# 数组\n",
        "\n",
        "Java的二维数组在内存中不是 3*4 的连续地址空间，而是四条连续的地址空间组成！\n",
        "\n",
        "\n",
        "<img valign=\"middle\" src=\"https://code-thinking.cdn.bcebos.com/pics/算法通关数组3.png\" width=\"500\" > \n",
        "\n"
      ],
      "metadata": {
        "id": "UJXKJMUwFQ8f"
      }
    },
    {
      "cell_type": "markdown",
      "source": [
        "### 二分查找\n",
        "\n",
        "要求：有序，无重复\n",
        "\n",
        "优点：比较次数少，查找速度快，平均性能好；\n",
        "\n",
        "缺点：要求待查表为有序表，且插入删除困难。\n",
        "\n",
        "时间复杂度：\n",
        "\n",
        "最好时间复杂度：O(1)\n",
        "\n",
        "最坏时间复杂度：O(n)\n",
        "\n",
        "平均时间复杂度：O(logn)\n",
        "\n",
        "最好情况\t最差情况\n",
        "\n",
        "刚好是中位数\t①找不到\n",
        "\n",
        "②K次二分之后,每个区间的大小为1,找到想要的元素\n",
        "\n",
        "C(n)<=    1 若n=1\n",
        "                 1+C(n/2) 若n>=2\n",
        "C(n)=log2n\n",
        "\n",
        "空间复杂度：O(logn)：递归深度为O(logn),并且由于每个递归层次需要 (1)的空间，所需空间总量是O(logn)\n",
        "\n",
        "优化： 划分为1/3和2/3\n"
      ],
      "metadata": {
        "id": "LrII-r0M40Uk"
      }
    },
    {
      "cell_type": "code",
      "execution_count": null,
      "metadata": {
        "id": "_kuDaos94wx2",
        "colab": {
          "base_uri": "https://localhost:8080/"
        },
        "outputId": "e3ed39d9-939d-40cd-a11d-cd71fdb1c1b1",
        "cellView": "form"
      },
      "outputs": [
        {
          "output_type": "execute_result",
          "data": {
            "text/plain": [
              "4"
            ]
          },
          "metadata": {},
          "execution_count": 4
        }
      ],
      "source": [
        "#@title 704 Binary_Search 二分查找  { vertical-output: true,form-width: \"40%\" }\n",
        "nums = [-1, 0, 3, 5, 9, 12] #@param {type:\"raw\"}\n",
        "target = 9 #@param {type:\"integer\"} \n",
        "wrong = \" j = len(nums) - 1 \" #@param {type:\"string\"}\n",
        "\n",
        "class Solution:\n",
        "    def search(self, nums: list[int], target: int) -> int:\n",
        "        l, r = 0, len(nums) - 1 \n",
        "\n",
        "        while l<=r:\n",
        "            m = (l+r) // 2\n",
        "            if nums[m] == target:   \n",
        "                return m\n",
        "            elif nums[m] > target:  \n",
        "                r = m-1\n",
        "            else:   \n",
        "                l = m+1\n",
        "        return -1\n",
        "\n",
        "sol  = Solution()\n",
        "sol.search(nums, target)"
      ]
    },
    {
      "cell_type": "code",
      "source": [
        "#@title 35 Search Insert Position { vertical-output: true,form-width: \"40%\" }\n",
        "nums = [1, 3, 5, 6] #@param {type:\"raw\"}\n",
        "target = 0 #@param {type:\"integer\"}\n",
        "\n",
        "class Solution:\n",
        "    def search(self, nums: list[int], target: int) -> int:\n",
        "        l, r = 0, len(nums) - 1 \n",
        "\n",
        "        while l <= r:\n",
        "            m = (l+r) // 2\n",
        "            if nums[m] == target:\n",
        "                return m\n",
        "            elif nums[m] > target:\n",
        "                r = m-1\n",
        "            else:\n",
        "                l = m+1\n",
        "        return l\n",
        "sol  = Solution()\n",
        "sol.search(nums, target)"
      ],
      "metadata": {
        "id": "sa68nKry9VsC",
        "colab": {
          "base_uri": "https://localhost:8080/"
        },
        "outputId": "c83d30b8-513e-4845-b54a-ec1cad024c02",
        "cellView": "form"
      },
      "execution_count": null,
      "outputs": [
        {
          "output_type": "execute_result",
          "data": {
            "text/plain": [
              "0"
            ]
          },
          "metadata": {},
          "execution_count": 6
        }
      ]
    },
    {
      "cell_type": "code",
      "source": [
        "#@title 34 Find First and Last Position of Element in Sorted Array {vertical-output: true,form-width: \"40%\" }\n",
        "nums = [0] #@param {type:\"raw\"}\n",
        "target = 0 #@param {type:\"integer\"}\n",
        "special =\" nums=[ ], target=0 => [-1, -1] \" #@param {type:\"string\"}\n",
        "wrong =  \"idea , 【medium】\"  #@param {type:\"string\"}\n",
        "\n",
        "class Solution:\n",
        "    def searchRange(self, nums: list[int], target: int) -> list[int]:\n",
        "        i = 0\n",
        "        j = len(nums)-1\n",
        "        s = -1\n",
        "        # binary search for the start and check if exist\n",
        "        while i <= j:\n",
        "            k = (i+j)//2\n",
        "            if nums[k] >= target:\n",
        "                if nums[k] == target:\n",
        "                    s = k\n",
        "                j = k-1\n",
        "            else:\n",
        "                i = k+1\n",
        "        if s == -1:\n",
        "            return [-1, -1]\n",
        "        # binary search for the end\n",
        "        i = s \n",
        "        j = len(nums)-1\n",
        "        while i <= j:\n",
        "            k = (i+j)//2\n",
        "            if nums[k] <= target:\n",
        "                if nums[k] == target:\n",
        "                    e = k\n",
        "                i = k+1\n",
        "            else:\n",
        "                j = k-1\n",
        "        return [s, e]\n",
        "\n",
        "sol  = Solution()\n",
        "sol.searchRange(nums, target)"
      ],
      "metadata": {
        "id": "W_hNJLh3-s5h",
        "colab": {
          "base_uri": "https://localhost:8080/"
        },
        "outputId": "52f21813-3831-4899-f4e5-bb5d0a530cef",
        "cellView": "form"
      },
      "execution_count": null,
      "outputs": [
        {
          "output_type": "execute_result",
          "data": {
            "text/plain": [
              "[0, 0]"
            ]
          },
          "metadata": {},
          "execution_count": 51
        }
      ]
    },
    {
      "cell_type": "code",
      "source": [
        "#@title 69 sqrtx { vertical-output: true, form-width: \"40%\" }\n",
        "x = 8 #@param {type:\"integer\"}\n",
        "key =  \"记得缓存结果，否则也是慢的，牛顿迭代法(还没看)\"  #@param {type:\"string\"}\n",
        "\n",
        "class Solution:\n",
        "    def mySqrt(self, x: int) -> int:\n",
        "        i = 0\n",
        "        j = x\n",
        "        while i <= j:\n",
        "            k = (i+j) // 2\n",
        "            res = k*k\n",
        "            if res == x:\n",
        "                return k\n",
        "            elif res > x:\n",
        "                j = k-1\n",
        "            else:\n",
        "                i = k+1\n",
        "                if i*i > x:\n",
        "                    return k\n",
        "\n",
        "\n",
        "\"\"\"\n",
        "class Solution:\n",
        "    def mySqrt(self, x):\n",
        "        #:type x: int\n",
        "        #:rtype: int\n",
        "        if x <= 1:\n",
        "            return x\n",
        "        r = x\n",
        "        while r > x / r:\n",
        "            r = (r + x / r) // 2\n",
        "        return int(r)\n",
        "\"\"\"\n",
        "sol  = Solution()\n",
        "sol.mySqrt(x)"
      ],
      "metadata": {
        "id": "HF9X28llZBmE",
        "colab": {
          "base_uri": "https://localhost:8080/"
        },
        "outputId": "e6c9a071-e7d1-4123-f7e4-4d06baba3454",
        "cellView": "form"
      },
      "execution_count": null,
      "outputs": [
        {
          "output_type": "execute_result",
          "data": {
            "text/plain": [
              "2"
            ]
          },
          "metadata": {},
          "execution_count": 24
        }
      ]
    },
    {
      "cell_type": "code",
      "source": [
        "#@title 367 Valid Perfect Square {vertical-output: true, form-width: \"40%\" }\n",
        "num = 16  #@param {type:\"integer\"}\n",
        "\n",
        "class Solution:\n",
        "    def isPerfectSquare(self, num: int) -> bool:\n",
        "        i = 0\n",
        "        j = num\n",
        "        while i<=j:\n",
        "            k = (i+j) // 2\n",
        "            res = k*k\n",
        "            if res == num:\n",
        "                return True\n",
        "            elif res < num:\n",
        "                i = k+1\n",
        "            else:\n",
        "                j = k-1\n",
        "        return False\n",
        "sol  = Solution()\n",
        "sol.isPerfectSquare(num)"
      ],
      "metadata": {
        "id": "L2AElm2Yfxuc",
        "colab": {
          "base_uri": "https://localhost:8080/"
        },
        "outputId": "9fc9a8d1-2a5a-4b1a-dd80-14f7f799b03e",
        "cellView": "form"
      },
      "execution_count": null,
      "outputs": [
        {
          "output_type": "execute_result",
          "data": {
            "text/plain": [
              "True"
            ]
          },
          "metadata": {},
          "execution_count": 27
        }
      ]
    },
    {
      "cell_type": "markdown",
      "source": [
        "## 双指针\n",
        "- left - right 不要求相对顺序\n",
        "- slow - fast 要求相对顺序\n"
      ],
      "metadata": {
        "id": "2vnwGM1BUlxU"
      }
    },
    {
      "cell_type": "code",
      "source": [
        "#@title 27 remove-element {vertical-output: true, form-width: \"40%\" }\n",
        "nums = [3,2,2,3]  #@param {type:\"raw\"}\n",
        "val = 3  #@param {type:\"integer\"}\n",
        "key = \"不要求相对顺序，所以用left-right双指针 \"#@param {type:\"string\"}\n",
        "class Solution:\n",
        "    def removeElement(self, nums: list[int], val: int) -> int:\n",
        "        l = 0\n",
        "        for r in range(len(nums)):\n",
        "            if nums[r] != val:\n",
        "                nums[l] = nums[r]\n",
        "                l += 1\n",
        "        print(nums[:l])\n",
        "        return l\n",
        "sol = Solution()\n",
        "sol.removeElement(nums, val)"
      ],
      "metadata": {
        "colab": {
          "base_uri": "https://localhost:8080/"
        },
        "id": "NFsgFRnCUkwA",
        "outputId": "382df374-db86-4532-859f-07cc5917147b",
        "cellView": "form"
      },
      "execution_count": null,
      "outputs": [
        {
          "output_type": "stream",
          "name": "stdout",
          "text": [
            "[2, 2]\n"
          ]
        },
        {
          "output_type": "execute_result",
          "data": {
            "text/plain": [
              "2"
            ]
          },
          "metadata": {},
          "execution_count": 3
        }
      ]
    },
    {
      "cell_type": "code",
      "source": [
        "#@title 26 remove-duplicates-from-sorted-array {vertical-output: true, form-width: \"40%\" }\n",
        "nums = []  #@param {type:\"raw\"}\n",
        "key = \"要求相对顺序，所以用slow-fast双指针 \"#@param {type:\"string\"}\n",
        "class Solution:\n",
        "    def removeDuplicates(self, nums: list[int]) -> int:\n",
        "        slow = 0\n",
        "        idex = []\n",
        "        for fast in range(len(nums)):\n",
        "            if nums[fast] in idex:\n",
        "                pass\n",
        "            else:\n",
        "                idex.append(nums[fast])\n",
        "                nums[slow] = nums[fast]\n",
        "                slow +=1\n",
        "        print(nums[:slow])\n",
        "        return slow \n",
        "sol  = Solution()\n",
        "sol.removeDuplicates(nums)"
      ],
      "metadata": {
        "colab": {
          "base_uri": "https://localhost:8080/"
        },
        "id": "VWaoCULmW9Wo",
        "outputId": "636539b1-e81c-4adc-a92c-f1c187f4da2e",
        "cellView": "form"
      },
      "execution_count": null,
      "outputs": [
        {
          "output_type": "stream",
          "name": "stdout",
          "text": [
            "[]\n"
          ]
        },
        {
          "output_type": "execute_result",
          "data": {
            "text/plain": [
              "0"
            ]
          },
          "metadata": {},
          "execution_count": 38
        }
      ]
    },
    {
      "cell_type": "code",
      "source": [
        "#@title 283 move-zeroes {vertical-output: true, form-width: \"40%\" }\n",
        "nums = [0]  #@param {type:\"raw\"}\n",
        "key = \"要求相对顺序，所以用slow-fast双指针 \"#@param {type:\"string\"}\n",
        "\n",
        "class Solution:\n",
        "    def moveZeroes(self, nums: list[int]) -> None:\n",
        "        \"\"\"\n",
        "        Do not return anything, modify nums in-place instead.\n",
        "        \"\"\"\n",
        "        slow = 0\n",
        "        for fast in range(len(nums)):\n",
        "            if nums[fast] == 0:\n",
        "                pass\n",
        "            else:\n",
        "                nums[slow] = nums[fast]\n",
        "                slow += 1\n",
        "        while slow < len(nums):\n",
        "            nums[slow] = 0\n",
        "            slow += 1\n",
        "        print(nums)\n",
        "sol  = Solution()\n",
        "sol.moveZeroes(nums)"
      ],
      "metadata": {
        "colab": {
          "base_uri": "https://localhost:8080/"
        },
        "id": "vrI5X7TlX44K",
        "outputId": "977393a1-b8d4-4df5-d007-7baad8f3a52c",
        "cellView": "form"
      },
      "execution_count": null,
      "outputs": [
        {
          "output_type": "stream",
          "name": "stdout",
          "text": [
            "[0]\n"
          ]
        }
      ]
    },
    {
      "cell_type": "code",
      "source": [
        "#@title 844 backspace-string-compare {vertical-output: true, form-width: \"40%\" }\n",
        "s = \"c##vnvr\"  #@param {type:\"string\"}\n",
        "t = \"c##vn#nvr\"  #@param {type:\"string\"}\n",
        "wrong = \"'c##vnvr' & 'c##vn#nvr' => 增加判断slow !=0 \" #@param {type:\"string\"}\n",
        "class Solution:\n",
        "    def get_gt(self, s:str) -> str:\n",
        "        gt_s = \"\"\n",
        "        slow = 0\n",
        "        fast = 0\n",
        "        while s[fast] == \"#\":\n",
        "            fast +=1\n",
        "        while fast < len(s):\n",
        "            if s[fast] != \"#\":\n",
        "                gt_s += str(s[fast])\n",
        "                slow += 1\n",
        "            elif slow !=0 :\n",
        "                gt_s = gt_s[:slow-1]\n",
        "                slow -= 1\n",
        "            fast += 1\n",
        "        return gt_s\n",
        "                \n",
        "    def backspaceCompare(self, s: str, t: str) -> bool:\n",
        "        gt_s = self.get_gt(s)\n",
        "        gt_t = self.get_gt(t)\n",
        "        print(gt_s, gt_t)\n",
        "        return gt_s == gt_t\n",
        "\n",
        "sol  = Solution()\n",
        "sol.backspaceCompare(s, t)"
      ],
      "metadata": {
        "colab": {
          "base_uri": "https://localhost:8080/"
        },
        "id": "k3YPFB4zgCc9",
        "outputId": "9b225d85-8f97-45ca-f05f-e133c478fa9b",
        "cellView": "form"
      },
      "execution_count": null,
      "outputs": [
        {
          "output_type": "stream",
          "name": "stdout",
          "text": [
            "vnvr vnvr\n"
          ]
        },
        {
          "output_type": "execute_result",
          "data": {
            "text/plain": [
              "True"
            ]
          },
          "metadata": {},
          "execution_count": 88
        }
      ]
    },
    {
      "cell_type": "code",
      "source": [
        "#@title 977 squares-of-a-sorted-array {vertical-output: true, form-width: \"40%\" }\n",
        "nums = [-5,-4,-3,0,4]  #@param {type:\"raw\"}\n",
        "anger = \"救命怎么能把空间复杂度搞低一点，进阶：T(n)=O(n) \" #@param {type:\"string\"}\n",
        "class Solution:\n",
        "    def sortedSquares(self, nums: list[int]) -> list[int]:\n",
        "        square = [i**2 for i in nums]\n",
        "        left = 0\n",
        "        right = len(nums)-1\n",
        "        k = right\n",
        "        while left <= right:\n",
        "            if square[left] > square[right]:\n",
        "                nums[k] = square[left]\n",
        "                left += 1\n",
        "            else:\n",
        "                nums[k] = square[right]\n",
        "                right -=1\n",
        "            k -= 1\n",
        "        return nums\n",
        "sol  = Solution()\n",
        "sol.sortedSquares(nums)"
      ],
      "metadata": {
        "colab": {
          "base_uri": "https://localhost:8080/"
        },
        "id": "L6XyNzAlvzJK",
        "outputId": "c0e7d5c0-2548-4ef2-8e62-27a02e236325",
        "cellView": "form"
      },
      "execution_count": null,
      "outputs": [
        {
          "output_type": "execute_result",
          "data": {
            "text/plain": [
              "[0, 9, 16, 16, 25]"
            ]
          },
          "metadata": {},
          "execution_count": 111
        }
      ]
    },
    {
      "cell_type": "markdown",
      "source": [
        "## 滑动窗口\n",
        "\n",
        "> ref\n",
        "> 1. [209.长度最小的子数组](https://www.programmercarl.com/0209.长度最小的子数组.html#暴力解法)\n",
        "\n",
        "\n",
        "不断的调节子序列的起始位置和终止位置，只用一个 for 循环\n",
        "\n",
        "Question：\n",
        "\n",
        "    一般来说就是为了解决寻找 **连续子序列** 的问题\n",
        "    \n",
        "    暴力解法的思路是，外面一层 i 起始位置的 for 循环，里面一层 j 终止位置的 for 循环。对每一个符合要求的起始位置 i 都去寻找符合要求的连续子序列，在 i 内用 j 去遍历。\n",
        "\n",
        "    无论如何j都是要去遍历的，所以 trick 就在让 j 去遍历 \n",
        "\n",
        "key：\n",
        "\n",
        "1. 窗口是什么\n",
        "\n",
        "    窗口就是符合要求的 **连续子序列**\n",
        "\n",
        "    要先不断向右移动结束位置，寻找符合要求的窗口。得到这个窗口才能向左移动起始位置来寻求更高阶的**“最”**\n",
        "\n",
        "    譬如209，要先不断向右移动结束位置，得到和不小于目标的子序列（窗口），才移动起始位置寻求更高阶的 **长度最小**\n",
        "\n",
        "    譬如76，要先不断向右移动结束位置，得到涵盖所有t字符的子字串（窗口），才移动起始位置寻求更高阶的 **长度最小**\n",
        "\n",
        "    💡 对窗口的设计 《=》 转化基本要求 譬如 76\n",
        "\n",
        "\n",
        "2. 如何移动窗口的起始位置\n",
        "\n",
        "    要先得到窗口，符合基本要求，才停止结束位置的移动，开始起始位置的移动。\n",
        "\n",
        "    💡 起始位置移动的条件设置 《=》 基本要求的维护 \n",
        "\n",
        "        譬如 76 只有当起始位置 i 的数量是大于 字符串 t 所要求的 或者 i 就不属于 t 所要求的，此时 i 的移动不使这个窗口失去资格\n",
        "\n",
        "\n",
        "3. 如何移动窗口的结束位置\n",
        "\n",
        "    放在最外层 for 循环里，**遍历数组**的指针，因为无论如何 j 是肯定要遍历 整个数组的\n",
        "\n",
        "4. 为什么能达到更低的时间复杂度 O(n)\n",
        "\n",
        "    不要以为 for 里放一个 while 就以为是 O(n^2) 啊， 主要是看每一个元素被操作的次数，每个元素在滑动窗后进来操作一次，出去操作一次，每个元素都是被操作两次，甚至是只有一次，例如在209里的nums[1,2,4], target = 6。\n",
        "    \n",
        "    所以时间复杂度是 2 × n 也就是O(n),\n",
        "\n",
        "\n",
        "    \n",
        "\n",
        "\n",
        "\n"
      ],
      "metadata": {
        "id": "M7pRKoDZiAKe"
      }
    },
    {
      "cell_type": "code",
      "source": [
        "#@title 209 minimum-size-subarray-sum {vertical-output: true, form-width: \"30%\" }\n",
        "nums = [4,4]  #@param {type:\"raw\"}\n",
        "target = 4  #@param {type:\"integer\"}\n",
        "key = \"分析时间复杂度， 进阶：O(n log(n)) \" #@param {type:\"string\"}\n",
        "class Solution:\n",
        "    def minSubArrayLen(self, target: int, nums: list[int]) -> int:\n",
        "        sum = 0\n",
        "        i = 0\n",
        "        min_l = float(\"inf\")\n",
        "        for j in range(len(nums)):\n",
        "            sum += nums[j]\n",
        "            while sum >= target:\n",
        "                sum -= nums[i]\n",
        "                min_l = min(min_l, j-i+1)\n",
        "                i += 1\n",
        "        return 0 if min_l == float(\"inf\") else min_l\n",
        "sol  = Solution()\n",
        "sol.minSubArrayLen(target, nums)"
      ],
      "metadata": {
        "id": "BwDrsXMdF0cn",
        "colab": {
          "base_uri": "https://localhost:8080/"
        },
        "outputId": "b6234469-ee90-4321-b77c-6807372659da"
      },
      "execution_count": null,
      "outputs": [
        {
          "output_type": "execute_result",
          "data": {
            "text/plain": [
              "1"
            ]
          },
          "metadata": {},
          "execution_count": 1
        }
      ]
    },
    {
      "cell_type": "code",
      "source": [
        "#@title 904 Fruit Into Baskets {vertical-output: true, form-width: \"30%\" }\n",
        "fruits = [1,0,1,4,1,4,1,2,3]  #@param {type:\"raw\"}\n",
        "key = \"起始位置怎么去设置 \" #@param {type:\"string\"}\n",
        "\n",
        "\"\"\" using list \"\"\"\n",
        "class Solution:\n",
        "    def totalFruit(self, fruits: list[int]) -> int:\n",
        "        max_l = 0\n",
        "        dic = []\n",
        "        i = 0\n",
        "        for j in range(len(fruits)):\n",
        "            if fruits[j] not in dic:\n",
        "                dic.append(fruits[j])\n",
        "            if len(dic) == 2:\n",
        "                max_l = max(j-i+1, max_l)\n",
        "                #print(dic,max_l)\n",
        "            else:\n",
        "                i = j-1\n",
        "                while fruits[i] == fruits[j-1]:\n",
        "                    i -= 1\n",
        "                i = i+1\n",
        "                dic = [fruits[i],fruits[j]]\n",
        "        return max_l\n",
        "sol  = Solution()\n",
        "print(sol.totalFruit(fruits))\n",
        "\"\"\" \n",
        "        using 2 variables 因为猜存两个单独变量比存一个同等size的数组内存要小，但是没啥变化\n",
        "class Solution:\n",
        "    def totalFruit(self, fruits: list[int]) -> int:\n",
        "        max_l = 0\n",
        "        i = 0\n",
        "        left = fruits[0]\n",
        "        right = fruits[0]\n",
        "        for j in range(len(fruits)):\n",
        "           \n",
        "            if fruits[j] != left and fruits[j] !=right:\n",
        "                \n",
        "                i = j-1\n",
        "                left = fruits[i] #记录前一个（因为是下一个窗口的left e.g. [1,2,1,3]\n",
        "                right = fruits[j]\n",
        "                while i>=0 and fruits[i] == left:\n",
        "                    i -= 1\n",
        "                i += 1\n",
        "            max_l = max(j-i+1, max_l) \n",
        "        return max_l\n",
        "sol  = Solution()\n",
        "sol.totalFruit(fruits)\n",
        "\"\"\""
      ],
      "metadata": {
        "colab": {
          "base_uri": "https://localhost:8080/",
          "height": 352
        },
        "id": "xhpwx8vvU-oc",
        "outputId": "e2aa741a-8e85-420d-9c84-7082ad44804d",
        "cellView": "form"
      },
      "execution_count": null,
      "outputs": [
        {
          "output_type": "stream",
          "name": "stdout",
          "text": [
            "5\n"
          ]
        },
        {
          "output_type": "execute_result",
          "data": {
            "text/plain": [
              "' \\n        using 2 variables 因为猜存两个单独变量比存一个同等size的数组内存要小，但是没啥变化\\nclass Solution:\\n    def totalFruit(self, fruits: list[int]) -> int:\\n        max_l = 0\\n        i = 0\\n        left = fruits[0]\\n        right = fruits[0]\\n        for j in range(len(fruits)):\\n           \\n            if fruits[j] != left and fruits[j] !=right:\\n                \\n                i = j-1\\n                left = fruits[i] #记录前一个（因为是下一个窗口的left e.g. [1,2,1,3]\\n                right = fruits[j]\\n                while i>=0 and fruits[i] == left:\\n                    i -= 1\\n                i += 1\\n            max_l = max(j-i+1, max_l) \\n        return max_l\\nsol  = Solution()\\nsol.totalFruit(fruits)\\n'"
            ],
            "application/vnd.google.colaboratory.intrinsic+json": {
              "type": "string"
            }
          },
          "metadata": {},
          "execution_count": 64
        }
      ]
    },
    {
      "cell_type": "code",
      "source": [
        "#@title 76 Minimum Window Substring ver.1 {vertical-output: true, form-width: \"30%\" }\n",
        "s = \"a\"  #@param {type:\"string\"}\n",
        "t = \"aa\"  #@param {type:\"string\"}\n",
        "key = \" line 28-30 对起始位置i移动的条件的设定 \" #@param {type:\"string\"}\n",
        "class Solution:\n",
        "    def minWindow(self, s: str, t: str) -> str:\n",
        "        sub = \"\"\n",
        "        min_l = float(\"inf\")\n",
        "        dic_t = {}\n",
        "        temp_dic = {}\n",
        "        flag = 0\n",
        "        for i in range(len(t)):\n",
        "            if t[i] not in dic_t.keys():\n",
        "                dic_t[t[i]] = 1\n",
        "                temp_dic[t[i]] = 0\n",
        "            else:\n",
        "                dic_t[t[i]] += 1   \n",
        "        for k in range(len(s)):\n",
        "            if s[k] in dic_t.keys():\n",
        "                break\n",
        "        for j in range(k, len(s)):\n",
        "            if s[j] in dic_t.keys():\n",
        "                if temp_dic[s[j]] < dic_t[s[j]]:\n",
        "                     flag += 1\n",
        "                temp_dic[s[j]] += 1\n",
        "                if flag == len(t):\n",
        "                    i = k\n",
        "                    while s[i] not in dic_t.keys() or temp_dic[s[i]] > dic_t[s[i]]:\n",
        "                        if s[i] in temp_dic.keys():\n",
        "                            temp_dic[s[i]] -= 1\n",
        "                        i += 1\n",
        "                    k = i\n",
        "                    if min_l >= j-k+1:\n",
        "                        sub = s[k:j+1]\n",
        "                        min_l = j-k+1\n",
        "                #print(sub)\n",
        "        return sub\n",
        "sol  = Solution()\n",
        "sol.minWindow(s,t)"
      ],
      "metadata": {
        "colab": {
          "base_uri": "https://localhost:8080/",
          "height": 71
        },
        "id": "FndRj4bzc9Ry",
        "outputId": "f417fb54-72bf-4d63-fb87-88f7f9681f32",
        "cellView": "form"
      },
      "execution_count": null,
      "outputs": [
        {
          "output_type": "stream",
          "name": "stdout",
          "text": [
            "a\n",
            "\n"
          ]
        },
        {
          "output_type": "execute_result",
          "data": {
            "text/plain": [
              "''"
            ],
            "application/vnd.google.colaboratory.intrinsic+json": {
              "type": "string"
            }
          },
          "metadata": {},
          "execution_count": 7
        }
      ]
    },
    {
      "cell_type": "code",
      "source": [
        "#@title 76 Minimum Window Substring ver.2{vertical-output: true, form-width: \"30%\" }\n",
        "s = \"a\"  #@param {type:\"string\"}\n",
        "t = \"aa\"  #@param {type:\"string\"}\n",
        "key = \"这个感觉思路更清晰一点，先找窗口。按理来说这个应该更少时间，因为少了符合要求之后对flag的操作 \" #@param {type:\"string\"}\n",
        "class Solution:\n",
        "    def minWindow(self, s: str, t: str) -> str:\n",
        "        sub = \"\"\n",
        "        min_l = float(\"inf\")\n",
        "        dic_t = {}\n",
        "        temp_dic = {}\n",
        "        flag = 0\n",
        "        for i in range(len(t)):\n",
        "            if t[i] not in dic_t.keys():\n",
        "                dic_t[t[i]] = 1\n",
        "                temp_dic[t[i]] = 0\n",
        "            else:\n",
        "                dic_t[t[i]] += 1  \n",
        "        for k in range(len(s)):\n",
        "            if s[k] in dic_t.keys():\n",
        "                    break\n",
        "        for j in range(k, len(s)):\n",
        "            if s[j] in dic_t.keys():\n",
        "                print(j,flag,temp_dic)\n",
        "                if temp_dic[s[j]] < dic_t[s[j]]:\n",
        "                     flag += 1\n",
        "                temp_dic[s[j]] += 1\n",
        "                #print(j,flag,temp_dic)\n",
        "                if flag == len(t):\n",
        "                    temp_dic[s[j]] -= 1\n",
        "                    break\n",
        "        if flag < len(t):\n",
        "            return \"\"\n",
        "        while j < len(s):\n",
        "            if s[j] in dic_t.keys():\n",
        "                temp_dic[s[j]] += 1\n",
        "                i = k\n",
        "                #print(temp_dic)\n",
        "                while s[i] not in dic_t.keys() or temp_dic[s[i]] > dic_t[s[i]]:\n",
        "                    if s[i] in temp_dic.keys():\n",
        "                        temp_dic[s[i]] -= 1\n",
        "                    i += 1                    \n",
        "                k = i\n",
        "                if min_l >= j-k+1:\n",
        "                    #print(k,j)\n",
        "                    sub = s[k:j+1]\n",
        "                    min_l = j-k+1\n",
        "                    #print(sub)\n",
        "            j += 1\n",
        "        return sub\n",
        "sol  = Solution()\n",
        "sol.minWindow(s,t)"
      ],
      "metadata": {
        "colab": {
          "base_uri": "https://localhost:8080/",
          "height": 71
        },
        "id": "drkkpZUU8eju",
        "outputId": "14689290-5d86-4ded-be01-713aa4b0fd24",
        "cellView": "form"
      },
      "execution_count": null,
      "outputs": [
        {
          "output_type": "stream",
          "name": "stdout",
          "text": [
            "0 0 {'a': 0}\n",
            "0 1 {'a': 1}\n"
          ]
        },
        {
          "output_type": "execute_result",
          "data": {
            "text/plain": [
              "''"
            ],
            "application/vnd.google.colaboratory.intrinsic+json": {
              "type": "string"
            }
          },
          "metadata": {},
          "execution_count": 28
        }
      ]
    },
    {
      "cell_type": "markdown",
      "source": [
        " ## 螺旋矩阵\n",
        "\n",
        "坚持循环不变量原则\n",
        "\n"
      ],
      "metadata": {
        "id": "roMqVBNkKWxd"
      }
    },
    {
      "cell_type": "code",
      "source": [
        "#@title 59 Spiral Matrix II {vertical-output: true, form-width: \"30%\" }\n",
        "n = 2  #@param {type:\"integer\"}\n",
        "key = \"左闭右开唯一不变原则 \" #@param {type:\"string\"}\n",
        "class Solution:\n",
        "    def generateMatrix(self, n: int) -> list[list[int]]:\n",
        "        left_up = 0\n",
        "        right_down = n-1\n",
        "        matrix = [[0 for i in range(n)] for j in range(n)]\n",
        "        element = 1\n",
        "        while left_up < right_down:\n",
        "            for j in range(left_up, right_down):\n",
        "                matrix[left_up][j] = element\n",
        "                element += 1\n",
        "            for i in range(left_up, right_down):\n",
        "                matrix[i][right_down] = element\n",
        "                element += 1\n",
        "            for j in range(right_down, left_up, -1):\n",
        "                matrix[right_down][j] = element\n",
        "                element += 1\n",
        "            for i in range(right_down, left_up, -1):\n",
        "                matrix[i][left_up] = element\n",
        "                element += 1\n",
        "            left_up += 1\n",
        "            right_down -= 1\n",
        "        if n%2 >0:\n",
        "            matrix[left_up][right_down] = element\n",
        "        return matrix\n",
        "sol  = Solution()\n",
        "sol.generateMatrix(n)\n",
        "#@markdown <img valign=\"middle\" src=\"https://code-thinking-1253855093.file.myqcloud.com/pics/20220922102236.png\" width=\"500\" > \n"
      ],
      "metadata": {
        "colab": {
          "base_uri": "https://localhost:8080/"
        },
        "id": "YtwlG-nWKVbg",
        "outputId": "066d5bcf-71d0-4a4b-b33c-601ea3490971",
        "cellView": "form"
      },
      "execution_count": null,
      "outputs": [
        {
          "output_type": "execute_result",
          "data": {
            "text/plain": [
              "[[1, 2], [4, 3]]"
            ]
          },
          "metadata": {},
          "execution_count": 23
        }
      ]
    },
    {
      "cell_type": "code",
      "source": [
        "#@title 54 Spiral Matrix I {vertical-output: true, form-width: \"30%\" }\n",
        "matrix = [[1]]  #@param {type:\"raw\"}\n",
        "key = \"难点在于矩阵的长并不等于宽 \" #@param {type:\"string\"}\n",
        "class Solution:\n",
        "    def spiralOrder(self, matrix: list[list[int]]) -> list[int]:\n",
        "        left_up = 0\n",
        "        left_down = len(matrix)-1\n",
        "        right_down = len(matrix[0])-1\n",
        "        matrix_element = []\n",
        "        while left_up < right_down and left_up < left_down:\n",
        "            for j in range(left_up, right_down):\n",
        "                matrix_element.append(matrix[left_up][j])\n",
        "            for i in range(left_up, left_down):\n",
        "                matrix_element.append(matrix[i][right_down])\n",
        "            for j in range(right_down, left_up, -1):\n",
        "                matrix_element.append(matrix[left_down][j])\n",
        "            for i in range(left_down, left_up, -1):\n",
        "                matrix_element.append(matrix[i][left_up])\n",
        "            left_up += 1\n",
        "            right_down -= 1\n",
        "            left_down -= 1\n",
        "        if left_up == left_down and left_up < right_down:\n",
        "            for j in range(left_up, right_down+1):\n",
        "                matrix_element.append(matrix[left_up][j])\n",
        "        elif left_up == right_down:\n",
        "            for i in range(left_up, left_down+1):\n",
        "                matrix_element.append(matrix[i][left_up])\n",
        "        #if len(matrix) %2 > 0:\n",
        "           # matrix_element.append(matrix[left_up][right_down])\n",
        "        return matrix_element\n",
        "sol = Solution()\n",
        "sol.spiralOrder(matrix)"
      ],
      "metadata": {
        "colab": {
          "base_uri": "https://localhost:8080/"
        },
        "id": "Q5Wtfhy-Pe_w",
        "outputId": "794ba84f-740a-4a6c-c9c5-d9032732d042",
        "cellView": "form"
      },
      "execution_count": null,
      "outputs": [
        {
          "output_type": "stream",
          "name": "stdout",
          "text": [
            "1\n"
          ]
        },
        {
          "output_type": "execute_result",
          "data": {
            "text/plain": [
              "[1]"
            ]
          },
          "metadata": {},
          "execution_count": 136
        }
      ]
    },
    {
      "cell_type": "markdown",
      "source": [
        "# 链表\n",
        "\n",
        " 各个节点分布在内存的不同地址空间上，通过指针串联在一起。\n"
      ],
      "metadata": {
        "id": "NVmv2bez3tE5"
      }
    },
    {
      "cell_type": "code",
      "source": [
        "#@title 203 Remove Linked List Elements  { vertical-output: true,form-width: \"40%\" }\n",
        "nums = [1,2,2,1] #@param {type:\"raw\"}\n",
        "val = 2 #@param {type:\"integer\"} \n",
        "wrong = \" 如果没有else 就会跳掉 node.next.next的检验 \" #@param {type:\"string\"}\n",
        "\n",
        "# Definition for singly-linked list.\n",
        "class ListNode:\n",
        "    def __init__(self, val=0, next=None):\n",
        "        self.val = val\n",
        "        self.next = next\n",
        "    def traverse(self):\n",
        "        node = self\n",
        "        lst = []\n",
        "        while node != None:\n",
        "            lst.append(node.val)\n",
        "            node = node.next\n",
        "        print(lst)\n",
        "\n",
        "\n",
        "class Solution:\n",
        "    def removeElements(self, head: ListNode, val: int) -> ListNode:\n",
        "        while head !=None and head.val == val:\n",
        "            head = head.next\n",
        "        node = head\n",
        "        while node != None and node.next != None:             \n",
        "            if node.next.val == val:\n",
        "                node.next = node.next.next\n",
        "            else: ### 如果没有else 就会跳掉 node.next.next的检验\n",
        "                node = node.next\n",
        "        return head\n",
        "\n",
        "node = None\n",
        "for i in range(-1, -len(nums)-1, -1):\n",
        "    node = ListNode(val=nums[i], next=node)\n",
        "\n",
        "head = node\n",
        "head.traverse()\n",
        "sol = Solution()\n",
        "sol.removeElements(head, val).traverse()\n"
      ],
      "metadata": {
        "colab": {
          "base_uri": "https://localhost:8080/"
        },
        "id": "yA7kfx02gMnK",
        "outputId": "13903e97-7f5d-4f28-f1aa-e03803cdeb4a",
        "cellView": "form"
      },
      "execution_count": null,
      "outputs": [
        {
          "output_type": "stream",
          "name": "stdout",
          "text": [
            "[1, 2, 2, 1]\n",
            "[1, 1]\n"
          ]
        }
      ]
    },
    {
      "cell_type": "code",
      "source": [
        "#@title 707 Design Linked List  { vertical-output: true,form-width: \"35%\" }\n",
        " \n",
        "wrong = \" head != None 这句话是重灾区 \" #@param {type:\"string\"}\n",
        "\n",
        "class MyLinkedList:\n",
        "\n",
        "    def __init__(self):\n",
        "        self.val = None\n",
        "        self.next = None\n",
        "    def traverse(self):\n",
        "        node = self\n",
        "        lst = []\n",
        "        while node != None:\n",
        "            lst.append(node.val)\n",
        "            node = node.next\n",
        "        print(lst)\n",
        "\n",
        "    def get(self, index: int) -> int:\n",
        "        if self.next == None:\n",
        "            return -1\n",
        "        node = self\n",
        "        idx = -1\n",
        "        while node != None and idx < index:\n",
        "            node = node.next\n",
        "            idx += 1\n",
        "        if node!= None and idx == index:\n",
        "            return node.val\n",
        "        else:\n",
        "            return -1\n",
        "\n",
        "    def addAtHead(self, val: int) -> None:\n",
        "        node = MyLinkedList()\n",
        "        node.val = val\n",
        "        head = self\n",
        "        node.next = head.next\n",
        "        head.next = node\n",
        "        \n",
        "    def addAtTail(self, val: int) -> None:\n",
        "        node = MyLinkedList()\n",
        "        node.val = val\n",
        "        tail = self\n",
        "        while tail.next != None:\n",
        "            tail = tail.next\n",
        "        tail.next = node\n",
        "\n",
        "    def addAtIndex(self, index: int, val: int) -> None:\n",
        "        idx = -1\n",
        "        head = self\n",
        "        while head != None and idx+1 < index:\n",
        "            head = head.next\n",
        "            idx += 1\n",
        "        if head != None and idx+1 == index:\n",
        "            node = MyLinkedList()\n",
        "            node.val = val\n",
        "            node.next = head.next\n",
        "            head.next = node\n",
        "        return\n",
        "\n",
        "    def deleteAtIndex(self, index: int) -> None:\n",
        "        if self.next == None:\n",
        "            return\n",
        "        idx = -1\n",
        "        head = self\n",
        "        while head != None and idx+1<index:\n",
        "            head = head.next\n",
        "            idx += 1\n",
        "        if idx+1 == index and head!= None and head.next != None:\n",
        "            head.next = head.next.next\n",
        "        return\n",
        "\n",
        "\n",
        "operations = [\"MyLinkedList\", \"addAtHead\", \"addAtTail\", \n",
        "              \"addAtIndex\", \"get\", \"deleteAtIndex\", \"get\"] \n",
        "operators = [[], [1], [3], [1, 2], [1], [1], [1]] \n",
        "obj = MyLinkedList()\n",
        "obj.addAtHead(1)\n",
        "obj.traverse()\n",
        "obj.addAtTail(3)\n",
        "obj.traverse()\n",
        "obj.addAtIndex(1,2)\n",
        "obj.traverse()\n",
        "print(obj.get(1))\n",
        "obj.deleteAtIndex(1)\n",
        "obj.traverse()\n",
        "print(obj.get(1))"
      ],
      "metadata": {
        "colab": {
          "base_uri": "https://localhost:8080/"
        },
        "id": "nyMXLn2AnKCo",
        "outputId": "a15ae2d8-dfb7-421c-b786-9d11ed08e3b1",
        "cellView": "form"
      },
      "execution_count": null,
      "outputs": [
        {
          "output_type": "stream",
          "name": "stdout",
          "text": [
            "[None, 1]\n",
            "[None, 1, 3]\n",
            "[None, 1, 2, 3]\n",
            "2\n",
            "[None, 1, 3]\n",
            "3\n"
          ]
        }
      ]
    },
    {
      "cell_type": "code",
      "source": [
        "#@title 206 Reverse Linked List ver.1 { vertical-output: true,form-width: \"40%\" }\n",
        "nums = [1,2,3,45] #@param {type:\"raw\"}\n",
        "key = \" 双指针法 \" #@param {type:\"string\"}\n",
        "# Definition for singly-linked list.\n",
        "class ListNode:\n",
        "    def __init__(self, val=0, next=None):\n",
        "        self.val = val\n",
        "        self.next = next\n",
        "    def traverse(self):\n",
        "        node = self\n",
        "        lst = []\n",
        "        while node != None:\n",
        "            lst.append(node.val)\n",
        "            node = node.next\n",
        "        print(lst)\n",
        "\n",
        "class Solution:\n",
        "    def reverseList(self, head: ListNode) -> ListNode:\n",
        "        if head == None or head.next == None:\n",
        "            return head\n",
        "        \n",
        "        l, r = None, head\n",
        "        while r:\n",
        "            head = r.next\n",
        "            r.next = l\n",
        "            l, r = r, head\n",
        "        return l\n",
        "\n",
        "node = None\n",
        "for i in range(-1, -len(nums)-1, -1):\n",
        "    node = ListNode(val=nums[i], next=node)\n",
        "\n",
        "head = node\n",
        "head.traverse()\n",
        "\n",
        "sol = Solution()\n",
        "sol.reverseList(head).traverse()"
      ],
      "metadata": {
        "colab": {
          "base_uri": "https://localhost:8080/"
        },
        "id": "zwS2ZuBou7np",
        "outputId": "fcd4b39c-4418-43d0-f649-1297125012d0",
        "cellView": "form"
      },
      "execution_count": null,
      "outputs": [
        {
          "output_type": "stream",
          "name": "stdout",
          "text": [
            "[1, 2, 3, 45]\n",
            "[45, 3, 2, 1]\n"
          ]
        }
      ]
    },
    {
      "cell_type": "code",
      "source": [
        "#@title 206 Reverse Linked List ver.2 { vertical-output: true,form-width: \"40%\" }\n",
        "nums = [1,2,3,34,4] #@param {type:\"raw\"}\n",
        "wrong = \" !!!!递归法(forward and backward) \" #@param {type:\"string\"}\n",
        "class ListNode:\n",
        "    def __init__(self, val=0, next=None):\n",
        "        self.val = val\n",
        "        self.next = next\n",
        "    def traverse(self):\n",
        "        node = self\n",
        "        lst = []\n",
        "        while node != None:\n",
        "            lst.append(node.val)\n",
        "            node = node.next\n",
        "        print(lst)\n",
        "\n",
        "class Solution:\n",
        "    def reverseList_forward(self, head: ListNode) -> ListNode:\n",
        "        def reverse_forward(pre, cur):\n",
        "            if cur == None:\n",
        "                return pre\n",
        "            temp = cur.next\n",
        "            cur.next = pre\n",
        "            return reverse_forward(cur, temp)\n",
        "        return reverse_forward(None, head)\n",
        "\n",
        "    def reverseList_backward(self, head: ListNode) -> ListNode:\n",
        "        if head == None or head.next == None:\n",
        "            return head\n",
        "        newlist = self.reverseList_backward(head.next)\n",
        "        head.next.next = head\n",
        "        head.next  = None #old head.next == None\n",
        "        return newlist\n",
        "node = None\n",
        "for i in range(-1, -len(nums)-1, -1):\n",
        "    node = ListNode(val=nums[i], next=node)\n",
        "\n",
        "head = node\n",
        "head.traverse()\n",
        "\n",
        "sol = Solution()\n",
        "reverse = sol.reverseList_forward(head)\n",
        "reverse.traverse()\n",
        "reverse2 = sol.reverseList_backward(reverse)\n",
        "reverse2.traverse()"
      ],
      "metadata": {
        "id": "4gK3JhsZSdEN",
        "colab": {
          "base_uri": "https://localhost:8080/"
        },
        "cellView": "form",
        "outputId": "d6b768f6-c6d7-4f7a-fb0d-8edc8caf6674"
      },
      "execution_count": null,
      "outputs": [
        {
          "output_type": "stream",
          "name": "stdout",
          "text": [
            "[1, 2, 3, 34, 4]\n",
            "[4, 34, 3, 2, 1]\n",
            "[1, 2, 3, 34, 4]\n"
          ]
        }
      ]
    },
    {
      "cell_type": "code",
      "source": [
        "#@title 24 Swap Nodes in Pairs { vertical-output: true,form-width: \"40%\" }\n",
        "nums = [14] #@param {type:\"raw\"}\n",
        "key = \" !!!!递归法(backwaed)[medium] \" #@param {type:\"string\"}\n",
        "class ListNode:\n",
        "    def __init__(self, val=0, next=None):\n",
        "        self.val = val\n",
        "        self.next = next\n",
        "    def traverse(self):\n",
        "        node = self\n",
        "        lst = []\n",
        "        while node != None:\n",
        "            lst.append(node.val)\n",
        "            node = node.next\n",
        "        print(lst)\n",
        "\n",
        "class Solution:\n",
        "    def swapPairs(self, head: ListNode) -> ListNode:\n",
        "        if head == None or head.next == None:\n",
        "            return head\n",
        "        \n",
        "        next_head = self.swapPairs(head.next.next) # 新的下一段的head\n",
        "        new_head = head.next\n",
        "        new_head.next = head\n",
        "        head.next = next_head\n",
        "        \n",
        "        return new_head\n",
        "\n",
        "node = None\n",
        "for i in range(-1, -len(nums)-1, -1):\n",
        "    node = ListNode(val=nums[i], next=node)\n",
        "\n",
        "head = node\n",
        "head.traverse()\n",
        "\n",
        "sol = Solution()\n",
        "sol.swapPairs(head).traverse()"
      ],
      "metadata": {
        "colab": {
          "base_uri": "https://localhost:8080/"
        },
        "id": "DK3f3-s0LcM3",
        "outputId": "c82f8136-1345-4f0b-e97d-ad6d3fdabeda",
        "cellView": "form"
      },
      "execution_count": null,
      "outputs": [
        {
          "output_type": "stream",
          "name": "stdout",
          "text": [
            "[14]\n",
            "[14]\n"
          ]
        }
      ]
    },
    {
      "cell_type": "code",
      "source": [
        "#@title 24 Swap Nodes in Pairs 【非递归法】{ vertical-output: true,form-width: \"40%\" }\n",
        "nums = [14] #@param {type:\"raw\"}\n",
        "key = \" [medium] \" #@param {type:\"string\"}\n",
        "class ListNode:\n",
        "    def __init__(self, val=0, next=None):\n",
        "        self.val = val\n",
        "        self.next = next\n",
        "    def traverse(self):\n",
        "        node = self\n",
        "        lst = []\n",
        "        while node != None:\n",
        "            lst.append(node.val)\n",
        "            node = node.next\n",
        "        print(lst)\n",
        "class Solution:\n",
        "    def swapPairs(self, head: Optional[ListNode]) -> Optional[ListNode]:\n",
        "        if head == None or head.next == None:\n",
        "            return head\n",
        "        \n",
        "        l, m, r = head, head.next, head.next.next\n",
        "        head = head.next\n",
        "        # 判断条件容易出错\n",
        "        while l and m: \n",
        "            r, m.next = m.next, l\n",
        "            if r and r.next: \n",
        "                l.next = r.next # 有新的\n",
        "                l, m = r, r.next\n",
        "            else:\n",
        "                l.next, l = r, None # 只剩一个和刚好结束\n",
        "        return head"
      ],
      "metadata": {
        "id": "y-qN2Kr3De3e",
        "cellView": "form"
      },
      "execution_count": null,
      "outputs": []
    },
    {
      "cell_type": "code",
      "source": [
        "#@title 19 Remove Nth Node From End of List { vertical-output: true,form-width: \"40%\" }\n",
        "nums = [14,1,3,4,5] #@param {type:\"raw\"}\n",
        "n = 1 #@param {type:\"integer\"}\n",
        "\"\"\"\n",
        "一种解法：找的是要删的那一个，\n",
        "    需要设pre记住前一个，和判断是否要删的是头节点\n",
        "\"\"\"\n",
        "class ListNode:\n",
        "    def __init__(self, val=0, next=None):\n",
        "        self.val = val\n",
        "        self.next = next\n",
        "    def traverse(self):\n",
        "        node = self\n",
        "        lst = []\n",
        "        while node != None:\n",
        "            lst.append(node.val)\n",
        "            node = node.next\n",
        "        print(lst)\n",
        "\n",
        "class Solution:\n",
        "    def removeNthFromEnd(self, head: ListNode, n: int) ->  ListNode:\n",
        "        if head == None or ( head.next== None and n == 1):\n",
        "            return None\n",
        "        left = head\n",
        "        pre = head\n",
        "        right = head\n",
        "        idx = n\n",
        "        while right != None and idx > 0:\n",
        "            right = right.next\n",
        "            idx -= 1\n",
        "        if idx == 0:\n",
        "            if right == None:\n",
        "                return left.next\n",
        "            while right != None:\n",
        "                right = right.next\n",
        "                pre = left\n",
        "                left = left.next\n",
        "            pre.next = left.next\n",
        "            \n",
        "        return head\n",
        "node = None\n",
        "for i in range(-1, -len(nums)-1, -1):\n",
        "    node = ListNode(val=nums[i], next=node)\n",
        "\n",
        "head = node\n",
        "head.traverse()\n",
        "\n",
        "sol = Solution()\n",
        "sol.removeNthFromEnd(head, n).traverse()\n",
        "\n",
        "\n",
        "\"\"\" \n",
        "另一种解法：找的是要删的前一个，\n",
        "    好处就是不需要再设一个pre记住要删的前一个\n",
        "    和不需要另外判断要删的是不是头节点 -》 pre变成了记住头节点 \n",
        "\n",
        "class Solution:\n",
        "    def removeNthFromEnd(self, head: Optional[ListNode], n: int) -> Optional[ListNode]:\n",
        "\n",
        "        if head.next == None and n == 1:\n",
        "            return None\n",
        "        \n",
        "        left, right = head, head\n",
        "        for i in range(1, n+1):\n",
        "            right = right.next\n",
        "\n",
        "        if right == None:\n",
        "            return head.next\n",
        "        while right.next != None:\n",
        "            right = right.next\n",
        "            left = left.next\n",
        "        left.next = left.next.next\n",
        "        return head\n",
        "\"\"\"\n",
        "\"\"\"\n",
        "class Solution:\n",
        "    def removeNthFromEnd(self, head: Optional[ListNode], n: int) -> Optional[ListNode]:\n",
        "\n",
        "        if head.next == None and n == 1:\n",
        "            return None\n",
        "        \n",
        "        left, right, n = head, head, n-1\n",
        "\n",
        "        while n > -1 and right.next != None:\n",
        "            n -= 1 \n",
        "            right = right.next\n",
        "        if n == -1:\n",
        "            while right.next != None:\n",
        "                right = right.next\n",
        "                left = left.next\n",
        "\n",
        "            left.next = left.next.next\n",
        "        elif n == 0:\n",
        "            head = head.next\n",
        "        \n",
        "        return head\n",
        "\n",
        "\"\"\""
      ],
      "metadata": {
        "colab": {
          "base_uri": "https://localhost:8080/"
        },
        "id": "woo-0ApCRU8l",
        "outputId": "50f10536-8fca-4ffd-bd3e-7c253488c21f",
        "cellView": "form"
      },
      "execution_count": null,
      "outputs": [
        {
          "output_type": "stream",
          "name": "stdout",
          "text": [
            "[14, 1, 3, 4, 5]\n",
            "[14, 1, 3, 5]\n"
          ]
        }
      ]
    },
    {
      "cell_type": "code",
      "source": [],
      "metadata": {
        "id": "z-RHubb7Epal"
      },
      "execution_count": null,
      "outputs": []
    },
    {
      "cell_type": "code",
      "source": [
        "#@title 160 Intersection of Two Linked Lists LCCI { vertical-output: true,form-width: \"40%\" }\n",
        "\n",
        "# Definition for singly-linked list.\n",
        "# class ListNode:\n",
        "#     def __init__(self, x):\n",
        "#         self.val = x\n",
        "#         self.next = None\n",
        "\n",
        "class Solution:\n",
        "    def getLenListNode(self, head: ListNode):\n",
        "        l, h = 1, head\n",
        "        while h.next != None:\n",
        "            l += 1\n",
        "            h = h.next\n",
        "        return l\n",
        "    def getIntersectionNode(self, headA: ListNode, headB: ListNode) -> ListNode:\n",
        "        if headA == None or headB == None:\n",
        "            return None\n",
        "        \n",
        "        lenA, lenB = self.getLenListNode(headA), self.getLenListNode(headB)\n",
        "\n",
        "        if lenA <= lenB:\n",
        "            lenS, lenL = lenA, lenB\n",
        "            shorter, longer = headA, headB\n",
        "        else:\n",
        "            lenS, lenL = lenB, lenA\n",
        "            shorter, longer = headB, headA\n",
        "        \n",
        "        while lenL > lenS:\n",
        "            longer = longer.next\n",
        "            lenL -= 1\n",
        "\n",
        "        while shorter != None:\n",
        "            if shorter == longer:\n",
        "                return shorter\n",
        "            shorter = shorter.next\n",
        "            longer = longer.next\n",
        "        return None\n",
        "\n",
        "#@markdown <img valign=\"middle\" src=\"https://code-thinking.cdn.bcebos.com/pics/面试题02.07.链表相交_2.png\" width=\"500\" > \n"
      ],
      "metadata": {
        "id": "o6PPSakWVH8l",
        "cellView": "form"
      },
      "execution_count": null,
      "outputs": []
    },
    {
      "cell_type": "markdown",
      "source": [
        "### 142 Linked List Cycle II 解析\n",
        "\n",
        "+ ref\n",
        "\n",
        "    [0142.环形链表II](https://www.programmercarl.com/0142.环形链表II.html#思路)\n",
        "\n",
        "    [BM7、链表中环的入口结点](https://www.algomooc.com/3105.html)\n",
        "\n",
        "思路\n",
        "\n",
        "1. 怎么找环？ 当 slow=1 ， fast=2 ，为什么 fast 和 slow 一定会相遇？\n",
        "\n",
        "    如果有环，那么 slow 和 fast 终将进入环内。那么 slow 和 fast 在环内的移动就类似不同速度的人在400m的椭圆田径跑场上在不同位置上开跑，fast 终将追上 slow.\n",
        "\n",
        "    如果没有环，就类似跑马拉松，fast 会先一步到达终点变成 None，而此时 slow 还在 fast 的后面\n",
        "\n",
        "2. 当 slow=1 ， fast=2 ，fast 和 slow 相遇时，slow 指针是否绕环超过一圈？\n",
        "\n",
        "    先要辨析两个概念：**相遇和相交**。区别于实际的跑圈的“相遇即相交即擦肩”，在这道题里，**环形链表在这个的基础上增加了一条限制：跑道并非连续，而是有一个个的节点组成的**，这就存在了相交和相遇的区别。\n",
        "\n",
        "    “n1, n2, n3 ”\n",
        "    - slow 从 n2 前进 1 步变成 n3，fast 从 n1 前进 2 步变成 n3， fast 和 slow **相遇**在 n3， 在相遇之前 fast + 1 = slow\n",
        "\n",
        "    - slow 从 n3 前进 1 步变成 n4，fast 从 n1 前进 2 步变成 n3， 此时 fast + 1 = slow \n",
        "\n",
        "    - slow 从外面进入环内变成 n1 ，fast 从 n3 前进 2 步变成 n2，中途遇过n1，但只能说 fast 和 slow **相交** 在 n1\n",
        "\n",
        "    - fast 终将追赶 slow， 所以当 fast + n >= 1 的时候，每一次移动因为 fast 总比 slow 快1，所以距离在一步步减少直至等于1的时候就在下一步相遇\n",
        "\n",
        "3. slow 和 fast 的移动步数有什么规则？能否设置为 slow 每次移动 1 步，fast 每次移动 3、4、5…步？为什么设置 slow=1 ， fast=2 ？\n",
        "\n",
        "    只要两个速度不一样，也就是说有追及问题即可。当然可以，但是区别于真正追及问题，需要重新计算 fast 比 slow 多走的圈数\n",
        "\n",
        "    设置 slow=1 fast=2\n",
        "\n",
        "4. 怎么找环的入口位置？\n",
        "    由下图可知：\n",
        "\n",
        "    len(slow):= slow 走过的步数， len(fast):= fast 走过的步数\n",
        "\n",
        "    当 slow 和 fast 相遇的时候， len(slow) = x+y, len(fast) = x+y+n(y+z), n:= fast 多走的圈数\n",
        "\n",
        "    speed(fast) = 2speed(slow) => len(fast) 2len(slow) <=>  x+y = n(y+z)\n",
        "\n",
        "    我们想要找的是：x = n(y+z)-y, n(y+z)是整数的len(环)，也就是重新站在起点，“-”意味着后退，“y”意味着从起点走到相遇的路程。如果从起点出发走 n(y+z)-y 就是在起点倒走 y 步，那么如果是从相遇位置出发走 n(y+z)-y 就是站到了起点位置。\n",
        "\n",
        "    所以设计：cur1 和 cur2， 同样都是 1 speed，但是一个从起点出发，一个从相遇点出发，在 cur1 走 x 步来到入口的时候，cur2 也将来到入口，相遇在入口\n",
        "    \n",
        " <img valign=\"middle\" src=\"https://code-thinking-1253855093.file.myqcloud.com/pics/20220925103433.png\" width=\"500\" > \n",
        "\n",
        "\n"
      ],
      "metadata": {
        "id": "4MsY_AWC2APc"
      }
    },
    {
      "cell_type": "code",
      "source": [
        "#@title 142 Linked List Cycle II { vertical-output: true,form-width: \"40%\" }\n",
        "# Definition for singly-linked list.\n",
        "# class ListNode:\n",
        "#     def __init__(self, x):\n",
        "#         self.val = x\n",
        "#         self.next = None\n",
        "key = \"双指针的又一个用法，环的判断和环的入口！！【medium】\" #@param {type:\"string\"}\n",
        "class Solution:\n",
        "    def detectCycle(self, head: Optional[ListNode]) -> Optional[ListNode]:      \n",
        "        slow = head\n",
        "        fast = head\n",
        "        while fast != None and fast.next != None:\n",
        "            slow = slow.next\n",
        "            fast = fast.next.next\n",
        "            if slow == fast:\n",
        "                cur1 = head\n",
        "                cur2 = slow\n",
        "                while cur1 != cur2:\n",
        "                    cur1 = cur1.next\n",
        "                    cur2 = cur2.next\n",
        "                return cur1\n",
        "        return None\n",
        "\n",
        "#@markdown <img valign=\"middle\" src=\"https://assets.leetcode.com/uploads/2018/12/07/circularlinkedlist.png\" width=\"500\" > \n"
      ],
      "metadata": {
        "id": "4kixuL4how2L",
        "cellView": "form"
      },
      "execution_count": null,
      "outputs": []
    },
    {
      "cell_type": "markdown",
      "source": [
        "# hash table\n",
        "\n",
        "哈希表都是用来快速判断一个元素是否出现集合里\n",
        "\n",
        "当我们想使用哈希法来解决问题的时候，我们一般会选择如下三种数据结构。\n",
        "\n",
        "+ 数组\n",
        "+ set （集合）\n",
        "+ map(映射)\n",
        "\n",
        "哈希函数如下图所示，通过hashCode把名字转化为数值，一般hashcode是通过特定编码方式，可以将其他数据格式转化为不同的数值，\n",
        "\n",
        "但是哈希法也是牺牲了空间换取了时间，因为我们要使用额外的数组，set或者是map来存放数据，才能实现快速的查找。\n",
        "\n",
        "如果在做面试题目的时候遇到需要**判断一个元素是否出现过的场景**也应该第一时间想到哈希法！"
      ],
      "metadata": {
        "id": "B3zRwUVWgR66"
      }
    },
    {
      "cell_type": "markdown",
      "source": [
        "- `ord`\n",
        "\n",
        "    return ascii value\n",
        "\n",
        "    [Unicode - ord()](https://www.programiz.com/python-programming/methods/built-in/ord)\n",
        "\n",
        "- `collections.defaultict`\n",
        "\n",
        "    [defaultict]（https://www.jianshu.com/p/bbd258f99fd3）\n",
        "\n",
        "- `collections.Counter`\n",
        "\n",
        "    顾名思义就是用来计数的，最主要的作用就是计算“可迭代序列中”各个元素（element）的数量 \n",
        "    \n",
        "    [Counter](https://blog.csdn.net/sinat_28576553/article/details/99131954)\n",
        "\n",
        "- `set`\n",
        "\n",
        "- [如何在Python中使用sorted()和sort()](https://realpython.com/python-sort/)"
      ],
      "metadata": {
        "id": "7rUQsakZnzCp"
      }
    },
    {
      "cell_type": "code",
      "source": [
        "#@title 242 Valid Anagram { vertical-output: true,form-width: \"40%\" }\n",
        "s = \"anagram\" #@param {type:\"string\"}\n",
        "t = \"nagaram\" #@param {type:\"string\"}\n",
        "\n",
        "class Solution:\n",
        "\n",
        "    def isAnagram_dict(self, s: str, t: str) -> bool:\n",
        "        \"\"\"\n",
        "        这里用的是dict{}\n",
        "        缺点是 if key not in keys(), 调用dict[key] return error\n",
        "        所以我们在映射的时候就要 if key in dict.keys()\n",
        "        OR 使用 defaultdict\n",
        "        \"\"\"\n",
        "        def map_dict(string):\n",
        "            dict_s = {}\n",
        "            for s in string:\n",
        "                if s in dict_s.keys():\n",
        "                    dict_s[s] += 1\n",
        "                else:\n",
        "                    dict_s[s] = 1\n",
        "            return dict_s\n",
        "        def map_defaultdict(string):\n",
        " \n",
        "            from collections import defaultdict\n",
        "    \n",
        "            dict_s = defaultdict(int)\n",
        "            for s in string:\n",
        "                dict_s[s] += 1 # 这里就不需要 if 判断 \n",
        "            return dict_s\n",
        "\n",
        "        if s == None or t == None:\n",
        "            return False\n",
        "        dict_s = map_dict(s)\n",
        "        dict_t = map_defaultdict(t)\n",
        "\n",
        "        return dict_s == dict_t\n",
        "\n",
        "    def isAnagram_list(self, s:str, t:str) -> bool:\n",
        "        min_ord = float(\"inf\")\n",
        "        max_ord = 0\n",
        "        \"\"\"\n",
        "        设min/max of ord 就是因为不能设全部的ASCII大小\n",
        "        \"\"\"\n",
        "        for x in s+t:\n",
        "            if min_ord > ord(x):\n",
        "                min_ord = ord(x)\n",
        "            if max_ord < ord(x):\n",
        "                max_ord = ord(x)\n",
        "        lst = [0] * (max_ord-min_ord+1)\n",
        "        for x in s:\n",
        "            lst[ord(x)-min_ord] += 1\n",
        "        for x in t:\n",
        "            lst[ord(x)-min_ord] -= 1\n",
        "        if lst != [0] * (max_ord-min_ord+1):\n",
        "            return False\n",
        "        return True\n",
        "    \n",
        "    def isAnagram_counter(self, s: str, t: str) -> bool:\n",
        "        \n",
        "        from collections import Counter\n",
        "        \"\"\"\n",
        "        顾名思义就是用来计数的，计算“可迭代序列中”各个元素的数量\n",
        "        \"\"\"\n",
        "\n",
        "        s_count = Counter(s)\n",
        "        t_count = Counter(t)\n",
        "        return s_count == t_count\n",
        "    def isAnagram_char(self, s: str, t: str) -> bool:\n",
        "        s_set = set(s)\n",
        "        t_set = set(t)\n",
        "        if s_set != t_set:\n",
        "            return False\n",
        "        for x in s_set:\n",
        "            if s.count(x) != t.count(x):\n",
        "                return False\n",
        "        return True\n",
        "\n",
        "    def isAnagram(self, s: str, t: str) -> bool:\n",
        "        TF = self.isAnagram_char(s, t)\n",
        "        return TF\n",
        "sol = Solution()\n",
        "sol.isAnagram(s, t)"
      ],
      "metadata": {
        "colab": {
          "base_uri": "https://localhost:8080/"
        },
        "cellView": "form",
        "id": "oFcKR6iSfS78",
        "outputId": "323a066e-38ff-49df-aed5-4e8c54b01b65"
      },
      "execution_count": null,
      "outputs": [
        {
          "output_type": "execute_result",
          "data": {
            "text/plain": [
              "True"
            ]
          },
          "metadata": {},
          "execution_count": 3
        }
      ]
    },
    {
      "cell_type": "code",
      "source": [
        "#@title 383 Ransom Note { vertical-output: true,form-width: \"40%\" }\n",
        "s = \"aa\" #@param {type:\"string\"}\n",
        "t = \"aab\" #@param {type:\"string\"}\n",
        "\n",
        "class Solution:\n",
        "    def canConstruct_dict(self, ransomNote: str, magazine: str) -> bool:\n",
        "        from collections import defaultdict\n",
        "        import numpy as np\n",
        "        magazine_dict = defaultdict(int)\n",
        "\n",
        "        for s in magazine:\n",
        "            magazine_dict[s] += 1\n",
        "        for s in ransomNote:\n",
        "            magazine_dict[s] -= 1\n",
        "        for s in magazine_dict.keys():\n",
        "            if magazine_dict[s] < 0:\n",
        "                return False\n",
        "        return True\n",
        "\n",
        "    def canConstruct(self, ransomNote: str, magazine: str) -> bool:\n",
        "        set_ransomNote = list(set(ransomNote))\n",
        "        for i in set_ransomNote:\n",
        "            if ransomNote.count(i) > magazine.count(i):\n",
        "                return False\n",
        "        return True\n",
        "sol = Solution()\n",
        "sol.canConstruct(s, t)"
      ],
      "metadata": {
        "colab": {
          "base_uri": "https://localhost:8080/"
        },
        "id": "GNy9TBpMpcp5",
        "outputId": "2658dcd9-562f-421f-8457-d9f9510d0fc2",
        "cellView": "form"
      },
      "execution_count": null,
      "outputs": [
        {
          "output_type": "execute_result",
          "data": {
            "text/plain": [
              "True"
            ]
          },
          "metadata": {},
          "execution_count": 4
        }
      ]
    },
    {
      "cell_type": "code",
      "source": [
        "#@title 49 Group Anagrams { vertical-output: true,form-width: \"40%\" }\n",
        "strs = [\"eat\",\"tea\",\"tan\",\"ate\",\"nat\",\"bat\"] #@param {type:\"raw\"}\n",
        "key = \"the use of sorted\" #@param {type:\"string\"}\n",
        "\n",
        "class Solution:\n",
        "    def groupAnagrams(self, strs: list[str]) -> list[list[str]]:\n",
        "        from collections import defaultdict\n",
        "\n",
        "        s_dict = defaultdict(list)\n",
        "\n",
        "        for s in strs:\n",
        "            s_sorted = \"\".join(sorted(s))\n",
        "            s_dict[s_sorted].append(s)\n",
        "        return list(s_dict.values())\n",
        "        \n",
        "sol = Solution()\n",
        "sol.groupAnagrams(strs)"
      ],
      "metadata": {
        "colab": {
          "base_uri": "https://localhost:8080/"
        },
        "cellView": "form",
        "id": "hTUH7WPnBvLr",
        "outputId": "ccf89446-98ee-45bf-8c93-6672aa9737e7"
      },
      "execution_count": null,
      "outputs": [
        {
          "output_type": "execute_result",
          "data": {
            "text/plain": [
              "[['eat', 'tea', 'ate'], ['tan', 'nat'], ['bat']]"
            ]
          },
          "metadata": {},
          "execution_count": 1
        }
      ]
    },
    {
      "cell_type": "code",
      "source": [
        "#@title 438 Find All Anagrams in a String { vertical-output: true,form-width: \"40%\" }\n",
        "s = \"cbaebabacd\" #@param {type:\"string\"}\n",
        "p = \"abc\" #@param {type:\"string\"}\n",
        "key = \"怎么样时间变少【滑动窗口法，因为只统计一次！！】\"#@param {type:\"string\"}\n",
        "\n",
        "class Solution:\n",
        "    def findAnagrams(self, s: str, p: str) -> list[int]:\n",
        "        if s == \"\" or p == \"\":\n",
        "            return []\n",
        "        \n",
        "        p_set = set(p)\n",
        "        s_set = set(s)\n",
        "        sp_min = ord(min(min(p_set), min(s_set)))\n",
        "        sp_max = ord(max(max(p_set), max(s_set)))\n",
        "        p_lst = [0]*(sp_max - sp_min + 1)\n",
        "        s_lst = [0] * len(p_lst)\n",
        "        for x in p:\n",
        "            p_lst[ord(x)- sp_min] += 1\n",
        "\n",
        "        slow = 0\n",
        "        fast = 0\n",
        "        idxs = []\n",
        "        \n",
        "        while fast < len(s) :\n",
        "            fast_ = ord(s[fast]) - sp_min\n",
        "            s_lst[fast_] += 1\n",
        "            while s_lst[fast_] > p_lst[fast_]:\n",
        "                slow_ = ord(s[slow]) - sp_min\n",
        "                s_lst[slow_] -= 1\n",
        "                slow += 1\n",
        "                \n",
        "            if fast - slow +1 == len(p):\n",
        "                idxs.append(slow)\n",
        "\n",
        "            fast += 1\n",
        "    \n",
        "        return idxs \n",
        "sol = Solution()\n",
        "sol.findAnagrams(s, p)\n"
      ],
      "metadata": {
        "colab": {
          "base_uri": "https://localhost:8080/"
        },
        "id": "PKc6IKfYCOdP",
        "outputId": "82c668cc-8509-4b45-babe-2495435e1919",
        "cellView": "form"
      },
      "execution_count": null,
      "outputs": [
        {
          "output_type": "execute_result",
          "data": {
            "text/plain": [
              "[0, 6]"
            ]
          },
          "metadata": {},
          "execution_count": 10
        }
      ]
    },
    {
      "cell_type": "code",
      "source": [
        "#@title 349 Intersection of Two Arrays { vertical-output: true,form-width: \"40%\" }\n",
        "nums1 = [1,2,2,1] #@param {type:\"raw\"}\n",
        "nums2 = [2,2] #@param {type:\"raw\"}\n",
        "\n",
        "class Solution:\n",
        "    def intersection(self, nums1: list[int], nums2: list[int]) -> list[int]:\n",
        "        set1 = set(nums1)\n",
        "        set2 = set(nums2)\n",
        "        p1 = set1 - set2\n",
        "        p2 = set2 - set1\n",
        "        return list(set1.union(set2) - p1 - p2)\n",
        "\n",
        "sol = Solution()\n",
        "sol.intersection(nums1, nums2)\n",
        "        "
      ],
      "metadata": {
        "colab": {
          "base_uri": "https://localhost:8080/"
        },
        "id": "rex3fM5El-7Y",
        "outputId": "ac1ba588-0724-436e-db7b-d60f7234edd9",
        "cellView": "form"
      },
      "execution_count": null,
      "outputs": [
        {
          "output_type": "execute_result",
          "data": {
            "text/plain": [
              "[2]"
            ]
          },
          "metadata": {},
          "execution_count": 2
        }
      ]
    },
    {
      "cell_type": "code",
      "source": [
        "#@title 350 Intersection of Two Arrays II { vertical-output: true,form-width: \"40%\" }\n",
        "nums1 = [1,2,2,1] #@param {type:\"raw\"}\n",
        "nums2 = [2,2] #@param {type:\"raw\"}\n",
        "\n",
        "class Solution:\n",
        "    def intersect(self, nums1: list[int], nums2: list[int]) -> list[int]:\n",
        "        from collections import defaultdict\n",
        "        dic1 = defaultdict(int)\n",
        "        lst = []\n",
        "        for x in nums1:\n",
        "            dic1[x] += 1\n",
        "        for x in nums2:\n",
        "            dic1[x] -= 1\n",
        "            if dic1[x] >= 0:\n",
        "                lst.append(x)\n",
        "        return lst\n",
        "\n",
        "sol = Solution()\n",
        "sol.intersect(nums1, nums2)"
      ],
      "metadata": {
        "colab": {
          "base_uri": "https://localhost:8080/"
        },
        "id": "_t3KivJTmk7I",
        "outputId": "664ba897-4583-4c97-98f2-e21b59a02e15",
        "cellView": "form"
      },
      "execution_count": null,
      "outputs": [
        {
          "output_type": "execute_result",
          "data": {
            "text/plain": [
              "[2, 2]"
            ]
          },
          "metadata": {},
          "execution_count": 4
        }
      ]
    },
    {
      "cell_type": "code",
      "source": [
        "#@title 202 Happy Number { vertical-output: true,form-width: \"40%\" }\n",
        "n = 19 #@param {type:\"integer\"}\n",
        "key =\" 关键落在无限循环，一旦重复了就是无限循环的开始\" #@param {type:\"string\"}\n",
        "\n",
        "\n",
        "class Solution:\n",
        "    \"\"\"\n",
        "    快乐数定义：\n",
        "        对于一个正整数，每一次将该数替换为它每个位置上的数字的平方和。\n",
        "        然后重复这个过程直到这个数变为 1，也可能是 **无限循环 但始终变不到 1 **。\n",
        "        如果这个过程 结果为 1，那么这个数就是快乐数。\n",
        "    \"\"\"\n",
        "    def isHappy(self, n: int) -> bool:\n",
        "        if n <= 0 :\n",
        "            return False\n",
        "        n_set = {n}\n",
        "        while n != 1:\n",
        "            n_str = str(n)\n",
        "            n = 0\n",
        "            for s in n_str:\n",
        "                n += int(s) ** 2\n",
        "            if n in n_set:\n",
        "                return False\n",
        "            else:\n",
        "                n_set.add(n)\n",
        "        return True\n",
        "sol = Solution()\n",
        "sol.isHappy(n)"
      ],
      "metadata": {
        "colab": {
          "base_uri": "https://localhost:8080/"
        },
        "id": "pfJ_HQXJsoMh",
        "outputId": "c53bed7a-1804-4d4a-962b-be58ae6f3fcc",
        "cellView": "form"
      },
      "execution_count": null,
      "outputs": [
        {
          "output_type": "execute_result",
          "data": {
            "text/plain": [
              "True"
            ]
          },
          "metadata": {},
          "execution_count": 6
        }
      ]
    },
    {
      "cell_type": "code",
      "source": [
        "\n",
        "#@title 1 Two Sum { vertical-output: true,form-width: \"40%\" }\n",
        "nums = [3,2,4] #@param {type:\"raw\"}\n",
        "target = 6 #@param {type:\"integer\"}\n",
        "\n",
        "class Solution:\n",
        "    def twoSum(self, nums: list[int], target: int) -> list[int]:\n",
        "        nums_set = set(nums)\n",
        "        lst = []\n",
        "        flag = -1\n",
        "        for i in range(len(nums)):\n",
        "            if target - nums[i] in nums_set:\n",
        "                if nums[i] * 2 == target:\n",
        "                    if flag < 0:\n",
        "                        flag = i\n",
        "                    else:\n",
        "                        break\n",
        "                else:\n",
        "                    lst.append(i)\n",
        "        if len(lst) == 0:\n",
        "            lst = [flag, i]\n",
        "        return lst\n",
        "\n",
        "sol = Solution()\n",
        "sol.twoSum(nums, target)"
      ],
      "metadata": {
        "colab": {
          "base_uri": "https://localhost:8080/"
        },
        "id": "vKBM8IZNy4Ce",
        "outputId": "925dc2ae-2998-46df-db03-4c2f53352876",
        "cellView": "form"
      },
      "execution_count": null,
      "outputs": [
        {
          "output_type": "execute_result",
          "data": {
            "text/plain": [
              "[1, 2]"
            ]
          },
          "metadata": {},
          "execution_count": 7
        }
      ]
    },
    {
      "cell_type": "code",
      "source": [
        "#@title 454 4Sum II { vertical-output: true,form-width: \"40%\" }\n",
        "nums1 = [1,2] #@param {type:\"raw\"}\n",
        "nums2 = [-2,-1]#@param {type:\"raw\"}\n",
        "nums3 = [-1,2]#@param {type:\"raw\"}\n",
        "nums4 = [0,2]#@param {type:\"raw\"}\n",
        "keys = \"怎么降时间复杂度\" #@param {type:\"string\"}\n",
        "\n",
        "class Solution:\n",
        "    def fourSumCount(self, nums1: list[int], nums2: list[int], nums3: list[int], nums4: list[int]) -> int:\n",
        "\n",
        "        def dic(arr):\n",
        "            temp = dict()\n",
        "            for s in arr:\n",
        "                if s not in temp.keys():\n",
        "                    temp[s] = 1\n",
        "                else:\n",
        "                    temp[s] += 1\n",
        "            return temp\n",
        "        \n",
        "        temp1 = dic(nums1)\n",
        "        temp2 = dic(nums2)\n",
        "        total = dict()\n",
        "\n",
        "        for a in temp1.keys():\n",
        "            for b in temp2.keys():\n",
        "                if a+b not in total.keys():\n",
        "                    total[a+b] = temp1[a] * temp2[b]\n",
        "                else:\n",
        "                    total[a+b] += temp1[a] * temp2[b]\n",
        "        temp1 = dic(nums3)\n",
        "\n",
        "        temp2 = dic(nums4)\n",
        "        res = 0\n",
        "        for c in temp1.keys():\n",
        "            for d in temp2.keys():\n",
        "                if (0-c-d) in total.keys():\n",
        "                    res += temp1[c]*temp2[d]*total[0-c-d]\n",
        "        return res\n",
        "\n",
        "sol = Solution()\n",
        "sol.fourSumCount(nums1, nums2, nums3, nums4)"
      ],
      "metadata": {
        "id": "LHjTgfAqo6Xa",
        "colab": {
          "base_uri": "https://localhost:8080/"
        },
        "outputId": "7a573d4d-7c13-48ae-9787-3608d9cd14f3",
        "cellView": "form"
      },
      "execution_count": null,
      "outputs": [
        {
          "output_type": "execute_result",
          "data": {
            "text/plain": [
              "2"
            ]
          },
          "metadata": {},
          "execution_count": 3
        }
      ]
    },
    {
      "cell_type": "code",
      "source": [
        "#@title 15 3Sum { vertical-output: true,form-width: \"40%\" }\n",
        "nums = [0,0,0,0]#@param {type:\"raw\"}\n",
        "key = \"排序， 双指针，去重 \"#@param {type:\"string\"}\n",
        "\n",
        "class Solution:\n",
        "    def threeSum(self, nums: list[int]) -> list[list[int]]:\n",
        "        if len(nums) < 3 : return []\n",
        "        nums, res = sorted(nums), []\n",
        "        # print(nums)\n",
        "        for i in range(len(nums)-2):  # 预留给left and right 的位置\n",
        "            if nums[i] + nums[i+1] + nums[i+2] > 0: # 在排序之后连最小的都大于0 就不用玩了 -> 算前三个这样多避免[-1,-1,3,5]\n",
        "                break\n",
        "            if nums[i] + nums[-2] + nums[-1] < 0: #因为最后两个是最大的，所以是如果还是小于0就直接跳，因为i从小开始，所以还能有救\n",
        "                continue\n",
        "            \"\"\"\n",
        "            注意 break 和 continue 的区别 \n",
        "            \"\"\"\n",
        "            if i > 0 and nums[i] == nums[i-1]: # duplicate 1st !!! i == i-1\n",
        "                continue \n",
        "            left, right = i+1, len(nums)-1\n",
        "            while left <  right:\n",
        "                temp = nums[i] + nums[left] + nums[right]\n",
        "\n",
        "                if temp < 0:\n",
        "                    left += 1\n",
        "                elif temp > 0:\n",
        "                    right -= 1\n",
        "                else: # temp == 0 \n",
        "                    res.append([nums[i], nums[left], nums[right]])\n",
        "                    left += 1\n",
        "                    while left < right and nums[left] == nums[left-1]: # duplicate 2nd !!! left == left-1\n",
        "                        left += 1\n",
        "                    right -= 1\n",
        "                    while left < right and nums[right] == nums[right+1]: # duplicate 3rd !!! right == right+1\n",
        "                        right -= 1\n",
        "        return res\n",
        "sol = Solution()\n",
        "sol.threeSum(nums)"
      ],
      "metadata": {
        "colab": {
          "base_uri": "https://localhost:8080/"
        },
        "id": "C_Dlsvuqrfjh",
        "outputId": "6b6f2e02-0f82-4eb1-db34-674cad8521c9",
        "cellView": "form"
      },
      "execution_count": null,
      "outputs": [
        {
          "output_type": "execute_result",
          "data": {
            "text/plain": [
              "[[0, 0, 0]]"
            ]
          },
          "metadata": {},
          "execution_count": 2
        }
      ]
    },
    {
      "cell_type": "code",
      "source": [
        "#@title 15 3Sum { vertical-output: true,form-width: \"40%\" }\n",
        "nums = [0,0,0,0]#@param {type:\"raw\"}\n",
        "key = \"排序， 双指针，去重， 对每一个找left和right \"#@param {type:\"string\"}\n",
        "class Solution:\n",
        "    def threeSum(self, nums: list[int]) -> list[list[int]]:\n",
        "        nums, res = sorted(nums), []\n",
        "        if len(nums) < 3 or sum(nums[:3]) > 0 or sum(nums[-3:]) < 0:\n",
        "            return []\n",
        "        x = 0\n",
        "        while x < len(nums) - 2:\n",
        "            if sum(nums[x:x+3])> 0:\n",
        "                break\n",
        "            if nums[x] + sum(nums[-2:]) < 0:\n",
        "                x += 1 # 换 while 之后  ！！\n",
        "                continue\n",
        "        \n",
        "            left, right = x+1, len(nums)-1\n",
        "            while left < right:\n",
        "                temp = nums[x] + nums[left] + nums[right]\n",
        "                if temp < 0:\n",
        "                    left += 1\n",
        "                elif temp > 0:\n",
        "                    right -= 1\n",
        "                else: # == 0\n",
        "                    res.append([nums[x], nums[left], nums[right]])\n",
        "                    left += 1\n",
        "                    while left < right and nums[left] == nums[left-1]:\n",
        "                        left += 1\n",
        "                    right -= 1\n",
        "                    while left < right and nums[right] == nums[right+1]:\n",
        "                        right -= 1                  \n",
        "            x += 1\n",
        "            while (x < len(nums)-1) and (nums[x] == nums[x-1]):\n",
        "                x += 1\n",
        "        return res\n",
        "\n",
        "sol = Solution()\n",
        "sol.threeSum(nums)"
      ],
      "metadata": {
        "colab": {
          "base_uri": "https://localhost:8080/"
        },
        "cellView": "form",
        "id": "EbleO5VrVtLq",
        "outputId": "781a657d-a26e-4819-ea8e-390fe3899f53"
      },
      "execution_count": null,
      "outputs": [
        {
          "output_type": "execute_result",
          "data": {
            "text/plain": [
              "[[0, 0, 0]]"
            ]
          },
          "metadata": {},
          "execution_count": 6
        }
      ]
    },
    {
      "cell_type": "code",
      "source": [
        "#@title 18 4Sum { vertical-output: true,form-width: \"30%\" }\n",
        "nums = [1,0,-1,0,-2,2]#@param {type:\"raw\"}\n",
        "target = 0 #@param {type:\"integer\"}\n",
        "key = \"排序， 双指针，去重 \"#@param {type:\"string\"}\n",
        "\n",
        "\n",
        "class Solution:\n",
        "    def fourSum(self, nums: list[int], target: int) -> list[list[int]]:\n",
        "        if len(nums) < 4:\n",
        "            return []\n",
        "        nums, res = sorted(nums), []\n",
        "        #print(nums)\n",
        "        if nums[0] + nums[1] + nums[2] + nums[3] > target:\n",
        "            return []\n",
        "        \n",
        "        for i in range(len(nums)-3): # 預留三個指針的位置\n",
        "            if nums[i] + nums[i+1] + nums[i+2] + nums[i+3] > target:\n",
        "                break\n",
        "            if nums[i] + nums[-3] + nums[-2] +nums[-1] < target:\n",
        "                continue\n",
        "            if i > 0 and nums[i] == nums[i-1]:\n",
        "                continue\n",
        "            for j in range(i+1, len(nums)-2):\n",
        "                left, right = j+1, len(nums)-1\n",
        "                if j > i+1 and nums[j] == nums[j-1]:\n",
        "                    continue\n",
        "                while left < right:\n",
        "                    temp = nums[i] + nums[j] + nums[left] + nums[right] \n",
        "                    if temp > target:\n",
        "                        right -= 1\n",
        "                    elif temp < target:\n",
        "                        left +=  1\n",
        "                    else: # temp == target\n",
        "                        res.append([nums[i], nums[j], nums[left], nums[right]])\n",
        "                        left += 1\n",
        "                        while left < right and nums[left] == nums[left-1]:\n",
        "                            left += 1\n",
        "                        right -= 1\n",
        "                        while left < right and nums[right] == nums[right+1]:\n",
        "                            right -= 1\n",
        "\n",
        "        return res\n",
        "sol = Solution()\n",
        "sol.fourSum(nums, target)\n"
      ],
      "metadata": {
        "colab": {
          "base_uri": "https://localhost:8080/"
        },
        "id": "oHcdj1ScEjT4",
        "outputId": "e83d7ca3-7b40-4fe1-fae0-6c8916c95d4e",
        "cellView": "form"
      },
      "execution_count": null,
      "outputs": [
        {
          "output_type": "stream",
          "name": "stdout",
          "text": [
            "[-2, -1, 0, 0, 1, 2]\n",
            "0 1 2 5\n",
            "0 1 3 5\n",
            "0 2 3 5\n",
            "1 2 3 5\n",
            "1 2 3 4\n"
          ]
        },
        {
          "output_type": "execute_result",
          "data": {
            "text/plain": [
              "[[-2, 0, 0, 2], [-1, 0, 0, 1]]"
            ]
          },
          "metadata": {},
          "execution_count": 19
        }
      ]
    },
    {
      "cell_type": "code",
      "source": [
        "#@title 18 4Sum 【优化版】{ vertical-output: true,form-width: \"30%\" }\n",
        "nums = [1,0,-1,0,-2,2]#@param {type:\"raw\"}\n",
        "target = 0 #@param {type:\"integer\"}\n",
        "key = \"排序， 双指针，去重 \"#@param {type:\"string\"}\n",
        "\n",
        "class Solution:\n",
        "    def fourSum(self, nums: list[int], target: int) -> list[list[int]]:\n",
        "        if len(nums) < 4:\n",
        "            return []\n",
        "        \n",
        "        nums, res = sorted(nums), []\n",
        "        if sum(nums[:4]) > target or sum(nums[-4:]) < target:\n",
        "            return []\n",
        "\n",
        "        x = 0\n",
        "        while x < len(nums) - 3:\n",
        "            \n",
        "            if sum(nums[x:x+4]) > target:\n",
        "                break\n",
        "            if nums[x] + sum(nums[-3:]) < target:\n",
        "                x += 1 \n",
        "                continue\n",
        "            l = x + 1\n",
        "            while l < len(nums) - 2:\n",
        "                if sum(nums[l:l+3]) > target - nums[x]:\n",
        "                    break\n",
        "                m, r = l+1, len(nums)-1\n",
        "                temp = nums[x] + nums[l]\n",
        "                while m < r :\n",
        "                    if temp + nums[m] + nums[r] < target:\n",
        "                        m += 1\n",
        "                    elif temp + nums[m] + nums[r] > target:\n",
        "                        r -= 1\n",
        "                    else:\n",
        "                        res.append([nums[x], nums[l], nums[m], nums[r]])\n",
        "                        m += 1\n",
        "                        while m < r and nums[m] == nums[m-1]:\n",
        "                            m += 1\n",
        "                        r -= 1\n",
        "                        while m < r and nums[r] == nums[r+1]:\n",
        "                            r -= 1 \n",
        "                l += 1\n",
        "                while (l < len(nums)-2) and (nums[l] == nums[l-1]):\n",
        "                    l += 1\n",
        "                \n",
        "            x += 1\n",
        "            while (x < len(nums)-3) and (nums[x] == nums[x-1]):\n",
        "                x += 1\n",
        "\n",
        "        return res \n",
        "                     "
      ],
      "metadata": {
        "colab": {
          "base_uri": "https://localhost:8080/"
        },
        "cellView": "form",
        "id": "GbQWJNxvVXjp",
        "outputId": "90eb4644-fa77-459e-954f-9d41280da9cb"
      },
      "execution_count": null,
      "outputs": [
        {
          "output_type": "execute_result",
          "data": {
            "text/plain": [
              "1"
            ]
          },
          "metadata": {},
          "execution_count": 1
        }
      ]
    },
    {
      "cell_type": "markdown",
      "source": [
        "# string\n",
        "\n",
        "\n",
        "对于字符串s = 'abc'，如果使用s[0:999] ===> 'abc'。字符串末尾如果超过最大长度，则会返回至字符串最后一个值，这个特性可以避免一些边界条件的处理。"
      ],
      "metadata": {
        "id": "52yEDJJxkqo1"
      }
    },
    {
      "cell_type": "code",
      "source": [
        "#@title 344 Reverse String { vertical-output: true,form-width: \"40%\" }\n",
        "s = [\"h\",\"e\",\"l\",\"l\",\"o\"] #@param {type:\"raw\"}\n",
        "class Solution:\n",
        "    def reverseString(self, s: list[str]) -> None:\n",
        "        \"\"\"\n",
        "        Do not return anything, modify s in-place instead.\n",
        "        \"\"\"\n",
        "                \n",
        "        # 该方法已经不需要判断奇偶数，经测试后时间空间复杂度比用 for i in range(right//2)更低\n",
        "        # 推荐该写法，更加通俗易懂\n",
        "        left, right = 0, len(s)-1\n",
        "        while left < right:\n",
        "            s[left], s[right] = s[right], s[left]\n",
        "            left += 1\n",
        "            right -= 1\n",
        "        return s\n",
        "sol = Solution()\n",
        "sol.reverseString(s)"
      ],
      "metadata": {
        "colab": {
          "base_uri": "https://localhost:8080/"
        },
        "id": "Xx6AdfOlkz31",
        "outputId": "1dbcaa70-4a0f-4f4e-c3a9-ea07dced33e9",
        "cellView": "form"
      },
      "execution_count": null,
      "outputs": [
        {
          "output_type": "execute_result",
          "data": {
            "text/plain": [
              "['o', 'l', 'l', 'e', 'h']"
            ]
          },
          "metadata": {},
          "execution_count": 22
        }
      ]
    },
    {
      "cell_type": "code",
      "source": [
        "#@title 541 Reverse String II ver 1 { vertical-output: true,form-width: \"40%\" }\n",
        "s = \"abcdefg\" #@param {type:\"string\"}\n",
        "k = 2 #@param {type:\"integer\"}\n",
        "class Solution:\n",
        "    def reverseStr(self, s: str, k: int) -> str:\n",
        "        s_len  = len(s)\n",
        "        s_round = s_len // (2*k)\n",
        "        s = list(s)\n",
        "        if s_len % (2*k) > 0: \n",
        "            s_round += 1\n",
        "        for i in range(s_round):\n",
        "            left = 0 + 2 * k * i\n",
        "            right = min(left+k-1, s_len-1)\n",
        "            while left < right:\n",
        "                s[left], s[right] = s[right], s[left]\n",
        "                left += 1\n",
        "                right -= 1\n",
        "        return \"\".join(s)\n",
        "sol = Solution()\n",
        "sol.reverseStr(s, k)"
      ],
      "metadata": {
        "colab": {
          "base_uri": "https://localhost:8080/",
          "height": 58
        },
        "id": "vx9iEMQamZIm",
        "outputId": "6ab6e1bc-fd23-486c-cd32-98bd6354f56c",
        "cellView": "form"
      },
      "execution_count": null,
      "outputs": [
        {
          "output_type": "execute_result",
          "data": {
            "text/plain": [
              "'bacdfeg'"
            ],
            "application/vnd.google.colaboratory.intrinsic+json": {
              "type": "string"
            }
          },
          "metadata": {},
          "execution_count": 24
        }
      ]
    },
    {
      "cell_type": "code",
      "source": [
        "#@title 541 Reverse String II 【ver 2】 { vertical-output: true,form-width: \"40%\" }\n",
        "s = \"abcdefg\" #@param {type:\"string\"}\n",
        "k = 2 #@param {type:\"integer\"}\n",
        "key = \" more pythonic 用切片進行互換\" #@param {type:\"string\"}\n",
        "\n",
        "class Solution:\n",
        "    def reverseStr(self, s: str, k: int) -> str:\n",
        "\n",
        "        if len(s) < k:\n",
        "            return s[::-1]\n",
        "        s_list = list(s)\n",
        "        for l in range(0, len(s), 2*k):\n",
        "            r = min(l+k-1, len(s)-1)\n",
        "            while l < r:\n",
        "                s_list[l], s_list[r] = s[r], s[l]\n",
        "                l += 1\n",
        "                r -= 1\n",
        "        \n",
        "        return \"\".join(s_list)\n",
        "\n",
        "        \"\"\"\n",
        "        if len(s) < k:\n",
        "            return s[::-1]\n",
        "        for l in range(0, len(s), 2*k):\n",
        "            s = s[:l] + s[l:l+k][::-1] + s[l+k:]\n",
        "        return s\n",
        "        \"\"\""
      ],
      "metadata": {
        "id": "h_zM4h_Wq-ls",
        "cellView": "form"
      },
      "execution_count": null,
      "outputs": []
    },
    {
      "cell_type": "code",
      "source": [
        "#@title 剑指 Offer 05. 替换空格 LCOF { vertical-output: true,form-width: \"40%\" }\n",
        "s = \"We are happy.\" #@param {type:\"string\"}\n",
        "\n",
        "class Solution:\n",
        "    def replaceSpace(self, s: str) -> str:\n",
        "        s_lst = [0] * 3 * len(s)\n",
        "        slow = len(s)-1\n",
        "        fast = len(s_lst)-1\n",
        "        while slow >= 0:\n",
        "            if s[slow] != \" \":\n",
        "                s_lst[fast] = s[slow]\n",
        "                fast -= 1\n",
        "            else:\n",
        "                s_lst[fast-2:fast+1] = \"%20\"\n",
        "                fast -= 3\n",
        "            slow -= 1\n",
        "        return \"\".join(s_lst[fast+1:])\n",
        "            \n",
        "        \"\"\"\n",
        "        s_new = \"\"\n",
        "        for x in s:\n",
        "            if x == \" \":\n",
        "                s_new += \"%20\"\n",
        "            else:\n",
        "                s_new += x\n",
        "        return s_new\n",
        "        \"\"\"\n",
        "\n",
        "        \"\"\"\n",
        "        i = 0\n",
        "        while i < len(s):\n",
        "            if s[i] == \" \":\n",
        "                s = s[:i] + \"%20\" + s[i+1:]\n",
        "                i += 2\n",
        "            i += 1 \n",
        "        \n",
        "        return s\n",
        "        \"\"\"\n",
        "sol = Solution()\n",
        "sol.replaceSpace(s)\n",
        "\n",
        "\"\"\"\n",
        "class Solution:\n",
        "    def replaceSpace(self, s: str) -> str:\n",
        "        return s.replace(' ', '%20')\n",
        "\"\"\""
      ],
      "metadata": {
        "colab": {
          "base_uri": "https://localhost:8080/",
          "height": 58
        },
        "id": "1PdDtuOuue__",
        "outputId": "d3769ab6-c715-4dc1-838b-d68ade2d7b32",
        "cellView": "form"
      },
      "execution_count": null,
      "outputs": [
        {
          "output_type": "execute_result",
          "data": {
            "text/plain": [
              "'We%20are%20happy.'"
            ],
            "application/vnd.google.colaboratory.intrinsic+json": {
              "type": "string"
            }
          },
          "metadata": {},
          "execution_count": 25
        }
      ]
    },
    {
      "cell_type": "code",
      "source": [
        "#@title 151 Reverse Words in a String { vertical-output: true,form-width: \"40%\" }\n",
        "s = \"aa    fffff   ff gg ee\" #@param {type:\"string\"}\n",
        "class Solution:\n",
        "    def reverseWords(self, s: str) -> str:\n",
        "\n",
        "        s_new = ''\n",
        "        r = len(s) - 1\n",
        "        while r >= 0:\n",
        "            while s[r] == ' ':\n",
        "                r -= 1\n",
        "            l = r\n",
        "            while l >=0 and s[l] != ' ':\n",
        "                l -= 1\n",
        "            s_new = s_new + ' ' + s[l+1:r+1]\n",
        "            r = l - 1                \n",
        "\n",
        "        return s_new.strip()\n",
        "        \n",
        "\n",
        "sol = Solution()\n",
        "sol.reverseWords(s)\n",
        "\n",
        "\"\"\"\n",
        "class Solution:\n",
        "    def reverseWords(self, s: str) -> str:\n",
        "        s_lst = s.split()\n",
        "        return ' '.join(s_lst[::-1])\n",
        "\"\"\"\n"
      ],
      "metadata": {
        "colab": {
          "base_uri": "https://localhost:8080/",
          "height": 58
        },
        "id": "UPHH2nL104sm",
        "outputId": "2fcc7035-5362-4a59-acf1-690486c52cef",
        "cellView": "form"
      },
      "execution_count": null,
      "outputs": [
        {
          "output_type": "execute_result",
          "data": {
            "text/plain": [
              "'ee gg ff fffff aa'"
            ],
            "application/vnd.google.colaboratory.intrinsic+json": {
              "type": "string"
            }
          },
          "metadata": {},
          "execution_count": 61
        }
      ]
    },
    {
      "cell_type": "code",
      "source": [
        "#@title 剑指Offer 58 - II. 左旋转字符串 { vertical-output: true,form-width: \"40%\" }\n",
        "s = \"abcdefg\" #@param {type:\"string\"}\n",
        "n = 2 #@param {type:\"integer\"}\n",
        "class Solution:\n",
        "    def reverseLeftWords(self, s: str, n: int) -> str:\n",
        "        return s[n:] + s[:n]\n",
        "sol = Solution()\n",
        "sol.reverseLeftWords(s, n)"
      ],
      "metadata": {
        "id": "0_G6gXitEvZn",
        "colab": {
          "base_uri": "https://localhost:8080/",
          "height": 42
        },
        "outputId": "39bcefcc-9cb6-4eba-d62a-753f9aa011e9",
        "cellView": "form"
      },
      "execution_count": null,
      "outputs": [
        {
          "output_type": "execute_result",
          "data": {
            "text/plain": [
              "'cdefgab'"
            ],
            "application/vnd.google.colaboratory.intrinsic+json": {
              "type": "string"
            }
          },
          "metadata": {},
          "execution_count": 1
        }
      ]
    },
    {
      "cell_type": "markdown",
      "source": [
        "### KMP\n",
        "- ref\n",
        "\n",
        "    - [ref1 : 实现strStr() by代码随想录](https://www.programmercarl.com/0028.实现strStr.html#其他语言版本)\n",
        "\n",
        "\n",
        "应用：**字符串匹配**上。\n",
        "\n",
        "- 思想：\n",
        "    \n",
        "    当出现字符串不匹配时，可以知道**一部分之前已经匹配的文本内容**，可以利用这些信息避免从头再去做匹配了。所以如何记录已经匹配的文本内容，是KMP的重点，也是next数组肩负的重任。\n",
        "\n",
        "\n",
        "- 最长公共前后缀？\n",
        "\n",
        "    - **前缀** 不包含最后一个字符的所有以第一个字符开头的连续子串\n",
        "    \n",
        "    - **后缀** 不包含第一个字符的所有以最后一个字符结尾的连续子串\n",
        "\n",
        "    - **公共前后缀**, 有点类回文的感觉， 前面(前缀)和后面(后缀)长得一样(公共)\n",
        "\n",
        "    - 为什么**最长公共前后缀能记录下一部分之前已经匹配的信息能避免从头再做匹配**？\n",
        "\n",
        "        因为我们是找 子序列(目前已经进入patten匹配环节的对模式串的遍历过程中) 的最长公共前后缀。\n",
        "\n",
        "        At this moment： **【前缀表】**\n",
        "        \n",
        "        - 此时遍历到 `j=5`  fail <=>   `text[i] != patten[j]` => **子序列**  `patten[0:j]` (`j` is not included)\n",
        "        \n",
        "        - 前缀表在 `j-1=4` 位置上记录的是 `k=2=len(公共前后缀)`  =>  `patten[0:k] == patten[j-k:j]` -> `patten[0:2] == patten[3:5]` (2 is not included)\n",
        "\n",
        "        - 当在 `j` fail 的时候我们把 j 调回到 `j = k = 2` 从j的位置开始对进行匹配\n",
        "\n",
        "        之所以在 `j` 的时候 fail ，是因为前j-1个都成功匹配上了 =》 `text[i-j:i] == patten[:j]`\n",
        "\n",
        "        因为公共前后缀的特性 =》 `patten[0:k] == patten[j-k:j]`\n",
        "        \n",
        "        ===》`text[i-k:i] == patten[j-k:j] == patten[0:k] `, 所以 patten 串前k个已经相等，所以只需要跳转到`k`的位置继续匹配\n",
        "\n",
        "        因为最长这个特性 所以就能最大程度上增加k\n",
        "\n",
        "\n",
        "\n",
        "- next 数组：\n",
        "    \n",
        "    next数组就是一个前缀表（prefix table）。\n",
        "\n",
        "    前缀表是用来回退的，它记录了模式串与主串(文本串)不匹配的时候，模式串应该从哪里开始重新匹配。\n",
        "\n",
        "    记录下标`i`之前（包括`i`）的字符串中，有**多大长度的相同前后缀**。\n",
        "\n",
        "    - next数组 和 前缀表 \n",
        "\n",
        "        next数组就可以是前缀表，但是很多实现都是把**前缀表统一减一（右移一位，初始位置为-1）**之后作为next数组\n",
        "\n",
        "\n",
        "\n",
        "- when `j=5`  fail **【next 数组】**\n",
        "\n",
        "    ```{\n",
        "    if text[i] != patten[j]:\n",
        "        j = next[j-1]+1\n",
        "    ```\n",
        "\n",
        "    \n",
        "\n",
        "- 怎么建立 next 数组？ **前缀表统一减一（右移一位，初始位置为-1）**\n",
        "\n",
        "    1. 初始化 \n",
        "\n",
        "        `next = [-1] * len(patten)`\n",
        "\n",
        "    2. 求 next 数组，对每一个patten内的字符求，首元素一定是-1， 只有在找到公共前后缀的时候填next，所以先处理不相同的时候回退，再等他到相同的时候填入\n",
        "\n",
        "        `for i in range(1, len(patten)): `\n",
        "     \n",
        "    2. 处理前后缀不相同的情况 -- 回退\n",
        "\n",
        "        ```\n",
        "        while j >= 0 and patten[i] != patten[j+1]: \n",
        "            j = next[j-1]\n",
        "        \n",
        "        ```\n",
        "\n",
        "    3. 处理前后缀相同的情况, 填入\n",
        "\n",
        "        ```\n",
        "        if patten[i]= patten[j+1]:\n",
        "            j += 1\n",
        "        next[i] = j\n",
        "        ```\n",
        "\n",
        "\n",
        " \n",
        "\n",
        "\n",
        "\n",
        "\n",
        "\n",
        "\n",
        "\n",
        "\n",
        "\n",
        "\n",
        "\n",
        "\n",
        "\n",
        "\n"
      ],
      "metadata": {
        "id": "P3zbvLZlc8hc"
      }
    },
    {
      "cell_type": "code",
      "source": [
        "#@title 28 Find the Index of the First Occurrence in a String { vertical-output: true,form-width: \"40%\" }\n",
        "haystack = \"mississippi\" #@param {type:\"string\"}\n",
        "needle = \"sippia\" #@param {type:\"string\"}\n",
        "\n",
        "class Solution:\n",
        "    def strStr(self, haystack: str, needle: str) -> int:\n",
        "        if len(haystack) < len(needle):\n",
        "            return -1\n",
        "        left, flag = 0, 0\n",
        "        while left < len(haystack):\n",
        "            if len(haystack) - left < len(needle) - flag:\n",
        "                return -1 \n",
        "            if len(haystack) - left == len(needle) - flag and haystack[left] != needle[flag]:\n",
        "                return -1\n",
        "            if haystack[left] != needle[flag]:\n",
        "                left += 1\n",
        "            else:\n",
        "                right = left\n",
        "                while flag < len(needle) and haystack[right] == needle[flag]:\n",
        "                    right += 1\n",
        "                    flag += 1\n",
        "                if flag == len(needle):\n",
        "                    return left\n",
        "                else: # \"abaababbab\" \"ababbab\"\n",
        "                    left += 1\n",
        "                    flag  = 0 \n",
        "\n",
        "\"\"\"\n",
        "                        字符串简洁版\n",
        "class Solution:\n",
        "    def strStr(self, haystack: str, needle: str) -> int:\n",
        "        if len(haystack) < len(needle):\n",
        "            return -1\n",
        "        for i in range(len(haystack)-len(needle)+1):\n",
        "            if haystack[i:i+len(needle)] == needle:\n",
        "                return i\n",
        "        return -1\n",
        "\n",
        "\"\"\"\n",
        "sol = Solution()\n",
        "sol.strStr(haystack, needle)"
      ],
      "metadata": {
        "colab": {
          "base_uri": "https://localhost:8080/"
        },
        "id": "SvktcPRUVEIj",
        "outputId": "a7cf17ff-eed6-418c-e4c3-bd918982c79a",
        "cellView": "form"
      },
      "execution_count": null,
      "outputs": [
        {
          "output_type": "execute_result",
          "data": {
            "text/plain": [
              "-1"
            ]
          },
          "metadata": {},
          "execution_count": 12
        }
      ]
    },
    {
      "cell_type": "code",
      "source": [
        "#@title 28 Find the Index of the First Occurrence in a String 【KMP ver.】{ vertical-output: true,form-width: \"40%\" }\n",
        "haystack = \"babba\" #@param {type:\"string\"}\n",
        "needle = \"bbb\" #@param {type:\"string\"}\n",
        "class Solution:\n",
        "\n",
        "    def getNext(self, patten: str) -> list[int]:\n",
        "        next, j = [0]*len(patten), 0\n",
        "        for i in range(1, len(patten)):\n",
        "            while j>0 and patten[i] != patten[j]:\n",
        "                j = next[j-1] \n",
        "            if patten[i] == patten[j]:\n",
        "                j += 1\n",
        "            next[i] = j\n",
        "        #print(next)\n",
        "        return next\n",
        "\n",
        "    def strStr(self, haystack: str, needle: str) -> int:\n",
        "        if len(haystack) < len(needle):\n",
        "            return -1\n",
        "        if not needle:\n",
        "            return 0\n",
        "\n",
        "        next, j = self.getNext(needle), 0 # j 公共前缀の后一位 = 最长公共前后缀的长度\n",
        "        for i in range(len(haystack)):  # i 公共后缀の后一位 in haystack\n",
        "            while j > 0 and haystack[i] != needle[j]:  # while \n",
        "                j = next[j-1]\n",
        "            if haystack[i] == needle[j]: # if \n",
        "                j += 1\n",
        "            if j == len(needle):\n",
        "                return i - len(needle) + 1 \n",
        "        return -1\n",
        "\n",
        "sol = Solution()\n",
        "sol.strStr(haystack, needle)"
      ],
      "metadata": {
        "id": "7-OLsAvRA12O",
        "colab": {
          "base_uri": "https://localhost:8080/"
        },
        "outputId": "814941d8-7cef-44b6-f018-ed63eb73070a",
        "cellView": "form"
      },
      "execution_count": null,
      "outputs": [
        {
          "output_type": "execute_result",
          "data": {
            "text/plain": [
              "-1"
            ]
          },
          "metadata": {},
          "execution_count": 1
        }
      ]
    },
    {
      "cell_type": "code",
      "source": [
        "#@title 459. Repeated Substring Pattern 【KMP ver.】{ vertical-output: true,form-width: \"40%\" }\n",
        "s = \"aabaaba\" #@param {type:\"string\"}\n",
        "class Solution:\n",
        "\n",
        "    def getNext(self, s: str)-> list[int]:\n",
        "        next_lst, j = [0] * len(s), 0\n",
        "        # j 前缀末尾， i 后缀末尾\n",
        "        for i in range(1, len(s)):\n",
        "            while j > 0 and s[i] != s[j]:\n",
        "                j = next_lst[j-1]\n",
        "            if s[i] == s[j]:\n",
        "                j += 1\n",
        "            next_lst[i] = j\n",
        "        return next_lst\n",
        "\n",
        "    def repeatedSubstringPattern(self, s: str) -> bool:\n",
        "        if not s:\n",
        "            return True\n",
        "\n",
        "        next_lst = self.getNext(s)\n",
        "        if next_lst[-1] == 0:\n",
        "            return False\n",
        "        p1, p2 = len(s)-next_lst[-1], next_lst[-1]\n",
        "        \n",
        "        if (p2-p1)%p1 == 0:\n",
        "            return True\n",
        "        return False\n",
        "        \n",
        "sol = Solution()\n",
        "sol.repeatedSubstringPattern(s)"
      ],
      "metadata": {
        "id": "avtXHfJBi8AD",
        "cellView": "form"
      },
      "execution_count": null,
      "outputs": []
    },
    {
      "cell_type": "code",
      "source": [
        "#@title 459. Repeated Substring Pattern 【移动匹配 ver.】{ vertical-output: true,form-width: \"40%\" }\n",
        "s = \"aabaaba\" #@param {type:\"string\"}\n",
        "key = \"所以判断字符串s是否由重复子串组成，只要两个s拼接在一起，里面还出现一个s的话，就说明是由重复子串组成。\"#@param {type:\"string\"}\n",
        "class Solution:\n",
        "    def repeatedSubstringPattern(self, s: str) -> bool:\n",
        "        return s in (s+s)[1:-1]"
      ],
      "metadata": {
        "colab": {
          "base_uri": "https://localhost:8080/"
        },
        "id": "Q6npnM9fiSiq",
        "outputId": "f63dbe7a-923f-401d-89e4-6fcfdbe618e1",
        "cellView": "form"
      },
      "execution_count": null,
      "outputs": [
        {
          "output_type": "execute_result",
          "data": {
            "text/plain": [
              "1"
            ]
          },
          "metadata": {},
          "execution_count": 25
        }
      ]
    },
    {
      "cell_type": "markdown",
      "source": [
        "# Stack and Queue"
      ],
      "metadata": {
        "id": "o3yphHAquWOK"
      }
    },
    {
      "cell_type": "code",
      "source": [
        "#@title 232 Implement Queue using Stacks { vertical-output: true,form-width: \"40%\" }\n",
        "\n",
        "class MyQueue:\n",
        "\n",
        "    def __init__(self):\n",
        "        self.stack_i = []\n",
        "        self.stack_o = []\n",
        "\n",
        "    def push(self, x: int) -> None:\n",
        "        self.stack_i.append(x)\n",
        "\n",
        "    def pop(self) -> int:\n",
        "        if self.empty():\n",
        "            return None\n",
        "        \n",
        "        if not self.stack_o:\n",
        "            while self.stack_i:\n",
        "                self.stack_o.append(self.stack_i.pop())\n",
        "        return self.stack_o.pop() \n",
        "        \n",
        "\n",
        "    def peek(self) -> int:\n",
        "        e = self.pop()\n",
        "        self.stack_o.append(e)\n",
        "        return e\n",
        "\n",
        "    def empty(self) -> bool:\n",
        "        return not (self.stack_i or self.stack_o)\n"
      ],
      "metadata": {
        "cellView": "form",
        "id": "0uJOQcVhuch6"
      },
      "execution_count": null,
      "outputs": []
    },
    {
      "cell_type": "code",
      "source": [
        "#@title 225 Implement Stack using Queues { vertical-output: true,form-width: \"40%\" }\n",
        "\n",
        "from collections import deque\n",
        "\"\"\"\n",
        " :pop/popleft(): 如果没有的话 -> IndexError。\n",
        " 因为模拟只能用 deque的popleft，只用最基本功能的队列\n",
        "\"\"\"\n",
        "class MyStack:\n",
        "\n",
        "    def __init__(self): \n",
        "        self.deque = deque()\n",
        "\n",
        "    def push(self, x: int) -> None:\n",
        "        self.deque.append(x)\n",
        "\n",
        "    def pop(self) -> int:\n",
        "        if self.empty():\n",
        "            return None\n",
        "        for i in range(len(self.deque)-1):\n",
        "            self.deque.append(self.deque.popleft())\n",
        "        return self.deque.popleft()\n",
        "\n",
        "\n",
        "    def top(self) -> int:\n",
        "        if self.empty():\n",
        "            return None\n",
        "        return self.deque[-1]\n",
        "\n",
        "    def empty(self) -> bool:\n",
        "        return not self.deque\n"
      ],
      "metadata": {
        "id": "hzDiUoQc_5I5",
        "cellView": "form"
      },
      "execution_count": null,
      "outputs": []
    },
    {
      "cell_type": "code",
      "source": [
        "#@title 20 Valid Parentheses{ vertical-output: true,form-width: \"40%\" }\n",
        "s = \"()[]{}\" #@param {type:\"string\"}\n",
        "\n",
        "class Solution:\n",
        "    def isValid(self, s: str) -> bool:\n",
        "        stack = list()\n",
        "        pre = {'{':'}', '[':']', '(':')'}\n",
        "\n",
        "        for i in range(len(s)):\n",
        "            if s[i] in pre.keys():\n",
        "                stack.append(s[i])\n",
        "            else:\n",
        "                if not stack:\n",
        "                    return False\n",
        "                if pre[stack.pop()] != s[i]:\n",
        "                    return False\n",
        "        return stack == []\n",
        "\n",
        "sol = Solution()\n",
        "sol.isValid(s)"
      ],
      "metadata": {
        "colab": {
          "base_uri": "https://localhost:8080/"
        },
        "id": "Br5kJpD5EBWX",
        "outputId": "fbb8c337-2298-4833-ceac-379226d946bd",
        "cellView": "form"
      },
      "execution_count": null,
      "outputs": [
        {
          "output_type": "execute_result",
          "data": {
            "text/plain": [
              "True"
            ]
          },
          "metadata": {},
          "execution_count": 7
        }
      ]
    },
    {
      "cell_type": "code",
      "source": [
        "#@title 1047 Remove All Adjacent Duplicates In String{ vertical-output: true,form-width: \"40%\" }\n",
        "s = \"azxxzy\" #@param {type:\"string\"}\n",
        "\n",
        "class Solution:\n",
        "    def removeDuplicates(self, s: str) -> str:\n",
        "        stack = list()\n",
        "        for x in s:\n",
        "            if stack and x == stack[-1]:\n",
        "                stack.pop()\n",
        "            else:\n",
        "                stack.append(x)\n",
        "        return ''.join(stack)\n",
        "\n",
        "sol = Solution()\n",
        "sol.removeDuplicates(s)"
      ],
      "metadata": {
        "colab": {
          "base_uri": "https://localhost:8080/",
          "height": 35
        },
        "id": "svd3u29OGC2O",
        "outputId": "0781d25e-c95d-44b1-e570-9da6fedd09e5",
        "cellView": "form"
      },
      "execution_count": null,
      "outputs": [
        {
          "output_type": "execute_result",
          "data": {
            "text/plain": [
              "'ay'"
            ],
            "application/vnd.google.colaboratory.intrinsic+json": {
              "type": "string"
            }
          },
          "metadata": {},
          "execution_count": 8
        }
      ]
    },
    {
      "cell_type": "code",
      "source": [
        "#@title 150 Evaluate Reverse Polish Notation{ vertical-output: true,form-width: \"40%\" }\n",
        "tokens = [\"10\",\"6\",\"9\",\"3\",\"+\",\"-11\",\"*\",\"/\",\"*\",\"17\",\"+\",\"5\",\"+\"] #@param {type:\"raw\"}\n",
        "key = \"向零截断\" #@param {type:\"string\"} \n",
        "class Solution:\n",
        "    def evalRPN(self, tokens: list[str]) -> int:\n",
        "        stack = list()\n",
        "        operations = ['+', '-', '*', '/']\n",
        "        for x in tokens:\n",
        "            if x not in operations:\n",
        "                stack.append(int(x))\n",
        "            else:\n",
        "                b, a = stack.pop(), stack.pop()\n",
        "                if x == '+':\n",
        "                    stack.append(a + b)\n",
        "                elif x == '-':\n",
        "                    stack.append(a - b)\n",
        "                elif x == '*':\n",
        "                    stack.append(a * b)\n",
        "                else:\n",
        "                    # 向零截断：指取整结果的绝对值要比原值的绝对值要小\n",
        "                    stack.append(int(a / b))\n",
        "                \n",
        "        return stack.pop()\n",
        "\n",
        "sol = Solution()\n",
        "sol.evalRPN(tokens)"
      ],
      "metadata": {
        "colab": {
          "base_uri": "https://localhost:8080/"
        },
        "id": "d4caBUvAG8hH",
        "outputId": "66e53beb-a9d6-40b8-b4ca-0b6dd1da7389",
        "cellView": "form"
      },
      "execution_count": null,
      "outputs": [
        {
          "output_type": "execute_result",
          "data": {
            "text/plain": [
              "22"
            ]
          },
          "metadata": {},
          "execution_count": 22
        }
      ]
    },
    {
      "cell_type": "code",
      "source": [
        "#@title 239 Sliding Window Maximum { vertical-output: true,form-width: \"40%\" }\n",
        "\n",
        "nums = [9,10,9,-7,-4,-8,2,-6] #@param {type:\"raw\"}\n",
        "k = 5 #@param {type:\"integer\"}\n",
        "key = \"list.pop(0)时间复杂度为O(n), 要换deque.popleft()\" #@param {type:\"string\"}\n",
        "from collections import deque\n",
        "class Solution:\n",
        "    def maxSlidingWindow(self, nums: list[int], k: int) -> list[int]:\n",
        "        if not nums:\n",
        "            return []\n",
        "        if  k == 1:\n",
        "            return nums\n",
        "        \"\"\"\n",
        "        #list.pop()时间复杂度为O(n),这里需要使用collections.deque()\n",
        "        \"\"\"\n",
        "        max_queue, res = deque(), [] \n",
        "        #需要使用deque实现单调队列，直接使用list会超时\n",
        "        for i in range(k):\n",
        "            \n",
        "            while max_queue and nums[i] > max_queue[-1]:\n",
        "                max_queue.pop()\n",
        "            max_queue.append(nums[i])\n",
        "        res.append(max_queue[0])\n",
        "        for i in range(k, len(nums)):\n",
        "            # print(max_queue)\n",
        "            if max_queue[0] == nums[i - k]:\n",
        "                max_queue.popleft()\n",
        "            while max_queue and nums[i] > max_queue[-1]:\n",
        "                max_queue.pop()\n",
        "            max_queue.append(nums[i])\n",
        "            res.append(max_queue[0])\n",
        "            # print(max_queue)\n",
        "        return res \n",
        "sol = Solution()\n",
        "sol.maxSlidingWindow(nums, k)"
      ],
      "metadata": {
        "colab": {
          "base_uri": "https://localhost:8080/"
        },
        "id": "WLzWbOnqeXGm",
        "outputId": "7e9a97ee-cab6-4a73-fb35-4128513cb8a4",
        "cellView": "form"
      },
      "execution_count": null,
      "outputs": [
        {
          "output_type": "execute_result",
          "data": {
            "text/plain": [
              "[10, 10, 9, 2]"
            ]
          },
          "metadata": {},
          "execution_count": 33
        }
      ]
    },
    {
      "cell_type": "code",
      "source": [
        "#@title 347 Top K Frequent Elements ver.1 { vertical-output: true,form-width: \"40%\" }\n",
        "nums = [1,1,1,2,2,3] #@param {type:\"raw\"}\n",
        "k = 2 #@param {type:\"integer\"}\n",
        "key = \"纯 Counter\"\n",
        "from collections import Counter\n",
        "class Solution:\n",
        "    def topKFrequent(self, nums: list[int], k: int) -> list[int]:\n",
        "        res = []\n",
        "        cnt_k = Counter(nums).most_common(k) # list[tuple(val, freq)]\n",
        "        for item in cnt_k:\n",
        "            val, _ = item\n",
        "            res.append(val)\n",
        "        return res\n",
        "sol = Solution()\n",
        "sol.topKFrequent(nums, k)"
      ],
      "metadata": {
        "colab": {
          "base_uri": "https://localhost:8080/"
        },
        "id": "ChvtUwVc2sEo",
        "outputId": "2fa4675d-a4e8-4662-8375-221f33a43ecf",
        "cellView": "form"
      },
      "execution_count": null,
      "outputs": [
        {
          "output_type": "execute_result",
          "data": {
            "text/plain": [
              "[1, 2]"
            ]
          },
          "metadata": {},
          "execution_count": 6
        }
      ]
    },
    {
      "cell_type": "code",
      "source": [
        "#@title 347 Top K Frequent Elements ver.2 { vertical-output: true,form-width: \"37%\" }\n",
        "nums = [1,1,1,2,2,3] #@param {type:\"raw\"}\n",
        "k = 2 #@param {type:\"integer\"}\n",
        "key = \" Counter + heapq\"\n",
        "\n",
        "\"\"\"\n",
        "为什么要使用最小堆？\n",
        "    因为我们只要topk大，不需要对整个进行排序\n",
        "    最小堆的特性是 heap[0] 总是堆里最小的，只要跟K个里最小的那个比，\n",
        "    维护前k个大就行\n",
        "\"\"\"\n",
        "import heapq\n",
        "from collections import Counter\n",
        "class Solution:\n",
        "    def topKFrequent(self, nums: list[int], k: int) -> list[int]:\n",
        "        res, pri_que = [0]*k, []\n",
        "\n",
        "        for val, freq in Counter(nums).items():\n",
        "            if len(pri_que) == k:\n",
        "                heapq.heappushpop(pri_que, (freq, val))\n",
        "            else:\n",
        "                heapq.heappush(pri_que, (freq, val))\n",
        "        # 找出前K个高频元素，因为小顶堆先弹出的是最小的，所以倒序来输出到数组\n",
        "        for i in range(k-1, -1, -1): \n",
        "            res[i] = heapq.heappop(pri_que)[1]\n",
        "        return res\n",
        "sol = Solution()\n",
        "sol.topKFrequent(nums, k)"
      ],
      "metadata": {
        "colab": {
          "base_uri": "https://localhost:8080/"
        },
        "cellView": "form",
        "id": "2mOiN30j5c23",
        "outputId": "b998c776-1a23-4555-acfd-548859de867a"
      },
      "execution_count": null,
      "outputs": [
        {
          "output_type": "execute_result",
          "data": {
            "text/plain": [
              "[1, 2]"
            ]
          },
          "metadata": {},
          "execution_count": 7
        }
      ]
    },
    {
      "cell_type": "markdown",
      "source": [
        "# Binary Tree\n",
        "\n",
        "- 满二叉树 \n",
        "    \n",
        "    除了叶子结点之外都左右齐全\n",
        "\n",
        "- 完全二叉树\n",
        "\n",
        "    倒数第二层要不左右齐全，要不只有左，要不就没有。\n",
        "\n",
        "- 二叉搜索树 **有序树**\n",
        "    - 左子树 < 根节点\n",
        "    - 右子树 > 根节点\n",
        "\n",
        "- 平衡二叉搜索树 **AVL**\n",
        "    - 二叉搜索树\n",
        "    - 平衡二叉树：要么是空树，要么左右子树的高度差绝对值不超过1\n",
        "\n",
        "- 二叉树遍历\n",
        "    - 深度优先 DFS\n",
        "        - 前 ： 根左右 \n",
        "        - 中 ： 左根右\n",
        "        - 后 ： 左右根\n",
        "    - 宽度遍历 BFS\n",
        "        - 层次遍历\n",
        "\n",
        "        "
      ],
      "metadata": {
        "id": "eFAYQtQ-63y_"
      }
    },
    {
      "cell_type": "code",
      "source": [
        "#@title init\n",
        "\n",
        "class TreeNode():\n",
        "    def __init__(self, val):\n",
        "        self.val = val\n",
        "        self.left = None\n",
        "        self.right = None"
      ],
      "metadata": {
        "id": "_IK1iK30OQT6",
        "cellView": "form"
      },
      "execution_count": null,
      "outputs": []
    },
    {
      "cell_type": "code",
      "source": [
        "#@title 144 Binary Tree Preorder Traversal\n",
        "\n",
        "# Definition for a binary tree node.\n",
        "# class TreeNode:\n",
        "#     def __init__(self, val=0, left=None, right=None):\n",
        "#         self.val = val\n",
        "#         self.left = left\n",
        "#         self.right = right\n",
        "\n",
        "\"\"\" 递归 \"\"\"\n",
        "class Solution:\n",
        "    def preorderTraversal(self, root: TreeNode) -> list[int]:\n",
        "        if not root:\n",
        "            return []\n",
        "        \n",
        "        left = self.preorderTraversal(root.left)\n",
        "        right = self.preorderTraversal(root.right)\n",
        "\n",
        "        return [root.val] + left + right\n",
        "\n",
        "\"\"\" 迭代 \"\"\"\n",
        "class Solution:\n",
        "    def preorderTraversal(self, root: Optional[TreeNode]) -> List[int]:\n",
        "        if not root:\n",
        "            return []\n",
        "        \n",
        "        stack, res = [root],[]\n",
        "        while stack:\n",
        "            p = stack.pop()\n",
        "            if p.right:\n",
        "                stack.append(p.right)\n",
        "            if p.left:\n",
        "                stack.append(p.left)\n",
        "            res.append(p.val)\n",
        "        return res"
      ],
      "metadata": {
        "cellView": "form",
        "id": "fzlYVx7COuFt"
      },
      "execution_count": null,
      "outputs": []
    },
    {
      "cell_type": "code",
      "source": [
        "#@title 145 Binary Tree Postorder Traversal\n",
        "# Definition for a binary tree node.\n",
        "# class TreeNode:\n",
        "#     def __init__(self, val=0, left=None, right=None):\n",
        "#         self.val = val\n",
        "#         self.left = left\n",
        "#         self.right = right\n",
        "\n",
        "\n",
        "\"\"\" 递归 \"\"\"\n",
        "class Solution:\n",
        "    def postorderTraversal(self, root: TreeNode) -> list[int]:\n",
        "        if not root:\n",
        "            return []\n",
        "        \n",
        "        left = self.postorderTraversal(root.left)\n",
        "        right = self.postorderTraversal(root.right)\n",
        "\n",
        "        return left + right + [root.val]\n",
        "\n",
        "\"\"\" 迭代 \"\"\"\n",
        "class Solution:\n",
        "    def postorderTraversal(self, root: Optional[TreeNode]) -> List[int]:\n",
        "        if not root:\n",
        "            return []\n",
        "        \n",
        "        stack, res = [root], []\n",
        "        while stack:\n",
        "            p = stack.pop()\n",
        "            res.append(p.val)\n",
        "            if p.left:\n",
        "                stack.append(p.left)\n",
        "            if p.right:\n",
        "                stack.append(p.right)\n",
        "        return res[::-1]   # 根右左的 reverse  "
      ],
      "metadata": {
        "id": "DE4TSpQQWE7b",
        "cellView": "form"
      },
      "execution_count": null,
      "outputs": []
    },
    {
      "cell_type": "code",
      "source": [
        "#@title 94 Binary Tree Inorder Traversal\n",
        "# Definition for a binary tree node.\n",
        "# class TreeNode:\n",
        "#     def __init__(self, val=0, left=None, right=None):\n",
        "#         self.val = val\n",
        "#         self.left = left\n",
        "#         self.right = right\n",
        "\n",
        "\"\"\" 递归 \"\"\"\n",
        "class Solution:\n",
        "    def inorderTraversal(self, root: TreeNode) -> list[int]:\n",
        "        if not root:\n",
        "            return []\n",
        "        \n",
        "        left = self.inorderTraversal(root.left)\n",
        "        right = self.inorderTraversal(root.right)\n",
        "\n",
        "        return left + [root.val] + right \n",
        "\n",
        "\"\"\" 迭代 \"\"\"\n",
        "class Solution:\n",
        "    def inorderTraversal(self, root: Optional[TreeNode]) -> List[int]:\n",
        "        if not root:\n",
        "            return []\n",
        "\n",
        "        stack, res, p = [], [], root\n",
        "        while stack or p:\n",
        "            if p:\n",
        "                stack.append(p)\n",
        "                p = p.left # left\n",
        "            else: # because p = None = left\n",
        "                p = stack.pop()\n",
        "                res.append(p.val) # p acted as a root\n",
        "                p = p.right # right\n",
        "        return res\n"
      ],
      "metadata": {
        "cellView": "form",
        "id": "VnjEbjywYfBw"
      },
      "execution_count": null,
      "outputs": []
    },
    {
      "cell_type": "code",
      "source": [
        "#@title 102 Binary Tree Level Order Traversal \n",
        "# Definition for a binary tree node.\n",
        "# class TreeNode:\n",
        "#     def __init__(self, val=0, left=None, right=None):\n",
        "#         self.val = val\n",
        "#         self.left = left\n",
        "#         self.right = right\n",
        "from collections import deque\n",
        "class Solution:\n",
        "    def levelOrder(self, root: Optional[TreeNode]) -> List[List[int]]:\n",
        "\n",
        "        if not root:\n",
        "            return []\n",
        "        \"\"\"\n",
        "        deque 的对象一定是要iterable 可迭代的\n",
        "        \"\"\"\n",
        "\n",
        "        deque_, res = deque([root]), []\n",
        "        # print(deque_)\n",
        "        \"\"\"\n",
        "        deque([TreeNode{val: 3, \n",
        "        left: TreeNode{val: 9, left: None, right: None}, \n",
        "        right: TreeNode{val: 20, \n",
        "            left: TreeNode{val: 15, left: None, right: None}, \n",
        "            right: TreeNode{val: 7, left: None, right: None}}}])\n",
        "        \"\"\"\n",
        "        while deque_:\n",
        "            level = []\n",
        "            for _ in range(len(deque_)):\n",
        "                p = deque_.popleft()\n",
        "                level.append(p.val)\n",
        "                if p.left:\n",
        "                    deque_.append(p.left)\n",
        "                if p.right:\n",
        "                    deque_.append(p.right)\n",
        "            res.append(level)\n",
        "        return res"
      ],
      "metadata": {
        "id": "SYuWJtux3kjv",
        "cellView": "form"
      },
      "execution_count": null,
      "outputs": []
    },
    {
      "cell_type": "code",
      "source": [
        "#@title 226 Invert Binary Tree\n",
        "# Definition for a binary tree node.\n",
        "# class TreeNode:\n",
        "#     def __init__(self, val=0, left=None, right=None):\n",
        "#         self.val = val\n",
        "#         self.left = left\n",
        "#         self.right = right\n",
        "\n",
        "\n",
        "\n",
        "class Solution:\n",
        "    def invertTree(self, root: Optional[TreeNode]) -> Optional[TreeNode]:\n",
        "\n",
        "        if not root:\n",
        "            return root # TreeNode !!! not list\n",
        "        stack = [root]\n",
        "        \n",
        "        while stack:\n",
        "            p = stack.pop()\n",
        "            if not (p.left or p.right):\n",
        "                continue\n",
        "            if p.left:\n",
        "                stack.append(p.left)\n",
        "            if p.right:\n",
        "                stack.append(p.right)\n",
        "            \n",
        "            p.left, p.right = p.right, p.left\n",
        "        return root\n",
        "\n"
      ],
      "metadata": {
        "id": "8usmT_0W_ZqX",
        "cellView": "form"
      },
      "execution_count": null,
      "outputs": []
    },
    {
      "cell_type": "code",
      "source": [
        "#@title 589 N-ary Tree Preorder Traversal\n",
        "\"\"\"\n",
        "# Definition for a Node.\n",
        "class Node:\n",
        "    def __init__(self, val=None, children=None):\n",
        "        self.val = val\n",
        "        self.children = children\n",
        "\"\"\"\n",
        "\n",
        "\"\"\" 迭代版 \"\"\"\n",
        "class Solution:\n",
        "    def preorder(self, root: 'Node') -> List[int]:\n",
        "\n",
        "        if not root:\n",
        "            return []\n",
        "\n",
        "        stack, res = [root], []\n",
        "\n",
        "        while stack:\n",
        "            p = stack.pop()\n",
        "            res.append(p.val)\n",
        "            for x in p.children[::-1]:\n",
        "                stack.append(x)\n",
        "        return res\n",
        "\n",
        "\"\"\" 递归版 \"\"\"\n",
        "class Solution:\n",
        "    def preorder(self, root: 'Node') -> List[int]:\n",
        "        if not root:\n",
        "            return []\n",
        "        res = [root.val] # !!!\n",
        "        for child in root.children:\n",
        "            child_list = self.preorder(child)\n",
        "            res.extend(child_list)\n",
        "        return res"
      ],
      "metadata": {
        "cellView": "form",
        "id": "T3zZKLPcSGSf"
      },
      "execution_count": null,
      "outputs": []
    },
    {
      "cell_type": "code",
      "source": [
        "#@title 590 N-ary Tree Postorder Traversal\n",
        "\"\"\"\n",
        "# Definition for a Node.\n",
        "class Node:\n",
        "    def __init__(self, val=None, children=None):\n",
        "        self.val = val\n",
        "        self.children = children\n",
        "\"\"\"\n",
        "\n",
        "\"\"\" 迭代版 \"\"\"\n",
        "class Solution:\n",
        "    def postorder(self, root: 'Node') -> List[int]:\n",
        "\n",
        "        if not root :\n",
        "            return []\n",
        "\n",
        "        stack, res = [root], []\n",
        "        while stack:\n",
        "            p = stack.pop()\n",
        "            res.append(p.val)\n",
        "            for child in p.children:\n",
        "                stack.append(child)\n",
        "        return res[::-1]\n",
        "\n",
        "\"\"\"递归版\"\"\"\n",
        "class Solution:\n",
        "    def postorder(self, root: 'Node') -> List[int]:\n",
        "\n",
        "        if not root :\n",
        "            return []\n",
        "\n",
        "        res = []\n",
        "\n",
        "        for child in root.children:\n",
        "            child_lst = self.postorder(child)\n",
        "            res.extend(child_lst)\n",
        "        res.append(root.val)\n",
        "        return res"
      ],
      "metadata": {
        "id": "eAlI8A3rZJ9r",
        "cellView": "form"
      },
      "execution_count": null,
      "outputs": []
    },
    {
      "cell_type": "code",
      "source": [
        "#@title 101 Symmetric Tree 【递归】\n",
        "# Definition for a binary tree node.\n",
        "# class TreeNode:\n",
        "#     def __init__(self, val=0, left=None, right=None):\n",
        "#         self.val = val\n",
        "#         self.left = left\n",
        "#         self.right = right\n",
        "\n",
        "\"\"\" 递归版 \"\"\"\n",
        "class Solution:\n",
        "    def compare2Trees(self, root_a: Optional[TreeNode], root_b: Optional[TreeNode]) -> bool:\n",
        "        if (root_a==None) and (root_b==None):\n",
        "            return True\n",
        "        elif (root_a==None) or (root_b==None):\n",
        "            return False\n",
        "        elif root_a.val != root_b.val:\n",
        "            return False\n",
        "        \n",
        "        return self.compare2Trees(root_a.left, root_b.right) and self.compare2Trees(root_a.right, root_b.left)\n",
        "\n",
        "\n",
        "    def isSymmetric(self, root: Optional[TreeNode]) -> bool:\n",
        "        if root == None:\n",
        "            return True\n",
        "        else:\n",
        "            return self.compare2Trees(root.left, root.right)\n",
        "\n",
        "\"\"\" 迭代版 \"\"\"\n",
        "class Solution:\n",
        "    def isSymmetric(self, root: Optional[TreeNode]) -> bool:\n",
        "        if root == None:\n",
        "            return True\n",
        "        stack = [root.left, root.right]\n",
        "        \n",
        "        while stack:\n",
        "            \n",
        "            r = stack.pop()\n",
        "            l = stack.pop()\n",
        "            \n",
        "            if (l == None) and (r == None):\n",
        "                continue\n",
        "            elif (l == None) or (r == None): # condition\n",
        "                return False\n",
        "            elif l.val != r.val:\n",
        "                return False\n",
        "            stack.append(l.left)\n",
        "            stack.append(r.right)\n",
        "            stack.append(l.right)\n",
        "            stack.append(r.left)\n",
        "\n",
        "        return True    \n",
        "        "
      ],
      "metadata": {
        "id": "-2On4CG9lI5e",
        "cellView": "form"
      },
      "execution_count": null,
      "outputs": []
    },
    {
      "cell_type": "code",
      "source": [
        "#@title 100 Same Tree\n",
        "\n",
        "# Definition for a binary tree node.\n",
        "# class TreeNode:\n",
        "#     def __init__(self, val=0, left=None, right=None):\n",
        "#         self.val = val\n",
        "#         self.left = left\n",
        "#         self.right = right\n",
        "class Solution:\n",
        "    def isSameTree(self, p: Optional[TreeNode], q: Optional[TreeNode]) -> bool:\n",
        "        if p is None or q is None:\n",
        "            return p is q\n",
        "        return (p.val==q.val) and self.isSameTree(p.left, q.left) and \n",
        "                self.isSameTree(p.right, q.right)"
      ],
      "metadata": {
        "id": "-IZJqoHjsfWZ",
        "cellView": "form"
      },
      "execution_count": null,
      "outputs": []
    },
    {
      "cell_type": "code",
      "source": [
        "#@title 572 Subtree of Another Tree\n",
        "\n",
        "# Definition for a binary tree node.\n",
        "# class TreeNode:\n",
        "#     def __init__(self, val=0, left=None, right=None):\n",
        "#         self.val = val\n",
        "#         self.left = left\n",
        "#         self.right = right\n",
        "class Solution:\n",
        "    def isSameTree(self, p: Optional[TreeNode], q: Optional[TreeNode]) -> bool:\n",
        "        if p is None or q is None:\n",
        "            return p is q\n",
        "\n",
        "        return (p.val==q.val) and self.isSameTree(p.left, q.left) and self.isSameTree(p.right, q.right)\n",
        "\n",
        "\n",
        "    def isSubtree(self, root: Optional[TreeNode], subRoot: Optional[TreeNode]) -> bool:\n",
        "        if root is None:\n",
        "            return False\n",
        "        elif self.isSameTree(root, subRoot):\n",
        "            return True\n",
        "        \"\"\"\n",
        "        elif root.val == subRoot.val:\n",
        "            return self.isSameTree(root, subRoot)\n",
        "        \"\"\"\n",
        "        return self.isSubtree(root.left, subRoot) or self.isSubtree(root.right, subRoot) "
      ],
      "metadata": {
        "id": "U5xZUlWZwdMI",
        "cellView": "form"
      },
      "execution_count": null,
      "outputs": []
    },
    {
      "cell_type": "code",
      "source": [
        "#@title 104 Maximum Depth of Binary Tree\n",
        "\n",
        "# Definition for a binary tree node.\n",
        "# class TreeNode:\n",
        "#     def __init__(self, val=0, left=None, right=None):\n",
        "#         self.val = val\n",
        "#         self.left = left\n",
        "#         self.right = right\n",
        "\n",
        "\"\"\" 递归版 \"\"\"\n",
        "class Solution:\n",
        "    def maxDepth(self, root: Optional[TreeNode]) -> int:\n",
        "        if not root:\n",
        "            return 0\n",
        "        return max(self.maxDepth(root.left), self.maxDepth(root.right)) + 1 \n",
        "\n",
        "\"\"\" 迭代版 \"\"\"\n",
        "from collections import deque\n",
        "class Solution:\n",
        "    def maxDepth(self, root: 'Node') -> int:\n",
        "        if not root:\n",
        "            return 0\n",
        "\n",
        "        deque_, res =  deque([[root]]), 1\n",
        "        # print(deque_)\n",
        "        \"\"\"\n",
        "        deque([TreeNode{val: 3, \n",
        "        left: TreeNode{val: 9, left: None, right: None}, \n",
        "        right: TreeNode{val: 20, \n",
        "            left: TreeNode{val: 15, left: None, right: None}, \n",
        "            right: TreeNode{val: 7, left: None, right: None}}}])\n",
        "        \"\"\"\n",
        "        while deque_:\n",
        "            next_level = []\n",
        "            this_level = deque_.popleft()\n",
        "            for p in this_level:\n",
        "                if p.left:\n",
        "                    next_level.append(p.left)\n",
        "                if p.right:\n",
        "                    next_level.append(p.right)\n",
        "            if not next_level:\n",
        "                return res\n",
        "            deque_.append(list(next_level))\n",
        "            res += 1"
      ],
      "metadata": {
        "id": "te1_PtAgEywX",
        "cellView": "form"
      },
      "execution_count": null,
      "outputs": []
    },
    {
      "cell_type": "code",
      "source": [
        "#@title 559 Maximum Depth of N-ary Tree\n",
        "\n",
        "\"\"\"\n",
        "# Definition for a Node.\n",
        "class Node:\n",
        "    def __init__(self, val=None, children=None):\n",
        "        self.val = val\n",
        "        self.children = children\n",
        "\"\"\"\n",
        "from collections import deque\n",
        "class Solution:\n",
        "    def maxDepth(self, root: 'Node') -> int:\n",
        "        if not root:\n",
        "            return 0\n",
        "        \n",
        "        max_depth = 1\n",
        "        for child in root.children:\n",
        "            max_depth = max(max_depth, self.maxDepth(child)+1)\n",
        "        return max_depth\n",
        "        \n",
        "\n",
        "\"\"\"\n",
        "出错的原因是没有 判断如果没有child怎么办\n",
        "\"\"\"\n",
        "from collections import deque\n",
        "class Solution:\n",
        "    def maxDepth(self, root: 'Node') -> int:\n",
        "        if not root:\n",
        "            return 0\n",
        "        if not root.children: # why error\n",
        "            return 1\n",
        "        child_list = []\n",
        "        for child in root.children:\n",
        "            child_list.append(self.maxDepth(child))\n",
        "            # print(child_list)\n",
        "        return max(child_list) + 1"
      ],
      "metadata": {
        "id": "Xa4WskcyY2SA",
        "cellView": "form"
      },
      "execution_count": null,
      "outputs": []
    },
    {
      "cell_type": "code",
      "source": [
        "#@title 111 Minimum Depth of Binary Tree\n",
        "\n",
        "# Definition for a binary tree node.\n",
        "# class TreeNode:\n",
        "#     def __init__(self, val=0, left=None, right=None):\n",
        "#         self.val = val\n",
        "#         self.left = left\n",
        "#         self.right = right\n",
        "\n",
        "\"\"\" 递归版 \"\"\"\n",
        "class Solution:\n",
        "    def minDepth(self, root: Optional[TreeNode]) -> int:\n",
        "        if root is None:\n",
        "            return 0\n",
        "        elif (root.left is None) and (root.right is None):\n",
        "            return 1\n",
        "        elif root.left is None:\n",
        "            return 1 + self.minDepth(root.right)\n",
        "        elif root.right is None:\n",
        "            return 1 + self.minDepth(root.left)\n",
        "        else:\n",
        "            return 1 + min(self.minDepth(root.left), self.minDepth(root.right))\n",
        "\n",
        "\"\"\" 迭代版 \"\"\"\n",
        "from collections import deque\n",
        "class Solution:\n",
        "    def minDepth(self, root: Optional[TreeNode]) -> int:\n",
        "        if root is None:\n",
        "            return 0\n",
        "        \n",
        "        deque_, res = deque([root]), 1\n",
        "        while deque_:\n",
        "            for _ in range(len(deque_)):\n",
        "                p = deque_.popleft()\n",
        "                if (p.left is None) and (p.right is None):\n",
        "                    return res\n",
        "                if p.left:\n",
        "                    deque_.append(p.left)\n",
        "                if p.right:\n",
        "                    deque_.append(p.right)\n",
        "            res += 1"
      ],
      "metadata": {
        "colab": {
          "base_uri": "https://localhost:8080/",
          "height": 130
        },
        "id": "QMtMdPmhY9w_",
        "outputId": "86d47388-249d-4d4c-b4cc-d6958987bc1d",
        "cellView": "form"
      },
      "execution_count": null,
      "outputs": [
        {
          "output_type": "error",
          "ename": "SyntaxError",
          "evalue": "ignored",
          "traceback": [
            "\u001b[0;36m  File \u001b[0;32m\"<ipython-input-1-7af99f38a19f>\"\u001b[0;36m, line \u001b[0;32m24\u001b[0m\n\u001b[0;31m    \"\"\" 迭代版 \"\"\"\u001b[0m\n\u001b[0m            ^\u001b[0m\n\u001b[0;31mSyntaxError\u001b[0m\u001b[0;31m:\u001b[0m unterminated triple-quoted string literal (detected at line 41)\n"
          ]
        }
      ]
    },
    {
      "cell_type": "code",
      "source": [
        "#@title 222 Count Complete Tree\n",
        "\n",
        "# Definition for a binary tree node.\n",
        "# class TreeNode:\n",
        "#     def __init__(self, val=0, left=None, right=None):\n",
        "#         self.val = val\n",
        "#         self.left = left\n",
        "#         self.right = right\n",
        "\n",
        "\n",
        "\"\"\" 迭代版 \"\"\"\n",
        "from collections import deque\n",
        "class Solution:\n",
        "    def countNodes(self, root: Optional[TreeNode]) -> int:\n",
        "        if root is None:\n",
        "            return 0\n",
        "        \n",
        "        deque_, res = deque([root]), 1\n",
        "\n",
        "        while deque_:\n",
        "            for i in range(len(deque_)):\n",
        "                p = deque_.popleft()\n",
        "                if p.left is None:\n",
        "                    return res \n",
        "                if p.right is None:\n",
        "                    return res + 1\n",
        "                deque_.append(p.left)\n",
        "                deque_.append(p.right)\n",
        "                res += 2\n",
        "\n",
        "\"\"\" 递归版 \"\"\"\n",
        "from collections import deque\n",
        "class Solution:\n",
        "    def countNodes(self, root: Optional[TreeNode]) -> int:\n",
        "        if root is None:\n",
        "            return 0\n",
        "        return 1 + self.countNodes(root.left) + self.countNodes(root.right)"
      ],
      "metadata": {
        "id": "MzTB-V5vkHHH",
        "cellView": "form"
      },
      "execution_count": null,
      "outputs": []
    },
    {
      "cell_type": "code",
      "source": [
        "#@title 110 Balanced Binary Tree\n",
        "\n",
        "# Definition for a binary tree node.\n",
        "# class TreeNode:\n",
        "#     def __init__(self, val=0, left=None, right=None):\n",
        "#         self.val = val\n",
        "#         self.left = left\n",
        "#         self.right = right\n",
        "\n",
        "\"\"\"\n",
        "\"自底向上的递归就是及时止损 \n",
        "自顶向下的递归就是不管三七二十一先把所有的高度算一遍\"\n",
        "\"\"\"\n",
        "\n",
        "\"\"\" 递归版 \"\"\"\n",
        "class Solution:\n",
        "    def getHeight(self, root: Optional[TreeNode]) -> int:\n",
        "        \"\"\"\n",
        "        -1 表示已经不是平衡二叉树了，\n",
        "        否则返回值是以该节点为根节点树的高度  \n",
        "        分开算且比 是能更节省速度因为就不用算right了\n",
        "        但是就得遍历全部的\n",
        "        \"\"\"\n",
        "        if not root:\n",
        "            return 0\n",
        "        l_depth = self.getHeight(root.left) \n",
        "        if l_depth == -1: # 先判断左子树 是否banlanced \n",
        "            return -1\n",
        "\n",
        "        r_depth = self.getHeight(root.right)\n",
        "        if r_depth == -1: # 先判断左子树 是否banlanced \n",
        "            return -1\n",
        "        if abs(l_depth - r_depth) > 1: # 再计算左右的高度差，来判断root \n",
        "            return -1\n",
        "        return 1 + max(self.getHeight(root.left), self.getHeight(root.right))\n",
        "\n",
        "\n",
        "    def isBalanced(self, root: Optional[TreeNode]) -> bool:\n",
        "        \"\"\" 自底向下 \n",
        "        \"\"\"\n",
        "        if root is None:\n",
        "            return True\n",
        "        return self.getHeight(root) > -1:\n",
        "\n",
        "\n",
        "\"\"\"代码随想录的迭代 \"\"\"\n",
        "from collections import deque\n",
        "class Solution:\n",
        "\n",
        "    def isBalanced(self, root: Optional[TreeNode]) -> bool:\n",
        "        if root is None:\n",
        "            return True\n",
        "\n",
        "        height_map, stack = {}, [root]\n",
        "        # 减少重复的计算。\n",
        "        while stack:\n",
        "            p = stack.pop() # 向前去遍历 left + right\n",
        "            if p:\n",
        "                stack.append(p) # 回溯去拿到 Height，栈先进后出\n",
        "                stack.append(None)\n",
        "\n",
        "                if p.left:\n",
        "                    stack.append(p.left)\n",
        "                if p.right:\n",
        "                    stack.append(p.right)\n",
        "            else: # p == None, next is real node\n",
        "                real_p = stack.pop()\n",
        "                left = height_map.get(real_p.left, 0)\n",
        "                right = height_map.get(real_p.right, 0)\n",
        "                if abs(left-right) > 1:\n",
        "                    return False\n",
        "                height_map[real_p] = 1 + max(left, right)\n",
        "        return True\n",
        "\n",
        "\"\"\" 官方版 自顶向下\"\"\"\"\n",
        "\n",
        "class Solution:\n",
        "    \n",
        "    def getHeight(self, root: Optional[TreeNode]) -> int:\n",
        "        if root is None:\n",
        "            return 0\n",
        "        return 1 + max(self.getHeight(root.left), self.getHeight(root.right))\n",
        "\n",
        "\n",
        "    def isBalanced(self, root: Optional[TreeNode]) -> bool:\n",
        "        \n",
        "        \"\"\" 自顶向下 \n",
        "        isbalanced(root) = abs(l-r) and isbanlanced(l) and isbanlanced(r)\n",
        "        \n",
        "        \"\"\"\n",
        "        if root is None:\n",
        "            return True\n",
        "        \n",
        "        return (abs(self.getHeight(root.left)-self.getHeight(root.right))<=1) \\\n",
        "                and self.isBalanced(root.left) \\\n",
        "                and self.isBalanced(root.right)\n",
        "\n",
        "\"\"\" 我自己的版本 \"\"\"\n",
        "from collections import defaultdict\n",
        "class Solution:\n",
        "    def isBalanced(self, root: Optional[TreeNode]) -> bool:\n",
        "        \"\"\" 自底向下 \n",
        "        先判断左右子树的banlanced\n",
        "        \"\"\"\n",
        "        if root is None:\n",
        "            return True\n",
        "\n",
        "        stack, height_map = [root], defaultdict(int)\n",
        "        # 为了能够没有的时候自动创建\n",
        "        height_map[root] = 0 # 高度一定大于等于1，0设为init\n",
        "    \n",
        "        while stack:\n",
        "            p = stack[-1] # 不弹出才是：右左根\n",
        "            if height_map[p] > 1 and (p.left or p.right): \n",
        "                # 只要不是叶子结点，高度一定大于1\n",
        "                stack.pop()\n",
        "                continue\n",
        "            if p.left is None and p.right is None:\n",
        "                # 叶子结点的高度等于1\n",
        "                height_map[p] = 1\n",
        "                stack.pop()\n",
        "                continue\n",
        "            if p.left:\n",
        "                stack.append(p.left)\n",
        "            if p.right:\n",
        "                stack.append(p.right)\n",
        "            left_height = height_map[p.left]\n",
        "            right_height = height_map[p.right]    \n",
        "            if abs(left_height-right_height) > 1:\n",
        "                return False\n",
        "            height_map[p] = 1 + max(left_height, right_height)\n",
        "        return True"
      ],
      "metadata": {
        "id": "aC_61vWWcbGl",
        "cellView": "form"
      },
      "execution_count": null,
      "outputs": []
    },
    {
      "cell_type": "code",
      "source": [
        "#@title 257 Binary Tree Paths\n",
        "\n",
        "# Definition for a binary tree node.\n",
        "# class TreeNode:\n",
        "#     def __init__(self, val=0, left=None, right=None):\n",
        "#         self.val = val\n",
        "#         self.left = left\n",
        "#         self.right = right\n",
        "\n",
        "\n",
        "\"\"\" 递归版 \"\"\"\n",
        "class Solution:\n",
        "    def binaryTreePaths(self, root: Optional[TreeNode]) -> List[str]:\n",
        "        if root is None:\n",
        "            return []\n",
        "        if root.left is None and root.right is None:\n",
        "            return [str(root.val)]\n",
        "        \n",
        "        left_path = self.binaryTreePaths(root.left)\n",
        "        right_path = self.binaryTreePaths(root.right)\n",
        "        left_path.extend(right_path)\n",
        "        for i in range(len(left_path)):\n",
        "            left_path[i] = str(root.val) + \"->\" + left_path[i]     \n",
        "        return left_path\n",
        "\n",
        "\"\"\" 迭代版 \"\"\"\n",
        "class Solution:\n",
        "    def binaryTreePaths(self, root: Optional[TreeNode]) -> List[str]:\n",
        "        if root is None:\n",
        "            return []\n",
        "\n",
        "        stack, path_stack, res = [root], [str(root.val)], []\n",
        "    \n",
        "        while stack:\n",
        "            p = stack.pop()\n",
        "            path = path_stack.pop()\n",
        "            if p.left is None and p.right is None:\n",
        "                res.append(path)\n",
        "            if p.left:\n",
        "                stack.append(p.left)\n",
        "                path_stack.append(path + '->' + str(p.left.val))\n",
        "            if p.right:\n",
        "                stack.append(p.right)\n",
        "                path_stack.append(path + '->' + str(p.right.val))\n",
        "        return res\n",
        " \n",
        "\n"
      ],
      "metadata": {
        "cellView": "form",
        "id": "6ULn7EAnO0X1"
      },
      "execution_count": null,
      "outputs": []
    },
    {
      "cell_type": "code",
      "source": [
        "#@title 404 Sum of Left Leaves\n",
        "\n",
        "# Definition for a binary tree node.\n",
        "# class TreeNode:\n",
        "#     def __init__(self, val=0, left=None, right=None):\n",
        "#         self.val = val\n",
        "#         self.left = left\n",
        "#         self.right = right\n",
        "class Solution:\n",
        "    def sumOfLeftLeaves(self, root: Optional[TreeNode]) -> int:\n",
        "        if root.left is None and root.right is None:\n",
        "            return 0\n",
        "        \n",
        "        stack, res = [root], 0\n",
        "\n",
        "        while stack:\n",
        "            p = stack.pop()\n",
        "            if p.left:\n",
        "                stack.append(p.left)\n",
        "                if p.left.left is None and p.left.right is None:\n",
        "                    res += p.left.val\n",
        "            if p.right:\n",
        "                stack.append(p.right)\n",
        "        return res\n"
      ],
      "metadata": {
        "cellView": "form",
        "id": "EUHxDFXov9uh"
      },
      "execution_count": null,
      "outputs": []
    },
    {
      "cell_type": "code",
      "source": [
        "#@title 513 Find Bottom Left Tree Value\n",
        "\n",
        "# Definition for a binary tree node.\n",
        "# class TreeNode:\n",
        "#     def __init__(self, val=0, left=None, right=None):\n",
        "#         self.val = val\n",
        "#         self.left = left\n",
        "#         self.right = right\n",
        "from collections import deque\n",
        "class Solution:\n",
        "    def findBottomLeftValue(self, root: Optional[TreeNode]) -> int:\n",
        "        if root.left is None and root.right is None:\n",
        "            return root.val\n",
        "        \n",
        "        deque_, res = deque([root]), root.val\n",
        "\n",
        "        while deque_:\n",
        "            res = deque_[0].val\n",
        "            for _ in range(len(deque_)):\n",
        "                p = deque_.popleft()\n",
        "                if p.left:\n",
        "                    deque_.append(p.left)\n",
        "                if p.right:\n",
        "                    deque_.append(p.right)\n",
        "\n",
        "        return res"
      ],
      "metadata": {
        "cellView": "form",
        "id": "d0o5dRtlxQCe"
      },
      "execution_count": null,
      "outputs": []
    },
    {
      "cell_type": "code",
      "source": [
        "#@title 112 Path Sum\n",
        "\n",
        "# Definition for a binary tree node.\n",
        "# class TreeNode:\n",
        "#     def __init__(self, val=0, left=None, right=None):\n",
        "#         self.val = val\n",
        "#         self.left = left\n",
        "#         self.right = right\n",
        "class Solution:\n",
        "    def hasPathSum(self, root: Optional[TreeNode], targetSum: int) -> bool:\n",
        "        if root is None:\n",
        "            return False\n",
        "        \"\"\" \n",
        "        因为value存在负数，所以不可能提前剪枝，\n",
        "        只能全部遍历一遍\n",
        "        \"\"\"\n",
        "        last = targetSum - root.val\n",
        "        if root.left is None and root.right is None:\n",
        "            return last == 0\n",
        "        return self.hasPathSum(root.left, last) or self.hasPathSum(root.right, last )"
      ],
      "metadata": {
        "cellView": "form",
        "id": "j1p97o4wz1_x"
      },
      "execution_count": null,
      "outputs": []
    },
    {
      "cell_type": "code",
      "source": [
        "#@title 113 Path Sum II\n",
        "\n",
        "# Definition for a binary tree node.\n",
        "# class TreeNode:\n",
        "#     def __init__(self, val=0, left=None, right=None):\n",
        "#         self.val = val\n",
        "#         self.left = left\n",
        "#         self.right = right\n",
        "class Solution:\n",
        "    def traversal(self, root: Optional[TreeNode], targetSum: int, path: List[int], res: List[List[int]]):\n",
        "        if root is None:\n",
        "            return\n",
        "        path.append(root.val)\n",
        "        targetSum -= root.val\n",
        "        if root.left is None and root.right is None and targetSum == 0:\n",
        "            res.append(list(path)) # 重新new一个对象，否则会是 []\n",
        "        self.traversal(root.left, targetSum, path, res)\n",
        "        self.traversal(root.right, targetSum, path, res)\n",
        "        path.pop()\n",
        "\n",
        "    def pathSum(self, root: Optional[TreeNode], targetSum: int) -> List[List[int]]:\n",
        "        res = []\n",
        "        self.traversal(root, targetSum, [], res)\n",
        "        return res"
      ],
      "metadata": {
        "id": "T8cb_aKVnswx",
        "cellView": "form"
      },
      "execution_count": null,
      "outputs": []
    },
    {
      "cell_type": "markdown",
      "source": [
        "再来看返回值，递归函数什么时候需要返回值？什么时候不需要返回值？这里总结如下三点：\n",
        "\n",
        "- 如果需要搜索整棵二叉树且不用处理递归返回值，递归函数就不要返回值。（113.路径总和ii）\n",
        "\n",
        "- 如果需要搜索整棵二叉树且需要处理递归返回值，递归函数就需要返回值。（236. 二叉树的最近公共祖先）\n",
        "\n",
        "- 如果要搜索其中一条符合条件的路径，那么递归一定需要返回值，因为遇到符合条件的路径了就要及时返回。（112.路径总和i）"
      ],
      "metadata": {
        "id": "A-zlsoT0XUz2"
      }
    },
    {
      "cell_type": "code",
      "source": [
        "#@title 106 Construct Binary Tree from Inorder and Postorder Traversal\n",
        "\n",
        "# class TreeNode:\n",
        "#     def __init__(self, val=0, left=None, right=None):\n",
        "#         self.val = val\n",
        "#         self.left = left\n",
        "#         self.right = right\n",
        "\n",
        "\n",
        "\"\"\" 递归版 \"\"\"\n",
        "class Solution:\n",
        "    def buildTree(self, inorder: List[int], postorder: List[int]) -> Optional[TreeNode]:\n",
        "        if not inorder:\n",
        "            return None\n",
        "        \n",
        "        if len(inorder) == 1:\n",
        "            return TreeNode(val=inorder[0])\n",
        "\n",
        "        root = TreeNode(val=postorder.pop())\n",
        "        idx = inorder.index(root.val)\n",
        "        #  重点1: 中序数组大小一定跟后序数组大小是相同的\n",
        "        root.left = self.buildTree(inorder[:idx], postorder[:idx])\n",
        "        root.right = self.buildTree(inorder[idx+1:], postorder[idx:])        \n",
        "        return root"
      ],
      "metadata": {
        "id": "NMWeuxW6XUP-",
        "cellView": "form"
      },
      "execution_count": null,
      "outputs": []
    },
    {
      "cell_type": "code",
      "source": [
        "#@title 105 Construct Binary Tree from Preorder and Inorder Traversal\n",
        "\n",
        "# Definition for a binary tree node.\n",
        "# class TreeNode:\n",
        "#     def __init__(self, val=0, left=None, right=None):\n",
        "#         self.val = val\n",
        "#         self.left = left\n",
        "#         self.right = right\n",
        "class Solution:\n",
        "    def buildTree(self, preorder: List[int], inorder: List[int]) -> Optional[TreeNode]:\n",
        "        if not inorder: \n",
        "            return None\n",
        "        if len(inorder) == 1:\n",
        "            return TreeNode(val=inorder[0])\n",
        "        \n",
        "        root = TreeNode(val=preorder[0])\n",
        "        idx = inorder.index(root.val)\n",
        "\n",
        "        root.left = self.buildTree(preorder[1:idx+1], inorder[:idx])\n",
        "        root.right = self.buildTree(preorder[idx+1:], inorder[idx+1:])\n",
        "\n",
        "        return root"
      ],
      "metadata": {
        "cellView": "form",
        "id": "dAtc5tc2_jpd"
      },
      "execution_count": null,
      "outputs": []
    },
    {
      "cell_type": "code",
      "source": [
        "#@title 654 Maximum Binary Tree\n",
        "# Definition for a binary tree node.\n",
        "# class TreeNode:\n",
        "#     def __init__(self, val=0, left=None, right=None):\n",
        "#         self.val = val\n",
        "#         self.left = left\n",
        "#         self.right = right\n",
        "class Solution:\n",
        "    def constructMaximumBinaryTree(self, nums: List[int]) -> Optional[TreeNode]:\n",
        "\n",
        "        if not nums:\n",
        "            return None\n",
        "        if len(nums) == 1:\n",
        "            return TreeNode(val=nums[0])\n",
        "\n",
        "        root_idx = 0\n",
        "        for i in range(1, len(nums)):\n",
        "            if nums[root_idx] < nums[i]:\n",
        "                root_idx = i\n",
        "        \n",
        "        root = TreeNode(val=nums[root_idx])\n",
        "        root.left = self.constructMaximumBinaryTree(nums[:root_idx])\n",
        "        root.right = self.constructMaximumBinaryTree(nums[root_idx+1:])\n",
        "        return root"
      ],
      "metadata": {
        "cellView": "form",
        "id": "3JJmriHKCsKw"
      },
      "execution_count": null,
      "outputs": []
    },
    {
      "cell_type": "code",
      "source": [
        "#@title 617 Merge Two Binary Trees\n",
        "\n",
        "# Definition for a binary tree node.\n",
        "# class TreeNode:\n",
        "#     def __init__(self, val=0, left=None, right=None):\n",
        "#         self.val = val\n",
        "#         self.left = left\n",
        "#         self.right = right\n",
        "class Solution:\n",
        "    def mergeTrees(self, root1: Optional[TreeNode], root2: Optional[TreeNode]) -> Optional[TreeNode]:\n",
        "        if root1 is None:\n",
        "            return root2\n",
        "        if root2 is None:\n",
        "            return root1\n",
        "\n",
        "        root1.val += root2.val\n",
        "        root1.left = self.mergeTrees(root1.left, root2.left)\n",
        "        root1.right = self.mergeTrees(root1.right, root2.right)\n",
        "\n",
        "        return root1"
      ],
      "metadata": {
        "cellView": "form",
        "id": "rg0S8lKhEQgl"
      },
      "execution_count": null,
      "outputs": []
    },
    {
      "cell_type": "markdown",
      "source": [
        "# BST 二叉搜索树 **有序树** \n",
        "\n",
        "- 节点的左子树只包含**小于<**当前节点的数。\n",
        "- 节点的右子树只包含**大于>**当前节点的数。\n",
        "- 所有左子树和右子树自身必须也是二叉搜索树。\n",
        "- 二叉搜索树中不能有重复元素  🚫 **=**\n",
        "- **中序遍历 inorde** 下，输出的二叉搜索树节点的数值是**有序序列**"
      ],
      "metadata": {
        "id": "JwpTbvkHSpGv"
      }
    },
    {
      "cell_type": "code",
      "source": [
        "#@title 700 Search in a Binary Search Tree\n",
        "\n",
        "# Definition for a binary tree node.\n",
        "# class TreeNode:\n",
        "#     def __init__(self, val=0, left=None, right=None):\n",
        "#         self.val = val\n",
        "#         self.left = left\n",
        "#         self.right = right\n",
        "class Solution:\n",
        "    def searchBST(self, root: Optional[TreeNode], val: int) -> Optional[TreeNode]:\n",
        "        if root == None:\n",
        "            return None\n",
        "            \n",
        "        if root.val == val:\n",
        "            return root\n",
        "        elif root.val < val:\n",
        "            return self.searchBST(root.right, val)\n",
        "        else:\n",
        "            return self.searchBST(root.left, val)"
      ],
      "metadata": {
        "cellView": "form",
        "id": "bYPi-R3jGJ8h"
      },
      "execution_count": null,
      "outputs": []
    },
    {
      "cell_type": "code",
      "source": [
        "#@title 236 Lowest Common Ancestor of a Binary Tree\n",
        "\n",
        "# Definition for a binary tree node.\n",
        "# class TreeNode:\n",
        "#     def __init__(self, val=0, left=None, right=None):\n",
        "#         self.val = val\n",
        "#         self.left = left\n",
        "#         self.right = right\n",
        "class Solution:\n",
        "    def traversal(self, root: Optional[TreeNode], left: int, right: int) -> bool:\n",
        "        if root == None:\n",
        "            return True\n",
        "        if root.val <= left or root.val >= right:\n",
        "            return False\n",
        "        if root.left and root.left.val >= root.val:\n",
        "            return False\n",
        "        if root.right and root.right.val <= root.val:\n",
        "            return False\n",
        "\n",
        "        return self.traversal(root.left, left, root.val) and self.traversal(root.right, root.val, right)\n",
        "        \n",
        "    def isValidBST(self, root: Optional[TreeNode]) -> bool:\n",
        "\n",
        "        if root == None:\n",
        "            return True        \n",
        "        return self.traversal(root, -float('inf'), float('inf'))\n",
        "\n",
        "\"\"\" 中序遍历 - 递归版 \"\"\"\n",
        "class Solution:    \n",
        "    def isValidBST(self, root: Optional[TreeNode]) -> bool:\n",
        "        if root == None:\n",
        "            return True\n",
        "\n",
        "        pre = None\n",
        "\n",
        "        def inorder(root: Optional[TreeNode]) -> bool:\n",
        "\n",
        "            nonlocal pre\n",
        "\n",
        "            if root == None:\n",
        "                return True\n",
        "            \n",
        "            is_left_valid = inorder(root.left)\n",
        "\n",
        "            if pre and pre.val >= root.val:\n",
        "                return False\n",
        "            pre = root\n",
        "            is_right_valid = inorder(root.right)\n",
        "            return is_left_valid and is_right_valid          \n",
        "        return inorder(root)\n",
        "\n",
        "\"\"\" 中序遍历 - 迭代版 \"\"\"\n",
        "\n",
        "class Solution:    \n",
        "    def isValidBST(self, root: Optional[TreeNode]) -> bool:\n",
        "        stack, pre = [], None\n",
        "\n",
        "        while root or stack:\n",
        "\n",
        "            while root: # left\n",
        "                stack.append(root)\n",
        "                root = root.left \n",
        "        \n",
        "            root = stack.pop() # root \n",
        "            if pre == None:\n",
        "                pre = root\n",
        "            else:\n",
        "                if pre.val >= root.val:\n",
        "                    return False\n",
        "                pre = root\n",
        "            \n",
        "            root = root.right # right\n",
        "\n",
        "        return True"
      ],
      "metadata": {
        "id": "uCuevFY7GQc3",
        "cellView": "form"
      },
      "execution_count": null,
      "outputs": []
    },
    {
      "cell_type": "code",
      "source": [
        "#@title 530 Minimum Absolute Difference in BST\n",
        "\n",
        "# Definition for a binary tree node.\n",
        "# class TreeNode:\n",
        "#     def __init__(self, val=0, left=None, right=None):\n",
        "#         self.val = val\n",
        "#         self.left = left\n",
        "#         self.right = right\n",
        "\n",
        "\"\"\" 递归版 \"\"\"\n",
        "class Solution:\n",
        "    def getMinimumDifference(self, root: Optional[TreeNode]) -> int:\n",
        "        pre, min_dif = None, float('inf')\n",
        "\n",
        "        def inorder(root: Optional[TreeNode]):\n",
        "            nonlocal pre, min_dif\n",
        "        \n",
        "            if root == None:\n",
        "                return\n",
        "            \n",
        "            inorder(root.left)\n",
        "            \n",
        "            if pre and min_dif > abs(root.val-pre.val):\n",
        "                min_dif = abs(root.val-pre.val)\n",
        "            pre = root\n",
        "            \n",
        "            inorder(root.right)\n",
        "\n",
        "        inorder(root)\n",
        "        return min_dif\n",
        "\n",
        "\"\"\" 迭代版 \"\"\"\n",
        "class Solution:\n",
        "    def getMinimumDifference(self, root: Optional[TreeNode]) -> int:\n",
        "        stack, pre, min_dif = [], None, float('inf')\n",
        "\n",
        "        while root or stack:\n",
        "            while root:\n",
        "                stack.append(root)\n",
        "                root = root.left\n",
        "            \n",
        "            root = stack.pop()\n",
        "            if pre == None:\n",
        "                pre = root\n",
        "            else:\n",
        "                if min_dif > abs(root.val - pre.val):\n",
        "                    min_dif = abs(root.val - pre.val)\n",
        "                pre = root\n",
        "            root = root.right\n",
        "            \n",
        "        return min_dif\n",
        "\n",
        "\n",
        "\n",
        "        "
      ],
      "metadata": {
        "cellView": "form",
        "id": "Y5rJ45TUFdxE"
      },
      "execution_count": null,
      "outputs": []
    },
    {
      "cell_type": "code",
      "source": [
        "#@title 501 Find Mode in Binary Search Tree\n",
        "# Definition for a binary tree node.\n",
        "# class TreeNode:\n",
        "#     def __init__(self, val=0, left=None, right=None):\n",
        "#         self.val = val\n",
        "#         self.left = left\n",
        "#         self.right = right\n",
        "\n",
        "\"\"\" nonlocal\"\"\"\n",
        "class Solution:\n",
        "    def findMode(self, root: Optional[TreeNode]) -> List[int]:\n",
        "        pre, modes, mode_freq, freq = None, [], 0, 0\n",
        "\n",
        "        def inOrder(root: Optional[TreeNode]) -> None:\n",
        "            nonlocal pre, modes, mode_freq, freq\n",
        "            if not root:\n",
        "                return None\n",
        "        \n",
        "            inOrder(root.left)\n",
        "\n",
        "            if not pre or pre.val != root.val:\n",
        "                freq, pre = 1, root\n",
        "            else:\n",
        "                freq += 1\n",
        "            if freq == mode_freq:\n",
        "                modes.append(root.val)\n",
        "            elif freq > mode_freq:\n",
        "                modes, mode_freq = [root.val], freq\n",
        "            \n",
        "            inOrder(root.right)\n",
        "\n",
        "        inOrder(root)\n",
        "        return modes\n",
        "\n",
        "\"\"\" solution init self.\"\"\"\n",
        "class Solution:\n",
        "    def __init__(self):\n",
        "        self.pre = None\n",
        "        self.modes = []\n",
        "        self.mode_freq = 0\n",
        "        self.freq = 0\n",
        "    \n",
        "    def inOrder(self, root: Optional[TreeNode]):\n",
        "        if root == None:\n",
        "            return\n",
        "        \n",
        "        self.inOrder(root.left)\n",
        "\n",
        "        if not self.pre or self.pre.val != root.val:\n",
        "            self.freq = 1\n",
        "            self.pre = root\n",
        "        else:\n",
        "            self.freq += 1\n",
        "        if self.freq == self.mode_freq:\n",
        "            self.modes.append(root.val)\n",
        "        elif self.freq > self.mode_freq:\n",
        "            self.mode_freq = self.freq\n",
        "            self.modes = [root.val]\n",
        "\n",
        "        self.inOrder(root.right)\n",
        "\n",
        "    def findMode(self, root: Optional[TreeNode]) -> int:\n",
        "        if root == None:\n",
        "            return []\n",
        "        self.inOrder(root)\n",
        "        return self.modes"
      ],
      "metadata": {
        "cellView": "form",
        "id": "I69M203NNnmM"
      },
      "execution_count": null,
      "outputs": []
    },
    {
      "cell_type": "code",
      "source": [
        "#@title 236 Lowest Common Ancestor of a Binary Tree\n",
        "# Definition for a binary tree node.\n",
        "# class TreeNode:\n",
        "#     def __init__(self, x):\n",
        "#         self.val = x\n",
        "#         self.left = None\n",
        "#         self.right = None\n",
        "\n",
        "class Solution:\n",
        "    def lowestCommonAncestor(self, root: 'TreeNode', p: 'TreeNode', q: 'TreeNode') -> 'TreeNode':\n",
        "        if root == None:\n",
        "            return None\n",
        "        \n",
        "        left = self.lowestCommonAncestor(root.left, p, q) # left\n",
        "        right = self.lowestCommonAncestor(root.right, p, q) # right\n",
        "\n",
        "        if root.val == p.val or root.val == q.val:\n",
        "            return root\n",
        "\n",
        "        if left and right:\n",
        "            return root\n",
        "        elif left:\n",
        "            return left\n",
        "        else: \n",
        "            return right "
      ],
      "metadata": {
        "cellView": "form",
        "id": "w31Diuzabkx8"
      },
      "execution_count": null,
      "outputs": []
    },
    {
      "cell_type": "code",
      "source": [
        "#@title 235 Lowest Common Ancestor of a Binary Search Tree\n",
        "\n",
        "# Definition for a binary tree node.\n",
        "# class TreeNode:\n",
        "#     def __init__(self, x):\n",
        "#         self.val = x\n",
        "#         self.left = None\n",
        "#         self.right = None\n",
        "\n",
        "\"\"\" 递归法 \"\"\"\n",
        "class Solution:\n",
        "    def __lowestCommonAncestor(self, root: 'TreeNode', p: 'TreeNode', q: 'TreeNode') -> 'TreeNode':\n",
        "        if root == None:\n",
        "            return None\n",
        "        \n",
        "        if root.val >= p.val and root.val <= q.val:\n",
        "            return root\n",
        "        \n",
        "        elif root.val < p.val:\n",
        "            return self.__lowestCommonAncestor(root.right, p, q)\n",
        "        else:\n",
        "            return self.__lowestCommonAncestor(root.left, p, q)\n",
        "\n",
        "    def lowestCommonAncestor(self, root: 'TreeNode', p: 'TreeNode', q: 'TreeNode') -> 'TreeNode':\n",
        "        if root == None:\n",
        "            return None\n",
        "        if p.val > q.val:\n",
        "            p, q = q, p\n",
        "        return self.__lowestCommonAncestor(root, p, q)\n",
        "\n",
        "\"\"\" 迭代法 \"\"\"\n",
        "class Solution:\n",
        "\n",
        "    def lowestCommonAncestor(self, root: 'TreeNode', p: 'TreeNode', q: 'TreeNode') -> 'TreeNode':\n",
        "        if root == None:\n",
        "            return None\n",
        "        if p.val > q.val:\n",
        "            p, q = q, p\n",
        "        \n",
        "        while root:\n",
        "            if root.val >= p.val and root.val <= q.val:\n",
        "                return root\n",
        "            elif root.val < p.val:\n",
        "                root = root.right\n",
        "            else:\n",
        "                root = root.left"
      ],
      "metadata": {
        "id": "FSXlN8Rkdubn",
        "cellView": "form"
      },
      "execution_count": null,
      "outputs": []
    },
    {
      "cell_type": "code",
      "source": [
        "#@title 701 Insert into a Binary Search Tree\n",
        "\n",
        "# Definition for a binary tree node.\n",
        "# class TreeNode:\n",
        "#     def __init__(self, val=0, left=None, right=None):\n",
        "#         self.val = val\n",
        "#         self.left = left\n",
        "#         self.right = right\n",
        "class Solution:\n",
        "    def insertIntoBST(self, root: Optional[TreeNode], val: int) -> Optional[TreeNode]:\n",
        "        if root == None:\n",
        "            return TreeNode(val=val)\n",
        "\n",
        "        p = root\n",
        "        while p:\n",
        "            if p.val > val:\n",
        "                if p.left:\n",
        "                    p = p.left\n",
        "                else:\n",
        "                    p.left = TreeNode(val=val)\n",
        "                    break\n",
        "            else:\n",
        "                if p.right:\n",
        "                    p = p.right\n",
        "                else:\n",
        "                    p.right = TreeNode(val=val)\n",
        "                    break\n",
        "        return root\n"
      ],
      "metadata": {
        "id": "uqZAAVxE-uFs",
        "cellView": "form"
      },
      "execution_count": null,
      "outputs": []
    },
    {
      "cell_type": "code",
      "source": [
        "#@title 450 Delete Node in a BST\n",
        "\n",
        "# Definition for a binary tree node.\n",
        "# class TreeNode:\n",
        "#     def __init__(self, val=0, left=None, right=None):\n",
        "#         self.val = val\n",
        "#         self.left = left\n",
        "#         self.right = right\n",
        "\n",
        "\n",
        "\"\"\" 迭代版 \"\"\"\n",
        "class Solution:\n",
        "    def deleteNode(self, root: Optional[TreeNode], key: int) -> Optional[TreeNode]:\n",
        "        if not root:\n",
        "            return None\n",
        "        \n",
        "        parent, p = None, root\n",
        "        while p and p.val != key:\n",
        "            parent = p\n",
        "            if p.val > key:\n",
        "                p = p.left\n",
        "            elif p.val < key:\n",
        "                p = p.right\n",
        "        \n",
        "        if p == None:\n",
        "            return root\n",
        "\n",
        "        if parent == None:\n",
        "            if root.right == None:\n",
        "                return root.left\n",
        "            elif root.left == None:\n",
        "                return root.right\n",
        "            else:\n",
        "                node = p.right\n",
        "                while node.left:\n",
        "                    node = node.left\n",
        "                node.left = p.left\n",
        "                return p.right\n",
        "        else:\n",
        "            if p.right == None:\n",
        "                if parent.left == p:\n",
        "                    parent.left = p.left\n",
        "                else:\n",
        "                    parent.right = p.left\n",
        "            elif p.left == p:\n",
        "                if parent.left == p:\n",
        "                    parent.left = p.right\n",
        "                else:\n",
        "                    parent.right = p.right\n",
        "            else:\n",
        "                node = p.right\n",
        "                while node.left:\n",
        "                    node = node.left\n",
        "                node.left = p.left\n",
        "                if parent.left == p:\n",
        "                    parent.left = p.right\n",
        "                else:\n",
        "                    parent.right = p.right\n",
        "            return root\n",
        "\n",
        "\n",
        "\"\"\" 递归版 \"\"\"\n",
        "class Solution:\n",
        "    def deleteNode(self, root: Optional[TreeNode], key: int) -> Optional[TreeNode]:\n",
        "        if not root:\n",
        "            return None\n",
        "        if root.val > key:\n",
        "            root.left = self.deleteNode(root.left, key)\n",
        "        elif root.val < key:\n",
        "            root.right = self.deleteNode(root.right, key)\n",
        "        else:\n",
        "            if root.right == None:\n",
        "                return root.left\n",
        "            elif root.left == None:\n",
        "                return root.right\n",
        "            else:\n",
        "                p = root.right\n",
        "                while p.left:\n",
        "                    p = p.left\n",
        "                p.left = root.left\n",
        "            root = root.right\n",
        "        return root\n",
        "            "
      ],
      "metadata": {
        "id": "j1JpDkMYOHX5",
        "cellView": "form"
      },
      "execution_count": null,
      "outputs": []
    },
    {
      "cell_type": "code",
      "source": [
        "#@title 669 Trim a Binary Search Tree\n",
        "\n",
        "# Definition for a binary tree node.\n",
        "# class TreeNode:\n",
        "#     def __init__(self, val=0, left=None, right=None):\n",
        "#         self.val = val\n",
        "#         self.left = left\n",
        "#         self.right = right\n",
        "\n",
        "\"\"\" 迭代版 \"\"\"\n",
        "class Solution:\n",
        "    def cutLeftBST(self, root :Optional[TreeNode], low: int) -> Optional[TreeNode]:\n",
        "        \"\"\" 剪掉小的那支\"\"\"\n",
        "        if root == None:\n",
        "            return None\n",
        "        if root.val < low:\n",
        "            return self.cutLeftBST(root.right, low)\n",
        "        elif root.val > low :\n",
        "            root.left = self.cutLeftBST(root.left, low)\n",
        "        else:\n",
        "            root.left = None\n",
        "        return root\n",
        "        \n",
        "        \n",
        "    def cutRightBST(self, root :Optional[TreeNode], high: int) -> Optional[TreeNode]:\n",
        "        \"\"\" 剪掉大的那支\"\"\"\n",
        "        if root == None:\n",
        "            return None\n",
        "        if root.val > high:\n",
        "            return self.cutRightBST(root.left, high)\n",
        "        elif root.val < high:\n",
        "            root.right = self.cutRightBST(root.right, high)\n",
        "        else:\n",
        "            root.right = None\n",
        "        return root\n",
        "\n",
        "    def trimBST(self, root: Optional[TreeNode], low: int, high: int) -> Optional[TreeNode]:\n",
        "        if root == None:\n",
        "            return None\n",
        "        if root.val > high:\n",
        "            root = self.trimBST(root.left, low,high)\n",
        "        elif root.val < low:\n",
        "            root = self.trimBST(root.right, low, high)\n",
        "        else: # low <= root <= high\n",
        "            root.left = self.cutLeftBST(root.left, low)\n",
        "            root.right = self.cutRightBST(root.right, high)\n",
        "        return root\n",
        "\n",
        "\"\"\" 精简迭代版 \"\"\"\n",
        "class Solution:\n",
        "    def trimBST(self, root: Optional[TreeNode], low: int, high: int) -> Optional[TreeNode]:\n",
        "        if root == None:\n",
        "            return None\n",
        "        if root.val > high:\n",
        "            return self.trimBST(root.left, low,high)\n",
        "        elif root.val < low:\n",
        "            return self.trimBST(root.right, low, high)\n",
        "        else: # low <= root <= high\n",
        "            root.left = self.trimBST(root.left, low, high)\n",
        "            root.right = self.trimBST(root.right, low, high)\n",
        "            return root\n",
        "\n"
      ],
      "metadata": {
        "id": "DvdgjhOrGmKK",
        "cellView": "form"
      },
      "execution_count": null,
      "outputs": []
    },
    {
      "cell_type": "code",
      "source": [
        "#@title 108 Convert Sorted Array to Binary Search Tree\n",
        "\n",
        "# Definition for a binary tree node.\n",
        "# class TreeNode:\n",
        "#     def __init__(self, val=0, left=None, right=None):\n",
        "#         self.val = val\n",
        "#         self.left = left\n",
        "#         self.right = right\n",
        "class Solution:\n",
        "    def sortedArrayToBST(self, nums: List[int]) -> Optional[TreeNode]:\n",
        "        if not nums:\n",
        "            return None\n",
        "        \n",
        "        root_idx = len(nums) // 2\n",
        "        root = TreeNode(val=nums[root_idx])\n",
        "        root.left = self.sortedArrayToBST(nums[:root_idx])\n",
        "        root.right = self.sortedArrayToBST(nums[root_idx+1:])\n",
        "        return root\n",
        "\n"
      ],
      "metadata": {
        "id": "6iYyVYPWKp09",
        "cellView": "form"
      },
      "execution_count": null,
      "outputs": []
    },
    {
      "cell_type": "code",
      "source": [
        "#@title 538 Convert BST to Greater Tree\n",
        "\n",
        "# Definition for a binary tree node.\n",
        "# class TreeNode:\n",
        "#     def __init__(self, val=0, left=None, right=None):\n",
        "#         self.val = val\n",
        "#         self.left = left\n",
        "#         self.right = right\n",
        "\n",
        "\"\"\" 递归版 \"\"\"\n",
        "class Solution:\n",
        "    def __init__(self):\n",
        "        self.cum = 0\n",
        "\n",
        "    def convertBST(self, root: Optional[TreeNode]) -> Optional[TreeNode]:\n",
        "        if root == None:\n",
        "            return None\n",
        "        \n",
        "        root.right = self.convertBST(root.right)\n",
        "\n",
        "        self.cum += root.val\n",
        "        root.val = self.cum\n",
        "\n",
        "        root.left = self.convertBST(root.left)\n",
        "        return root\n",
        "\n",
        "\"\"\" 递归版 \"\"\"\n",
        "class Solution:\n",
        "\n",
        "    def convertBST(self, root: Optional[TreeNode]) -> Optional[TreeNode]:\n",
        "        if root == None:\n",
        "            return None\n",
        "        \n",
        "        stack, p, cum = [], root, 0\n",
        "        while stack or p:\n",
        "            if p:\n",
        "                stack.append(p)\n",
        "                p = p.right\n",
        "            else:\n",
        "                p = stack.pop()\n",
        "                cum += p.val\n",
        "                p.val = cum\n",
        "                p = p.left\n",
        "        return root\n"
      ],
      "metadata": {
        "id": "k5Hop5WYKv7p",
        "cellView": "form"
      },
      "execution_count": null,
      "outputs": []
    },
    {
      "cell_type": "markdown",
      "source": [
        "# backtracking, 回溯"
      ],
      "metadata": {
        "id": "-VCHecGOigc2"
      }
    },
    {
      "cell_type": "code",
      "source": [
        "#@title  77 Combinations {vertical-output: true, form-width: \"30%\" }\n",
        "n = 4 #@param {type:\"integer\"}\n",
        "k = 2 #@param {type:\"integer\"}\n",
        "class Solution:\n",
        "    \"\"\" \n",
        "    子集问题，与元素顺序无关\n",
        "    \"\"\"\n",
        "    def combine(self, n: int, k: int) -> list[list[int]]:\n",
        "        path, res = [], []\n",
        "\n",
        "        def backtracking(start: int, n: int, k: int):\n",
        "            if len(path) + (n-start+1) == k:\n",
        "                # 优化\n",
        "                # 子集即是它本身，但不是剪枝\n",
        "                res.append(path[:]+list(range(start, n+1)))\n",
        "                return\n",
        "            if len(path) == k: \n",
        "                # found\n",
        "                res.append(path[:])\n",
        "                return\n",
        "            end = n - (k - len(path)) + 1 # 剪枝\n",
        "            # 如果没有end，还是会在“子集即它本身” 暴力遍历一遍\n",
        "            for i in range(start, end+1): \n",
        "                # 暴力遍历\n",
        "                path.append(i)\n",
        "                backtracking(i+1, n, k)\n",
        "                path.pop()\n",
        "\n",
        "            return\n",
        "\n",
        "        backtracking(1, n, k)\n",
        "        return res\n",
        "sol = Solution()\n",
        "sol.combine(n, k)"
      ],
      "metadata": {
        "id": "cQ8JJtTlilIN",
        "colab": {
          "base_uri": "https://localhost:8080/"
        },
        "outputId": "b840953d-d4b8-4f23-d808-abbec8fc07fb"
      },
      "execution_count": null,
      "outputs": [
        {
          "output_type": "execute_result",
          "data": {
            "text/plain": [
              "[[1, 2], [1, 3], [1, 4], [2, 3], [2, 4], [3, 4]]"
            ]
          },
          "metadata": {},
          "execution_count": 2
        }
      ]
    },
    {
      "cell_type": "code",
      "source": [
        "#@title 216. Combination Sum III {vertical-output: true, form-width: \"30%\" }\n",
        "n = 7 #@param {type:\"integer\"}\n",
        "k = 3 #@param {type:\"integer\"}\n",
        "class Solution:\n",
        "    def combinationSum3(self, k: int, n: int) -> list[list[int]]:\n",
        "        \n",
        "        least = sum(list(range(1, k+1)))\n",
        "        most = sum(list(range(9, 9-k-1, -1)))\n",
        "        if least > n or most < n:\n",
        "            return []\n",
        "        if least == n:\n",
        "            return [list(range(1, k+1))]\n",
        "        if most == n:\n",
        "            return [list(range(9, 9-k-1, -1))]\n",
        "\n",
        "        cum, path, res = 0, [], []\n",
        "        def backtracking(start: int, k: int, n: int):\n",
        "            nonlocal cum, path, res\n",
        "            if len(path) == k: # is leaf\n",
        "                if cum == n:\n",
        "                    res.append(path[:])\n",
        "                return\n",
        "            # end = 9 不剪枝\n",
        "            end = min(n - cum, 9)  # 剪枝\n",
        "            for i in range(start, end+1):\n",
        "                \n",
        "                path.append(i)\n",
        "                cum += i\n",
        "                backtracking(i+1, k, n)\n",
        "                path.pop()\n",
        "                cum -= i\n",
        "            return\n",
        "\n",
        "        backtracking(1, k, n)\n",
        "        return res\n",
        "sol = Solution()\n",
        "sol.combinationSum3(k, n)"
      ],
      "metadata": {
        "colab": {
          "base_uri": "https://localhost:8080/"
        },
        "id": "K90VHbou9Bt-",
        "outputId": "00895938-f66e-4b08-9140-06b0b14f29e4"
      },
      "execution_count": null,
      "outputs": [
        {
          "output_type": "execute_result",
          "data": {
            "text/plain": [
              "[[1, 2, 4]]"
            ]
          },
          "metadata": {},
          "execution_count": 5
        }
      ]
    },
    {
      "cell_type": "code",
      "source": [
        "#@title 17 Letter Combinations of a Phone Number {vertical-output: true, form-width: \"30%\" }\n",
        "digits = \"23\" #@param {type:\"string\"}\n",
        "\n",
        "class Solution:\n",
        "    \n",
        "    def letterCombinations(self, digits: str) -> list[str]:\n",
        "        if not digits:\n",
        "            return []\n",
        "        \n",
        "        number_list = [int(i) for i in digits]\n",
        "        if 0 in number_list or 1 in number_list:\n",
        "            return []\n",
        "\n",
        "        map_ = [\"\",     \"\",     \"abc\",  \"def\", \"ghi\",\n",
        "            \"jkl\",  \"mno\",  \"pqrs\", \"tuv\", \"wxyz\"]\n",
        "        res, path = [], []\n",
        "       \n",
        "        def backtracking(number_list: list[int]):\n",
        "            nonlocal map_\n",
        "            if not number_list:\n",
        "               # print(path)\n",
        "                res.append(\"\".join(path))\n",
        "                return\n",
        "            #print(number_list)\n",
        "        \n",
        "            for str_ in map_[number_list[0]]:\n",
        "                path.append(str_)\n",
        "                backtracking(number_list[1:])\n",
        "                path.pop()\n",
        "            \n",
        "        backtracking(number_list)\n",
        "        return res\n",
        "sol = Solution()\n",
        "sol.letterCombinations(digits)"
      ],
      "metadata": {
        "colab": {
          "base_uri": "https://localhost:8080/"
        },
        "id": "sLlDNxhBSh5m",
        "outputId": "c43394d1-7f64-4b91-e549-0dbf07c6cf66"
      },
      "execution_count": null,
      "outputs": [
        {
          "output_type": "execute_result",
          "data": {
            "text/plain": [
              "['ad', 'ae', 'af', 'bd', 'be', 'bf', 'cd', 'ce', 'cf']"
            ]
          },
          "metadata": {},
          "execution_count": 10
        }
      ]
    },
    {
      "cell_type": "code",
      "source": [
        "#@title 39 Combination Sum {vertical-output: true, form-width: \"30%\" }\n",
        "candidates = [2,3,6,7] #@param {type:\"raw\"} \n",
        "target = 7 #@param {type:\"integer\"}\n",
        "\n",
        "class Solution:\n",
        "    def combinationSum(self, candidates: list[int], target: int) -> list[list[int]]:\n",
        "        candidates = sorted(candidates)\n",
        "        if target < candidates[0]:\n",
        "            return []\n",
        "        elif target == candidates[0]:\n",
        "            return [candidates[0]]\n",
        "        \n",
        "        res, path = [], []\n",
        "        def backtracking(candidates:list[int], target: int):      \n",
        "            if target == 0:\n",
        "                res.append(path[:])\n",
        "                return\n",
        "            if target < candidates[0]: # 剪枝\n",
        "                return\n",
        "            \n",
        "            for i in range(len(candidates)):\n",
        "                path.append(candidates[i])\n",
        "                target -= candidates[i]\n",
        "                backtracking(candidates[i:], target) # 重复的关键\n",
        "                target += candidates[i]\n",
        "                path.pop()\n",
        "            return\n",
        "        backtracking(candidates, target)\n",
        "        return res\n",
        "\n",
        "sol = Solution()\n",
        "sol.combinationSum(candidates, target)\n"
      ],
      "metadata": {
        "colab": {
          "base_uri": "https://localhost:8080/"
        },
        "id": "rWO6ubm-ddzD",
        "outputId": "175f676c-25c0-4e18-c54a-76a9c940d8f2"
      },
      "execution_count": null,
      "outputs": [
        {
          "output_type": "execute_result",
          "data": {
            "text/plain": [
              "[[2, 2, 3], [7]]"
            ]
          },
          "metadata": {},
          "execution_count": 12
        }
      ]
    },
    {
      "cell_type": "code",
      "source": [
        "#@title 40 Combination Sum II {vertical-output: true, form-width: \"30%\" }\n",
        "candidates = [10,1,2,7,6,1,5] #@param {type:\"raw\"} \n",
        "target = 8 #@param {type:\"integer\"}\n",
        "\n",
        "class Solution:\n",
        "    def combinationSum2(self, candidates: list[int], target: int) -> list[list[int]]:\n",
        "        candidates = sorted(candidates)\n",
        "        if target < candidates[0]:\n",
        "            return []\n",
        "        if target == candidates[0]:\n",
        "            return [[candidates[0]],]\n",
        "        res, path, pre = [], [], None\n",
        "        def backtracking(candidates: list[int], target):\n",
        "            nonlocal pre\n",
        "            if target == 0:\n",
        "                res.append(path[:])\n",
        "                return\n",
        "            if not candidates or target < candidates[0]:\n",
        "                return \n",
        "            \n",
        "            for i in range(len(candidates)):\n",
        "                if pre and candidates[i] == pre:\n",
        "                    continue\n",
        "                \n",
        "                path.append(candidates[i])\n",
        "                target -= candidates[i]\n",
        "                backtracking(candidates[i+1:], target)\n",
        "                target += candidates[i]\n",
        "                path.pop()\n",
        "                pre = candidates[i]\n",
        "\n",
        "            return\n",
        "        backtracking(candidates, target)\n",
        "        return res\n",
        "sol = Solution()\n",
        "sol.combinationSum2(candidates, target)"
      ],
      "metadata": {
        "colab": {
          "base_uri": "https://localhost:8080/"
        },
        "id": "OyL4xsDdsVeB",
        "outputId": "4ff305ca-ae24-44d8-89ac-d97ba8f6f0c6"
      },
      "execution_count": null,
      "outputs": [
        {
          "output_type": "execute_result",
          "data": {
            "text/plain": [
              "[[1, 1, 6], [1, 2, 5], [1, 7], [2, 6]]"
            ]
          },
          "metadata": {},
          "execution_count": 13
        }
      ]
    },
    {
      "cell_type": "code",
      "source": [
        "#@title 131 Palindrome Partitioning {vertical-output: true, form-width: \"30%\" }\n",
        "s = \"aab\" #@param {type:\"string\"} \n",
        "\n",
        "class Solution:\n",
        "    def partition(self, s: str) -> list[list[str]]:\n",
        "        if not s:\n",
        "            return []\n",
        "        if len(s) == 1:\n",
        "            return [[s],]\n",
        "        res, path = [], []\n",
        "        def backtracking(s: str):\n",
        "            if not s:\n",
        "                res.append(path[:])\n",
        "                return\n",
        "            \n",
        "            for i in range(len(s)):\n",
        "                if s[:i+1][::-1] != s[:i+1]:\n",
        "                    continue\n",
        "                path.append(s[:i+1])\n",
        "                backtracking(s[i+1:])\n",
        "                path.pop()\n",
        "            return\n",
        "        backtracking(s) \n",
        "        return res\n",
        "sol = Solution()\n",
        "sol.partition(s)"
      ],
      "metadata": {
        "colab": {
          "base_uri": "https://localhost:8080/"
        },
        "cellView": "form",
        "id": "3YLhhFqHwd3d",
        "outputId": "2bec11df-7f12-47a4-cf06-016ae0f0f66a"
      },
      "execution_count": null,
      "outputs": [
        {
          "output_type": "execute_result",
          "data": {
            "text/plain": [
              "[['a', 'a', 'b'], ['aa', 'b']]"
            ]
          },
          "metadata": {},
          "execution_count": 15
        }
      ]
    },
    {
      "cell_type": "code",
      "source": [
        "#@title 93 Restore IP Addresses {vertical-output: true, form-width: \"30%\" }\n",
        "s = \"101023\" #@param {type:\"string\"} \n",
        "\n",
        "class Solution:\n",
        "    def restoreIpAddresses(self, s: str) -> list[str]:\n",
        "        if not s:\n",
        "            return []\n",
        "        res, path = [], []\n",
        "        def backtracking(s: str):\n",
        "            if len(path)== 4 and not s:\n",
        "                res.append(\".\".join(path))\n",
        "                return\n",
        "            elif len(path) == 4 or not s: # 剪掉底下\n",
        "                return\n",
        "\n",
        "            if s[0] == \"0\": # 剪掉同层：0不能作为首字母和别的组合\n",
        "                path.append(s[0])\n",
        "                backtracking(s[1:])\n",
        "                path.pop()\n",
        "                return\n",
        "            for i in range(min(3, len(s))): # 剪掉同层\n",
        "                if i == 2 and int(s[:i+1]) > 255: # 剪掉底下\n",
        "                    break\n",
        "                else:\n",
        "                    path.append(s[:i+1])\n",
        "                    backtracking(s[i+1:])\n",
        "                    path.pop()\n",
        "            return\n",
        "        backtracking(s)\n",
        "        return res\n",
        "sol = Solution()\n",
        "sol.restoreIpAddresses(s)"
      ],
      "metadata": {
        "colab": {
          "base_uri": "https://localhost:8080/"
        },
        "id": "2xfdeivjQzKW",
        "outputId": "de7a6cb4-ce0d-402a-da43-f4682c249435"
      },
      "execution_count": null,
      "outputs": [
        {
          "output_type": "execute_result",
          "data": {
            "text/plain": [
              "['1.0.10.23', '1.0.102.3', '10.1.0.23', '10.10.2.3', '101.0.2.3']"
            ]
          },
          "metadata": {},
          "execution_count": 3
        }
      ]
    },
    {
      "cell_type": "markdown",
      "source": [
        "\n",
        "\n",
        "https://code-thinking.cdn.bcebos.com/pics/78.子集.png\n",
        "\n"
      ],
      "metadata": {
        "id": "cQorDcRWlHTU"
      }
    },
    {
      "cell_type": "code",
      "source": [
        "#@title 78 Subsets  {vertical-output: true, form-width: \"30%\" }\n",
        "nums = [1,2,3] #@param{type:\"raw\"}\n",
        "\"\"\" 0 - 1 Tree\"\"\"\n",
        "class Solution:\n",
        "    def subsets(self, nums: List[int]) -> List[List[int]]:\n",
        "        if not nums:\n",
        "            return []\n",
        "        res, path =[], []\n",
        "\n",
        "        def backtracking(nums: list[int]):\n",
        "            if not nums:\n",
        "                res.append(path[:])\n",
        "                return\n",
        "            \n",
        "            for x in [True, False]:\n",
        "                if x is True:\n",
        "                    path.append(nums[0])\n",
        "                    backtracking(nums[1:])\n",
        "                    path.pop()\n",
        "                else:\n",
        "                    backtracking(nums[1:])\n",
        "                \n",
        "            return\n",
        "        backtracking(nums)\n",
        "        return res\n",
        "        \n",
        "\n",
        "\"\"\" 不 \"\"\"\n",
        "class Solution:\n",
        "    def subsets(self, nums: List[int]) -> List[List[int]]:\n",
        "        if not nums:\n",
        "            return []\n",
        "        res, path =[], []\n",
        "        \n",
        "        def backtracking(nums: list[int]):\n",
        "            res.append(path[:])  # ！！！关键\n",
        "            if not nums:  \n",
        "                return\n",
        "            \n",
        "            for i in range(len(nums)):\n",
        "                path.append(nums[i])\n",
        "                backtracking(nums[i+1:])\n",
        "                path.pop()\n",
        "        backtracking(nums)\n",
        "        return res\n",
        "        \n"
      ],
      "metadata": {
        "id": "L9sqRNSZizyk"
      },
      "execution_count": null,
      "outputs": []
    },
    {
      "cell_type": "code",
      "source": [
        "#@title 90 Subsets II {vertical-output: true, form-width: \"30%\" }\n",
        "nums = [1,2,2] #@param{type:\"raw\"}\n",
        "class Solution:\n",
        "    def subsets(self, nums: List[int]) -> List[List[int]]:\n",
        "        if not nums:\n",
        "            return []\n",
        "        res, path =[], []\n",
        "        \n",
        "\n",
        "        def backtracking(nums: list[int]):\n",
        "            res.append(path[:])\n",
        "            if not nums:  \n",
        "                return\n",
        "            \n",
        "            for i in range(len(nums)):\n",
        "                path.append(nums[i])\n",
        "                backtracking(nums[i+1:])\n",
        "                path.pop()\n",
        "        backtracking(nums)\n",
        "        return res\n",
        "        \n"
      ],
      "metadata": {
        "id": "Mc6shJ_DlafJ"
      },
      "execution_count": null,
      "outputs": []
    },
    {
      "cell_type": "code",
      "source": [
        "#@title 491 Non-decreasing Subsequences {vertical-output: true, form-width: \"30%\" }\n",
        "nums = [4,6,7,7] #@param{type:\"raw\"}\n",
        "\n",
        "class Solution:\n",
        "    \"\"\" 自增子序列\n",
        "    该数组中不同的递增子序列, 递增是按照原数组的概念，不能sorted\n",
        "    \"\"\"\n",
        "    def findSubsequences(self, nums: List[int]) -> List[List[int]]:\n",
        "        if len(nums) == 1:\n",
        "            return []\n",
        "        path, res = [], []\n",
        "\n",
        "        def backtracking(nums: List[int]):\n",
        "            if len(path) > 1:\n",
        "                res.append(path[:])\n",
        "\n",
        "            if not nums:\n",
        "                return\n",
        "\n",
        "            hashT = [False]*201 # 优化： 比起数组in遍历搜寻，用hashT 因为范围很小所以直接用数组搞\n",
        "            for i in range(len(nums)):\n",
        "                if path and nums[i] < path[-1]: \n",
        "                    continue\n",
        "                if hashT[nums[i]+100] == True:\n",
        "                    continue\n",
        "                path.append(nums[i])\n",
        "                backtracking(nums[i+1:])\n",
        "                path.pop()\n",
        "                hashT[nums[i]+100] = True\n",
        "\n",
        "            return\n",
        "        backtracking(nums)\n",
        "        return res"
      ],
      "metadata": {
        "id": "SWweJoVzr1do"
      },
      "execution_count": null,
      "outputs": []
    },
    {
      "cell_type": "code",
      "source": [
        "#@title 46 Permutations {vertical-output: true, form-width: \"30%\" }\n",
        "nums = [1, 2, 3] #@param{type:\"raw\"}\n",
        "\n",
        "class Solution:\n",
        "    def permute(self, nums: List[int]) -> List[List[int]]:\n",
        "        if not nums:\n",
        "            return []\n",
        "        \n",
        "        path, res = [], []\n",
        "        \n",
        "        def backtarcking(nums: List[int]):\n",
        "            if len(path) == len(nums):\n",
        "                res.append(path[:])\n",
        "                return\n",
        "            \n",
        "            for i in range(len(nums)):\n",
        "                if nums[i] in path:\n",
        "                    continue\n",
        "                path.append(nums[i])\n",
        "                backtarcking(nums)\n",
        "                path.pop()\n",
        "            return\n",
        "        backtarcking(nums)\n",
        "        return res"
      ],
      "metadata": {
        "id": "GRlYY_ipDKde"
      },
      "execution_count": null,
      "outputs": []
    },
    {
      "cell_type": "code",
      "source": [
        "#@title 47 Permutations II\n",
        "nums = [1,1,2] #@param{type:\"raw\"}\n",
        "\n",
        "class Solution:\n",
        "    def permuteUnique(self, nums: List[int]) -> List[List[int]]:\n",
        "        if not nums:\n",
        "            return []\n",
        "        path, res = [], []\n",
        "        nums, hashT = sorted(nums), [False]*len(nums)\n",
        "\n",
        "        def backtracking(nums: List[int]):\n",
        "            nonlocal hashT\n",
        "            pre = None\n",
        "            if len(path) == len(nums):\n",
        "                res.append(path[:])\n",
        "                return\n",
        "            for i in range(len(nums)):\n",
        "                if pre != None and (pre==nums[i]): \n",
        "                    # 因为存在0，所以不能用 if pre 来判断\n",
        "                    continue\n",
        "                if hashT[i] == True:\n",
        "                    continue\n",
        "    \n",
        "                path.append(nums[i])\n",
        "                hashT[i] = True # 同枝用过\n",
        "                backtracking(nums)\n",
        "                path.pop()\n",
        "                hashT[i] = False\n",
        "                pre = nums[i] # 同层用过 \n",
        "            return\n",
        "\n",
        "        backtracking(nums)\n",
        "        return res"
      ],
      "metadata": {
        "cellView": "form",
        "id": "00CcAdNcDV6S"
      },
      "execution_count": null,
      "outputs": []
    },
    {
      "cell_type": "code",
      "source": [
        "#@title 51 N-Queens\n",
        "n = 4 #@param{\"type: int\"}\n",
        "class Solution:\n",
        "    def solveNQueens(self, n: int) -> List[List[str]]:\n",
        "        if n == 1:\n",
        "            return [[\"Q\"], ]\n",
        "\n",
        "        res, path = [], []\n",
        "\n",
        "        def isValidSlash(row: int, col: int):\n",
        "            \"\"\"\n",
        "            检查统一斜线上的是否合格\n",
        "            :(row, col): 新填入的位置 \n",
        "\n",
        "            \"\"\"\n",
        "            nonlocal path\n",
        "            for i in range(1, row+1): # row-1 -> 0\n",
        "                if path[row-i] == col + i:\n",
        "                    return False\n",
        "                if path[row-i] == col - i:\n",
        "                    return False\n",
        "            return True\n",
        "\n",
        "\n",
        "        def backtracking(n: int):\n",
        "            if len(path) == n:\n",
        "                res.append(path[:])\n",
        "                return\n",
        "\n",
        "            row = len(path) \n",
        "            for i in range(n):\n",
        "                if i in path: # 同一列test\n",
        "                    continue\n",
        "                if row > 0 and not isValidSlash(row, i):\n",
        "                    continue\n",
        "                path.append(i)\n",
        "                backtracking(n)\n",
        "                path.pop()\n",
        "            return\n",
        "        backtracking(n)\n",
        "        resQ = []\n",
        "        for path in res:\n",
        "            pathQ = []\n",
        "            for p in path :\n",
        "                pQ = [\".\"] * n\n",
        "                pQ[p] = \"Q\"\n",
        "                pathQ.append(\"\".join(pQ))\n",
        "            resQ.append(pathQ[:])\n",
        "        return resQ \n",
        "\n"
      ],
      "metadata": {
        "cellView": "form",
        "id": "mncskWz0gMBD"
      },
      "execution_count": null,
      "outputs": []
    },
    {
      "cell_type": "code",
      "source": [
        "#@title 37 Sudoku Solver\n",
        "board = [[\"5\",\"3\",\".\",\".\",\"7\",\".\",\".\",\".\",\".\"],\n",
        "         [\"6\",\".\",\".\",\"1\",\"9\",\"5\",\".\",\".\",\".\"],\n",
        "         [\".\",\"9\",\"8\",\".\",\".\",\".\",\".\",\"6\",\".\"],\n",
        "         [\"8\",\".\",\".\",\".\",\"6\",\".\",\".\",\".\",\"3\"],\n",
        "         [\"4\",\".\",\".\",\"8\",\".\",\"3\",\".\",\".\",\"1\"],\n",
        "         [\"7\",\".\",\".\",\".\",\"2\",\".\",\".\",\".\",\"6\"],\n",
        "         [\".\",\"6\",\".\",\".\",\".\",\".\",\"2\",\"8\",\".\"],\n",
        "         [\".\",\".\",\".\",\"4\",\"1\",\"9\",\".\",\".\",\"5\"],\n",
        "         [\".\",\".\",\".\",\".\",\"8\",\".\",\".\",\"7\",\"9\"]]\n",
        "\n",
        "class Solution:\n",
        "    def solveSudoku(self, board: list[list[str]]) -> None:\n",
        "        \"\"\"\n",
        "        Do not return anything, modify board in-place instead.\n",
        "        \"\"\"\n",
        "        def getNext(board, row, col):\n",
        "            \"\"\" to get next space waiting to be filled\"\"\"\n",
        "            while row < 9:\n",
        "                while col < 9:\n",
        "                    if board[row][col] == \".\":\n",
        "                        return row, col\n",
        "                    col += 1\n",
        "                col = 0\n",
        "                row += 1\n",
        "            return None, None\n",
        "        def getValid(board, row, col) -> set:\n",
        "            \"\"\" to get the valid values set to reduce time\"\"\"\n",
        "            existed = set(board[row])\n",
        "            for i in range(9):\n",
        "                existed.update(board[i][col])\n",
        "            for i in range(3):\n",
        "                for j in range(3):\n",
        "                    existed.update(board[i+row//3*3][j+col//3*3])\n",
        "            return set([str(i) for i in range(1, 10)]) - existed\n",
        "        def backtracking(board, row, col) -> bool: \n",
        "            if row == None:\n",
        "                return True\n",
        "\n",
        "            valid = getValid(board, row, col)\n",
        "            if not valid:\n",
        "                return False\n",
        "            for i in valid:\n",
        "                board[row][col] = i\n",
        "                next_row, next_col = getNext(board, row, col)  \n",
        "                if backtracking(board, next_row, next_col): # if-return True\n",
        "                    return True\n",
        "                board[row][col] = \".\"\n",
        "            return False\n",
        "        row, col = getNext(board, 0, 0)\n",
        "        backtracking(board, row, col)\n",
        "        return board"
      ],
      "metadata": {
        "colab": {
          "base_uri": "https://localhost:8080/"
        },
        "id": "4zr6uYiTo4xd",
        "outputId": "ff3e8805-6570-4480-a9e7-78838a4798fd"
      },
      "execution_count": 7,
      "outputs": [
        {
          "output_type": "stream",
          "name": "stdout",
          "text": [
            ".\n",
            ".\n",
            ".\n",
            ".\n",
            ".\n",
            ".\n",
            ".\n",
            "6\n",
            ".\n"
          ]
        }
      ]
    }
  ]
}